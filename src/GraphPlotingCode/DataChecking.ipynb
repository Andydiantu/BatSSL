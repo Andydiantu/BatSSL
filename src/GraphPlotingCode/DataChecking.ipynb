{
 "cells": [
  {
   "cell_type": "code",
   "execution_count": 5,
   "metadata": {},
   "outputs": [],
   "source": [
    "from dfLoader import *\n",
    "from dataAug import *\n",
    "import pandas as pd\n",
    "import torch\n",
    "import torch.nn as nn\n",
    "import matplotlib.pyplot as plt\n",
    "import sklearn.model_selection as ms\n",
    "import random\n"
   ]
  },
  {
   "cell_type": "code",
   "execution_count": 36,
   "metadata": {},
   "outputs": [],
   "source": [
    "annAudioDic = {\n",
    "    'BritishBatCalls_MartynCooke_2018_1_sec_train_expert.json':'bat_data_martyn_2018/',\n",
    "    'BritishBatCalls_MartynCooke_2018_1_sec_test_expert.json':'bat_data_martyn_2018_test/',\n",
    "    'BritishBatCalls_MartynCooke_2019_1_sec_test_expert.json':'bat_data_martyn_2019_test/',\n",
    "    'BritishBatCalls_MartynCooke_2019_1_sec_train_expert.json':'bat_data_martyn_2019/',\n",
    "    'bcireland_expert.json':'bcireland/',\n",
    "    'sn_scot_nor_0.5_expert.json':'sn_scot_nor/',\n",
    "    'Echobank_train_expert.json':'echobank/',\n",
    "    'BCT_1_sec_train_expert.json':'BCT_1_sec/'\n",
    "}\n",
    "\n",
    "testAudioDic = {\n",
    "    'BritishBatCalls_MartynCooke_2018_1_sec_train_expert.json':'bat_data_martyn_2018/',\n",
    "    'BritishBatCalls_MartynCooke_2018_1_sec_test_expert.json':'bat_data_martyn_2018_test/',\n",
    "    'BritishBatCalls_MartynCooke_2019_1_sec_test_expert.json':'bat_data_martyn_2019_test/',\n",
    "    'BritishBatCalls_MartynCooke_2019_1_sec_train_expert.json':'bat_data_martyn_2019/'\n",
    "}\n",
    "\n",
    "\n",
    "trainAudioDic = {\n",
    "    'bcireland_expert.json':'bcireland/',\n",
    "    'sn_scot_nor_0.5_expert.json':'sn_scot_nor/',\n",
    "    'Echobank_train_expert.json':'echobank/',\n",
    "    'BCT_1_sec_train_expert.json':'BCT_1_sec/'\n",
    "}\n",
    "\n",
    "classesDic = {\n",
    "    'Myotis daubentonii': 0,\n",
    "    'Plecotus auritus': 1,\n",
    "    'Pipistrellus pipistrellus': 2,\n",
    "    # 'Bat': 3,\n",
    "    'Nyctalus leisleri': 3,\n",
    "    'Pipistrellus pygmaeus': 4,\n",
    "    'Myotis mystacinus': 5,\n",
    "    'Myotis nattereri': 6,\n",
    "    'Pipistrellus nathusii': 7,\n",
    "    'Nyctalus noctula': 8,\n",
    "    'Eptesicus serotinus': 9,\n",
    "    'Barbastellus barbastellus': 10,\n",
    "    'Myotis brandtii': 11,\n",
    "    'Myotis alcathoe': 12,\n",
    "    'Myotis bechsteinii': 13,\n",
    "    'Plecotus austriacus': 14,\n",
    "    'Rhinolophus ferrumequinum': 15,\n",
    "    'Rhinolophus hipposideros': 16\n",
    " }\n",
    "\n",
    "\n",
    "def dfLoader(ann_path, audio_dir, allData):\n",
    "\n",
    "    # Load annotation and convert to dataframe\n",
    "    data = json.load(open(ann_path))\n",
    "    df = pd.json_normalize(data, record_path=['annotation'], meta=['id'])\n",
    "\n",
    "    if(not allData):\n",
    "        df = df[df['class'] != 'Bat']\n",
    "\n",
    "    trimInTime, trimOutTime = calInOutTime(df)\n",
    "    df['trimInTime'] = trimInTime\n",
    "    df['trimOutTime'] = trimOutTime\n",
    "\n",
    "    trimmed_specs = trimAudio(df, audio_dir)\n",
    "    df['data'] = trimmed_specs\n",
    "\n",
    "    specLength = []\n",
    "    for index, row in df.iterrows():\n",
    "        specLength.append(row['data'].shape[1])\n",
    "    df['len'] = specLength\n",
    "\n",
    "    # Delete data shorter than 20 ms\n",
    "    df = df[df['len'] ==32]\n",
    "\n",
    "    if(not allData):\n",
    "        numLabels = addNumLabels(df)\n",
    "        df['label'] = numLabels\n",
    "\n",
    "    resizedSpecs = reSizeSpec(df)\n",
    "    df['data'] = resizedSpecs\n",
    "\n",
    "    return df"
   ]
  },
  {
   "cell_type": "code",
   "execution_count": 3,
   "metadata": {},
   "outputs": [],
   "source": [
    "def getDataLoader(audioDic):\n",
    "\n",
    "    dfList = []\n",
    "\n",
    "#     if ifTrain:\n",
    "#         audioDic = trainAudioDic\n",
    "#     else:\n",
    "#         audioDic = testAudioDic\n",
    "\n",
    "    for annName in audioDic:\n",
    "        annPath = '../annotations/' + annName\n",
    "        audioPath = '../audio/' + audioDic[annName]\n",
    "        df = dfLoader(annPath, audioPath,False)\n",
    "        dfList.append(df)\n",
    "\n",
    "    finalDF = pd.concat(dfList)\n",
    "    return finalDF"
   ]
  },
  {
   "cell_type": "code",
   "execution_count": null,
   "metadata": {},
   "outputs": [],
   "source": []
  },
  {
   "cell_type": "code",
   "execution_count": 4,
   "metadata": {},
   "outputs": [],
   "source": [
    "all_DF = getDataLoader(annAudioDic)\n",
    "# train_DF = getDataLoader(trainAudioDic)\n",
    "# test_DF = getDataLoader(testAudioDic)"
   ]
  },
  {
   "cell_type": "markdown",
   "metadata": {},
   "source": [
    "# File based train/test splite"
   ]
  },
  {
   "cell_type": "code",
   "execution_count": null,
   "metadata": {},
   "outputs": [],
   "source": [
    "for annName in audioDic:\n",
    "        annPath = '../annotations/' + annName\n",
    "        audioPath = '../audio/' + audioDic[annName]\n",
    "        df = dfLoader(annPath, audioPath, allData = False)\n",
    "        noises = getNoiseList(df, audioPath, 300)\n",
    "        noiseList.extend(noises)"
   ]
  },
  {
   "cell_type": "code",
   "execution_count": 32,
   "metadata": {},
   "outputs": [],
   "source": [
    "def genNoiseList(noiseCount):\n",
    "\n",
    "    noiseList = []\n",
    "\n",
    "    for annName in annAudioDic:\n",
    "        annPath = '../annotations/' + annName\n",
    "        audioPath = '../audio/' + annAudioDic[annName]\n",
    "        df = dfLoader(annPath, audioPath, allData = False)\n",
    "        noises = getNoiseList(df, audioPath, int(noiseCount/8))\n",
    "        noiseList.extend(noises)\n",
    "\n",
    "    return noiseList"
   ]
  },
  {
   "cell_type": "code",
   "execution_count": 73,
   "metadata": {
    "scrolled": false
   },
   "outputs": [],
   "source": [
    "dataAug = False\n",
    "batchSize = 32\n",
    "\n",
    "classNumDic = {}\n",
    "for index, value in all_DF['class'].value_counts().items():\n",
    "    classNumDic[index] = value * 0.75\n",
    "\n",
    "classNumDicDS = {}\n",
    "dataCount = 302\n",
    "\n",
    "for i in classes:\n",
    "    classNumDicDS[i] = dataCount\n",
    "    \n",
    "classDataDic = {}\n",
    "\n",
    "X_train = []\n",
    "y_train = []\n",
    "\n",
    "X_test = []\n",
    "y_test = []\n",
    "\n",
    "\n",
    "for file in all_DF['id'].unique():\n",
    "    curr_df = all_DF[(all_DF['id'] == file)]\n",
    "    for index, row in curr_df.iterrows(): \n",
    "\n",
    "        if(classNumDic[row['class']] > 0):\n",
    "\n",
    "            train_files.append(file)\n",
    "\n",
    "            if(classNumDicDS[row['class']] > 0):\n",
    "\n",
    "                X_train.append(row['data'])\n",
    "                y_train.append(row['label'])\n",
    "                classNumDicDS[row['class']] = classNumDicDS[row['class']]-1\n",
    "\n",
    "            classNumDic[row['class']] = classNumDic[row['class']]-1\n",
    "        else:\n",
    "            X_test.append(row['data'])\n",
    "            y_test.append(row['label'])\n",
    "            \n",
    "noiseList = genNoiseList(dataCount)\n",
    "X_train.extend(noiseList)\n",
    "y_train.extend([17]*len(noiseList))\n",
    "\n",
    "X_train = torch.Tensor(np.array(X_train))\n",
    "y_train = torch.Tensor(np.array(y_train))\n",
    "\n",
    "X_test = torch.Tensor(np.array(X_test))\n",
    "y_test = torch.Tensor(np.array(y_test))\n",
    "\n",
    "if dataAug:\n",
    "    augData = genAugData(X_train,3)\n",
    "    print(f'Data Aug size is {augData.size()}')\n",
    "\n",
    "    X_train = torch.concat((X_train,augData))\n",
    "    y_train = torch.concat((y_train,y_train,y_train,y_train))\n",
    "\n",
    "datasetTensor = TensorDataset(X_train,y_train)\n",
    "trainLoader = DataLoader(datasetTensor, batch_size = batchSize, shuffle=True)\n",
    "\n",
    "datasetTensor = TensorDataset(X_test,y_test)\n",
    "testLoader = DataLoader(datasetTensor, batch_size = batchSize, shuffle=True)\n"
   ]
  },
  {
   "cell_type": "code",
   "execution_count": 77,
   "metadata": {},
   "outputs": [
    {
     "data": {
      "text/plain": [
       "7810"
      ]
     },
     "execution_count": 77,
     "metadata": {},
     "output_type": "execute_result"
    }
   ],
   "source": [
    "len(y_test)"
   ]
  },
  {
   "cell_type": "code",
   "execution_count": 80,
   "metadata": {},
   "outputs": [
    {
     "name": "stdout",
     "output_type": "stream",
     "text": [
      "number of sample of class 0 is 1584\n",
      "number of sample of class 1 is 280\n",
      "number of sample of class 2 is 472\n",
      "number of sample of class 3 is 287\n",
      "number of sample of class 4 is 586\n",
      "number of sample of class 5 is 689\n",
      "number of sample of class 6 is 656\n",
      "number of sample of class 7 is 360\n",
      "number of sample of class 8 is 100\n",
      "number of sample of class 9 is 646\n",
      "number of sample of class 10 is 246\n",
      "number of sample of class 11 is 484\n",
      "number of sample of class 12 is 216\n",
      "number of sample of class 13 is 220\n",
      "number of sample of class 14 is 210\n",
      "number of sample of class 15 is 409\n",
      "number of sample of class 16 is 365\n"
     ]
    }
   ],
   "source": [
    "for i in range(17):\n",
    "    print(f'number of sample of class {i} is {y_test.tolist().count(i)}')"
   ]
  },
  {
   "cell_type": "code",
   "execution_count": 50,
   "metadata": {},
   "outputs": [
    {
     "name": "stdout",
     "output_type": "stream",
     "text": [
      "1918\n"
     ]
    }
   ],
   "source": [
    "myset2 = set(train_files)\n",
    "print(len(myset2))"
   ]
  },
  {
   "cell_type": "code",
   "execution_count": 51,
   "metadata": {},
   "outputs": [
    {
     "data": {
      "text/plain": [
       "True"
      ]
     },
     "execution_count": 51,
     "metadata": {},
     "output_type": "execute_result"
    }
   ],
   "source": [
    "myset2 == myset"
   ]
  },
  {
   "cell_type": "code",
   "execution_count": 52,
   "metadata": {},
   "outputs": [
    {
     "data": {
      "text/plain": [
       "5134"
      ]
     },
     "execution_count": 52,
     "metadata": {},
     "output_type": "execute_result"
    }
   ],
   "source": [
    "len(X_train)"
   ]
  },
  {
   "cell_type": "code",
   "execution_count": 53,
   "metadata": {},
   "outputs": [
    {
     "data": {
      "text/plain": [
       "7810"
      ]
     },
     "execution_count": 53,
     "metadata": {},
     "output_type": "execute_result"
    }
   ],
   "source": [
    "len(X_test)"
   ]
  },
  {
   "cell_type": "code",
   "execution_count": 35,
   "metadata": {
    "scrolled": true
   },
   "outputs": [
    {
     "name": "stdout",
     "output_type": "stream",
     "text": [
      "1918\n"
     ]
    }
   ],
   "source": [
    "myset = set(train_files)\n",
    "print(len(myset))"
   ]
  },
  {
   "cell_type": "code",
   "execution_count": null,
   "metadata": {},
   "outputs": [],
   "source": [
    "for i in classes:\n",
    "    classNumDic[i] = dataCount\n",
    "\n",
    "classNumDic = {}\n",
    "for index, value in all_DF['class'].value_counts().items():\n",
    "    classNumDic[index] = value * 0.75"
   ]
  },
  {
   "cell_type": "code",
   "execution_count": 34,
   "metadata": {},
   "outputs": [],
   "source": [
    "dataAug = True\n",
    "batchSize = 32\n",
    "dataCount = 302\n",
    "\n",
    "\n",
    "def genTrainTestLoader(batchSize, dataAug, dataCount, testAmount):\n",
    "\n",
    "    classNumDic = {}\n",
    "    for index, value in all_DF['class'].value_counts().items():\n",
    "        classNumDic[index] = value * (1-testAmount)\n",
    "\n",
    "    classNumDicDS = {}\n",
    "    classDataDic = {}\n",
    "\n",
    "    for i in classes:\n",
    "        classNumDicDS[i] = dataCount\n",
    "\n",
    "    X_train = []\n",
    "    y_train = []\n",
    "\n",
    "    X_test = []\n",
    "    y_test = []\n",
    "\n",
    "\n",
    "    for file in all_DF['id'].unique():\n",
    "        curr_df = all_DF[(all_DF['id'] == file)]\n",
    "        for index, row in curr_df.iterrows(): \n",
    "            \n",
    "            rowClass = row['class']\n",
    "\n",
    "            if(classNumDic[row['class']] > 0):\n",
    "\n",
    "                \n",
    "                if rowClass in classDataDic:\n",
    "#                     print(rowClass)\n",
    "#                     print(rowClass in classDataDic)\n",
    "#                     print(len(classDataDic[rowClass]))\n",
    "                    currClassData = classDataDic[rowClass].append(row['data'])\n",
    "#                     classDataDic[rowClass] = currClassData\n",
    "                else:\n",
    "                    classDataDic[rowClass] = [row['data']]\n",
    "\n",
    "#                 if(classNumDicDS[row['class']] > 0):\n",
    "\n",
    "#                     X_train.append(row['data'])\n",
    "#                     y_train.append(row['label'])\n",
    "#                     classNumDicDS[row['class']] = classNumDicDS[row['class']]-1\n",
    "\n",
    "                classNumDic[row['class']] = classNumDic[row['class']]-1\n",
    "            else:\n",
    "                X_test.append(row['data'])\n",
    "                y_test.append(row['label'])\n",
    "                \n",
    "    for key in classDataDic:\n",
    "        sampled_class_data = random.sample(classDataDic[key], dataCount)\n",
    "        X_train.extend(sampled_class_data)\n",
    "        y_train.extend([key]*dataCount)\n",
    "\n",
    "    noiseList = genNoiseList(dataCount)\n",
    "    X_train.extend(noiseList)\n",
    "    y_train.extend([17]*len(noiseList))\n",
    "\n",
    "    X_train = torch.Tensor(np.array(X_train))\n",
    "    y_train = torch.Tensor(np.array(y_train))\n",
    "\n",
    "    X_test = torch.Tensor(np.array(X_test))\n",
    "    y_test = torch.Tensor(np.array(y_test))\n",
    "    \n",
    "    \n",
    "    print(len(X_train))\n",
    "    print(len(y_train))\n",
    "\n",
    "    for i in range(17):\n",
    "        print(f'number of sample of class {i} is {y_test.tolist().count(i)}')\n",
    "\n",
    "    for i in range(17):\n",
    "        print(f'number of sample of class {i} is {y_train.tolist().count(i)}')\n",
    "\n",
    "\n",
    "    if dataAug:\n",
    "        augData = genAugData(X_train,3)\n",
    "        print(f'Data Aug size is {augData.size()}')\n",
    "\n",
    "        X_train = torch.concat((X_train,augData))\n",
    "        y_train = torch.concat((y_train,y_train,y_train,y_train))\n",
    "\n",
    "    datasetTensor = TensorDataset(X_train,y_train)\n",
    "    trainLoader = DataLoader(datasetTensor, batch_size = batchSize, shuffle=True)\n",
    "\n",
    "    datasetTensor = TensorDataset(X_test,y_test)\n",
    "    testLoader = DataLoader(datasetTensor, batch_size = batchSize, shuffle=True)\n",
    "    \n",
    "    return trainLoader, testLoader\n"
   ]
  },
  {
   "cell_type": "code",
   "execution_count": 35,
   "metadata": {},
   "outputs": [
    {
     "ename": "TypeError",
     "evalue": "can't convert np.ndarray of type numpy.str_. The only supported types are: float64, float32, float16, complex64, complex128, int64, int32, int16, int8, uint8, and bool.",
     "output_type": "error",
     "traceback": [
      "\u001b[0;31m---------------------------------------------------------------------------\u001b[0m",
      "\u001b[0;31mTypeError\u001b[0m                                 Traceback (most recent call last)",
      "\u001b[0;32m<ipython-input-35-663a4e0948c8>\u001b[0m in \u001b[0;36m<module>\u001b[0;34m\u001b[0m\n\u001b[0;32m----> 1\u001b[0;31m \u001b[0mgenTrainTestLoader\u001b[0m\u001b[0;34m(\u001b[0m\u001b[0mbatchSize\u001b[0m \u001b[0;34m=\u001b[0m \u001b[0;36m32\u001b[0m\u001b[0;34m,\u001b[0m \u001b[0mdataAug\u001b[0m \u001b[0;34m=\u001b[0m \u001b[0;32mFalse\u001b[0m\u001b[0;34m,\u001b[0m \u001b[0mdataCount\u001b[0m \u001b[0;34m=\u001b[0m \u001b[0;36m302\u001b[0m\u001b[0;34m,\u001b[0m \u001b[0mtestAmount\u001b[0m \u001b[0;34m=\u001b[0m \u001b[0;36m0.25\u001b[0m\u001b[0;34m)\u001b[0m\u001b[0;34m\u001b[0m\u001b[0;34m\u001b[0m\u001b[0m\n\u001b[0m",
      "\u001b[0;32m<ipython-input-34-a67429fc3061>\u001b[0m in \u001b[0;36mgenTrainTestLoader\u001b[0;34m(batchSize, dataAug, dataCount, testAmount)\u001b[0m\n\u001b[1;32m     62\u001b[0m \u001b[0;34m\u001b[0m\u001b[0m\n\u001b[1;32m     63\u001b[0m     \u001b[0mX_train\u001b[0m \u001b[0;34m=\u001b[0m \u001b[0mtorch\u001b[0m\u001b[0;34m.\u001b[0m\u001b[0mTensor\u001b[0m\u001b[0;34m(\u001b[0m\u001b[0mnp\u001b[0m\u001b[0;34m.\u001b[0m\u001b[0marray\u001b[0m\u001b[0;34m(\u001b[0m\u001b[0mX_train\u001b[0m\u001b[0;34m)\u001b[0m\u001b[0;34m)\u001b[0m\u001b[0;34m\u001b[0m\u001b[0;34m\u001b[0m\u001b[0m\n\u001b[0;32m---> 64\u001b[0;31m     \u001b[0my_train\u001b[0m \u001b[0;34m=\u001b[0m \u001b[0mtorch\u001b[0m\u001b[0;34m.\u001b[0m\u001b[0mTensor\u001b[0m\u001b[0;34m(\u001b[0m\u001b[0mnp\u001b[0m\u001b[0;34m.\u001b[0m\u001b[0marray\u001b[0m\u001b[0;34m(\u001b[0m\u001b[0my_train\u001b[0m\u001b[0;34m)\u001b[0m\u001b[0;34m)\u001b[0m\u001b[0;34m\u001b[0m\u001b[0;34m\u001b[0m\u001b[0m\n\u001b[0m\u001b[1;32m     65\u001b[0m \u001b[0;34m\u001b[0m\u001b[0m\n\u001b[1;32m     66\u001b[0m     \u001b[0mX_test\u001b[0m \u001b[0;34m=\u001b[0m \u001b[0mtorch\u001b[0m\u001b[0;34m.\u001b[0m\u001b[0mTensor\u001b[0m\u001b[0;34m(\u001b[0m\u001b[0mnp\u001b[0m\u001b[0;34m.\u001b[0m\u001b[0marray\u001b[0m\u001b[0;34m(\u001b[0m\u001b[0mX_test\u001b[0m\u001b[0;34m)\u001b[0m\u001b[0;34m)\u001b[0m\u001b[0;34m\u001b[0m\u001b[0;34m\u001b[0m\u001b[0m\n",
      "\u001b[0;31mTypeError\u001b[0m: can't convert np.ndarray of type numpy.str_. The only supported types are: float64, float32, float16, complex64, complex128, int64, int32, int16, int8, uint8, and bool."
     ]
    }
   ],
   "source": [
    "genTrainTestLoader(batchSize = 32, dataAug = False, dataCount = 302, testAmount = 0.25)"
   ]
  },
  {
   "cell_type": "code",
   "execution_count": 48,
   "metadata": {},
   "outputs": [],
   "source": [
    "def genAllDataFrame(audioDic):\n",
    "    dfList = []\n",
    "\n",
    "    for annName in audioDic:\n",
    "        annPath = '../annotations/' + annName\n",
    "        audioPath = '../audio/' + audioDic[annName]\n",
    "        df = dfLoader(annPath, audioPath,False)\n",
    "        dfList.append(df)\n",
    "\n",
    "    all_DF = pd.concat(dfList)\n",
    "\n",
    "    return all_DF\n",
    "\n",
    "def genNoiseList(noiseCount):\n",
    "\n",
    "    noiseList = []\n",
    "\n",
    "    for annName in annAudioDic:\n",
    "        annPath = '../annotations/' + annName\n",
    "        audioPath = '../audio/' + annAudioDic[annName]\n",
    "        df = dfLoader(annPath, audioPath, allData = False)\n",
    "        noises = getNoiseList(df, audioPath, int(noiseCount/8))\n",
    "        noiseList.extend(noises)\n",
    "\n",
    "    return noiseList\n",
    "\n",
    "def genTrainTestLoader(batchSize, dataAug, dataCount, testAmount):\n",
    "\n",
    "    \n",
    "    all_DF = genAllDataFrame(annAudioDic)\n",
    "\n",
    "    classNumDic = {}\n",
    "    for index, value in all_DF['class'].value_counts().items():\n",
    "        classNumDic[index] = value * (1-testAmount)\n",
    "\n",
    "    classNumDicDS = {}\n",
    "\n",
    "    for i in classes:\n",
    "        classNumDicDS[i] = dataCount\n",
    "        \n",
    "    classDataDic = {}\n",
    "\n",
    "    X_train = []\n",
    "    y_train = []\n",
    "\n",
    "    X_test = []\n",
    "    y_test = []\n",
    "    \n",
    "    \n",
    "    train_files = []\n",
    "    \n",
    "    files = all_DF['id'].unique()\n",
    "    \n",
    "    random.shuffle(files)\n",
    "    for file in files:\n",
    "        curr_df = all_DF[(all_DF['id'] == file)]\n",
    "        train_files.append(file)\n",
    "\n",
    "        for index, row in curr_df.iterrows(): \n",
    "            \n",
    "            rowClass = row['class']\n",
    "            \n",
    "            if(classNumDic[rowClass] > 0):\n",
    "                \n",
    "                if rowClass in classDataDic:\n",
    "                    \n",
    "                    classDataDic[rowClass].append(row['data'])\n",
    "                else:\n",
    "                    classDataDic[rowClass] = [row['data']]\n",
    "\n",
    "#                 if(classNumDicDS[rowClass] > 0):\n",
    "\n",
    "#                     X_train.append(row['data'])\n",
    "#                     y_train.append(row['label'])\n",
    "#                     classNumDicDS[rowClass] = classNumDicDS[rowClass]-1\n",
    "\n",
    "                classNumDic[rowClass] = classNumDic[rowClass]-1\n",
    "            else:\n",
    "                X_test.append(row['data'])\n",
    "                y_test.append(row['label'])\n",
    "                \n",
    "    for key in classDataDic:\n",
    "        sampled_class_data = random.sample(classDataDic[key], dataCount)\n",
    "        X_train.extend(sampled_class_data)\n",
    "        y_train.extend([classesDic[key]]*dataCount)\n",
    "        \n",
    "\n",
    "    noiseList = genNoiseList(dataCount)\n",
    "    X_train.extend(noiseList)\n",
    "    y_train.extend([17]*len(noiseList))\n",
    "\n",
    "    X_train = torch.Tensor(np.array(X_train))\n",
    "    y_train = torch.Tensor(np.array(y_train))\n",
    "\n",
    "    X_test = torch.Tensor(np.array(X_test))\n",
    "    y_test = torch.Tensor(np.array(y_test))\n",
    "\n",
    "#     print(len(X_train))\n",
    "#     print(len(y_train))\n",
    "\n",
    "#     for i in range(17):\n",
    "#         print(f'number of sample of class {i} is {y_test.tolist().count(i)}')\n",
    "\n",
    "#     for i in range(17):\n",
    "#         print(f'number of sample of class {i} is {y_train.tolist().count(i)}')\n",
    "\n",
    "#     if dataAug:\n",
    "#         augData = genAugData(X_train,3)\n",
    "#         print(f'Data Aug size is {augData.size()}')\n",
    "\n",
    "        X_train = torch.concat((X_train,augData))\n",
    "        y_train = torch.concat((y_train,y_train,y_train,y_train))\n",
    "\n",
    "    datasetTensor = TensorDataset(X_train,y_train)\n",
    "    trainLoader = DataLoader(datasetTensor, batch_size = batchSize, shuffle=True)\n",
    "\n",
    "    datasetTensor = TensorDataset(X_test,y_test)\n",
    "    testLoader = DataLoader(datasetTensor, batch_size = batchSize, shuffle=True)\n",
    "    \n",
    "#     print(train_files)\n",
    "    \n",
    "    return trainLoader, testLoader\n"
   ]
  },
  {
   "cell_type": "code",
   "execution_count": 49,
   "metadata": {
    "scrolled": false
   },
   "outputs": [
    {
     "name": "stdout",
     "output_type": "stream",
     "text": [
      "5430\n",
      "5430\n",
      "number of sample of class 0 is 1584\n",
      "number of sample of class 1 is 280\n",
      "number of sample of class 2 is 472\n",
      "number of sample of class 3 is 287\n",
      "number of sample of class 4 is 586\n",
      "number of sample of class 5 is 689\n",
      "number of sample of class 6 is 656\n",
      "number of sample of class 7 is 360\n",
      "number of sample of class 8 is 100\n",
      "number of sample of class 9 is 646\n",
      "number of sample of class 10 is 246\n",
      "number of sample of class 11 is 484\n",
      "number of sample of class 12 is 216\n",
      "number of sample of class 13 is 220\n",
      "number of sample of class 14 is 210\n",
      "number of sample of class 15 is 409\n",
      "number of sample of class 16 is 365\n",
      "number of sample of class 0 is 302\n",
      "number of sample of class 1 is 302\n",
      "number of sample of class 2 is 302\n",
      "number of sample of class 3 is 302\n",
      "number of sample of class 4 is 302\n",
      "number of sample of class 5 is 302\n",
      "number of sample of class 6 is 302\n",
      "number of sample of class 7 is 302\n",
      "number of sample of class 8 is 302\n",
      "number of sample of class 9 is 302\n",
      "number of sample of class 10 is 302\n",
      "number of sample of class 11 is 302\n",
      "number of sample of class 12 is 302\n",
      "number of sample of class 13 is 302\n",
      "number of sample of class 14 is 302\n",
      "number of sample of class 15 is 302\n",
      "number of sample of class 16 is 302\n",
      "['eb00153_0_1.0.wav', 'eb00192_0_1.0.wav', 'NYCNOC_20190812_210704_0_1.0.wav', 'RHIHIP_20180708_215851-RHIHIP-LR_0_1.0.wav', 'PipPip_D-20180620_214342-Pippip_0_1.0.wav', 'MYOBEC_20180615_220328-MYOBEC-LR_0_1.0.wav', 'RHIFER_20180627_214826-RHIFER-LR_0_1.0.wav', 'myotis_daubentonii_24740793.wav', '00198_myotis_nattereri_0_1.0.wav', 'RHIFER_20180627_222115-RHIFER-LR_0_1.0.wav', 'EPTSER_EPTSER-20190801_210501_0_1.0.wav', 'PipPyg_HAN-20180502_195834-PIPPYG-LR_0_1.0.wav', 'Nyclei_Ireland_S2334912213_20180530_220106_nyclei_0_1.0.wav', 'RHIFER_20180627_215332-RHIFER-LR_0_1.0.wav', 'myotis_mystacinus_24740432.wav', '00163_myotis_nattereri_0_1.0.wav', 'RHIFER_20180627_214746-RHIFER-LR_0_1.0.wav', 'RHIHIP_20180708_215516-RHIHIP-LR_0_1.0.wav', 'SURVEYTM3598_20160703_032811_nycnoc_0_0.5.wav', 'eb00552_0_1.0.wav', 'eb00465_0_1.0.wav', 'PipPyg_HAN-20180502_195940-PIPPYG-LR_0_1.0.wav', '00055_plecotus_auritus_0_1.0.wav', 'RHIHIP_20180708_215307-RHIHIP-LR_0_1.0.wav', 'Nyclei_Ireland_S2325812189_20180531_032558_nyclei_0_1.0.wav', 'MYOBRA_20180606_220840-MYOBRA-LR_0_1.0.wav', 'SURVEYTL7893_20160912_004258_nyclei_0_0.5.wav', 'eb01582_0_1.0.wav', 'MYOMYS_20180619_213518-MYOMYS-LR_0_1.0.wav', 'eb01026_0_1.0.wav', 'eb00054_0_1.0.wav', 'eb00563_0_1.0.wav', 'eb00995_0_1.0.wav', 'PipPyg_HANN-20180502_201408-PIPPYG-LR_0_1.0.wav', 'MYODAU_20180625_220139-MYODAU-LR_0_1.0.wav', 'MYOBEC_MYOBEC-20190621_215404_0_1.0.wav', 'RHIHIP_20180708_220856-RHIHIP-LR_0_1.0.wav', 'eb00826_0_1.0.wav', 'PLEAUR_PLEAUR-20190608_222410_0_1.0.wav', 'RHIFER_20180627_214436-RHIFER-LR_0_1.0.wav', '00160_myotis_nattereri_0_1.0.wav', 'Nyclei_Ireland_S2325812189_20180601_022419_nyclei_0_1.0.wav', 'nyctalus_leisleri_24740081.wav', 'MYOBEC_MYOBEC-20190621_215816_0_1.0.wav', 'eb00305_0_1.0.wav', 'SURVEYNS3142_20160713_002717_myonat_0_0.5.wav', '15060049_0_1.0.wav', '00046_myotis_brandtii_0_1.0.wav', 'SURVEYTG0143_20160526_225907_barbar_0_0.5.wav', 'eb00841_0_1.0.wav', 'eb00681_0_1.0.wav', 'MYOBEC_MYOBEC-20190621_221308_0_1.0.wav', 'eb01423_0_1.0.wav', 'myotis_daubentonii_24740499.wav', 'TG1041_20160912_201114_0_0.5.wav', 'EPTSER_20180530_213052-EPTSER-LR_0_1.0.wav', 'EPTSER_20180612_214312-EPTSER-LR_0_1.0.wav', 'MYOBRA_20180607_222052-MYOBRA-LR_0_1.0.wav', '00292_myotis_mystacinus_0_1.0.wav', 'MYOBEC_20170805_210837-MYOBEC-LR_0_1.0.wav', 'RHIHIP_20180708_215604-RHIHIP-LR_0_1.0.wav', 'eb00258_0_1.0.wav', 'SURVEYTF5320_20160722_030221_0_0.5.wav', 'eb00504_0_1.0.wav', 'MYOMYS_20180601_213508-MYOMYS-LR_0_1.0.wav', 'SURVEYNX1160_20160816_230255_pipnat_0_0.5.wav', 'MYOBRA_20180607_222554-MYOBRA-LR_0_1.0.wav', 'EPTSER_EPTSER-20190801_211920_0_1.0.wav', 'PLEAUR_PLEAUR-20190608_222530_0_1.0.wav', 'Nyclei_Ireland_S3610715549_20180528_230615_nyclei_0_1.0.wav', 'EPTSER_20180530_213142-EPTSER-LR_0_1.0.wav', 'PLEAUS_PLEAUS-20190819_214400_0_1.0.wav', 'myotis_nattereri_24741016.wav', 'SURVEYTG1703_20160606_233511_eptser_0_0.5.wav', 'EPTSER_20180530_213202-EPTSER-LR_0_1.0.wav', 'MYOBEC_20170805_213200-MYOBEC-LR_0_1.0.wav', 'eb01269_0_1.0.wav', 'PLEAUS_PLEAUS-20190819_205942_0_1.0.wav', 'eb00510_0_1.0.wav', 'EPTSER_EPTSER-20190801_211425_0_1.0.wav', 'RHIFER_20180627_215859-RHIFER-LR_0_1.0.wav', 'eb00098_0_1.0.wav', 'myotis_nattereri_24740805.wav', 'eb01196_0_1.0.wav', 'myotis_nattereri_24740698.wav', 'SURVEYTF6322_20160914_052648_pleaur_0_0.5.wav', 'RHIFER_20180627_214846-RHIFER-LR_0_1.0.wav', 'SURVEYNS4624_20160831_232415_myodau_0_0.5.wav', 'SURVEYNT0938_20160619_024722_0_0.5.wav', 'Nyclei_Ireland_S2334912213_20180531_012900_nyclei_0_1.0.wav', 'SURVEYNT0901_20160913_000652_nycnoc_0_0.5.wav', 'MYODAU_20180625_220055-MYODAU-LR_0_1.0.wav', 'SURVEYTM3598_20160704_223704_nycnoc_0_0.5.wav', 'EPTSER_EPTSER-20190724_212627_0_1.0.wav', 'myotis_daubentonii_24740759.wav', 'PipPyg_HAN-20180502_212030-PIPPYG-LR_0_1.0.wav', '00081_pipistrellus_pipistrellus_0_1.0.wav', 'pipistrellus_nathusii_24740011.wav', 'MYOBEC_20170805_213306-MYOBEC-LR_0_1.0.wav', 'BARBAR_20180723_215542-BARBAR-LR_0_1.0.wav', 'EPTSER_EPTSER-20190801_210520_0_1.0.wav', 'PipPyg_HANN-20180502_202314-PIPPYG-LR_0_1.0.wav', 'myotis_daubentonii_24740753.wav', 'eb00491_0_1.0.wav', 'eb00500_0_1.0.wav', '00070_pipistrellus_pipistrellus_0_1.0.wav', 'myotis_daubentonii_24740736.wav', 'BARBAR_20180723_213846-BARBAR-LR_0_1.0.wav', 'pipistrellus_nathusii_24740483.wav', 'MYOMYS_20170701_214546-MYOMYS-LR_0_1.0.wav', 'NYCNOC_20190812_210547_0_1.0.wav', 'EPTSER_EPTSER-20190801_213226_0_1.0.wav', 'myotis_daubentonii_24740747.wav', 'MYOBEC_MYOBEC-20190621_213714_0_1.0.wav', 'eb01033_0_1.0.wav', 'MYODAU_20170803_213315-MYODAU-LR_0_1.0.wav', 'SURVEYTL8582_20160919_191924_nyclei_0_0.5.wav', 'PipPip_D-20180620_214936-Pippip_0_1.0.wav', 'myotis_daubentonii_24740371.wav', 'SURVEYTM2297_20160717_040017_0_0.5.wav', 'myotis_daubentonii_24740757.wav', 'SURVEYNX1160_20160817_214647_pipnat_0_0.5.wav', 'RHIFER_20180627_220018-RHIFER-LR_0_1.0.wav', 'SURVEYNT1915_20160917_233718_myonat_0_0.5.wav', 'BARBAR_20180723_213830-BARBAR-LR_0_1.0.wav', 'EPTSER_EPTSER-20190801_211614_0_1.0.wav', 'myotis_mystacinus_24740431.wav', 'myotis_daubentonii_24740392.wav', 'Nyclei_Ireland_S2325812189_20180531_224211_nyclei_0_1.0.wav', 'PipPip_D-20180620_214414-Pippip_0_1.0.wav', 'EPTSER_EPTSER-20190801_213145_0_1.0.wav', 'RHIHIP_20180708_220251-RHIHIP-LR_0_1.0.wav', 'MYOMYS_MYOMYS-20190625_213400_0_1.0.wav', 'MYOBRA_20180606_221856-MYOBRA-LR_0_1.0.wav', 'SURVEYNT0285_20160623_224834_pipnat_0_0.5.wav', 'MYODAU_20180625_215827-MYODAU-LR_0_1.0.wav', 'EPTSER_EPTSER-20190801_212203_0_1.0.wav', 'EPTSER_EPTSER-20190729_212104_0_1.0.wav', 'myotis_daubentonii_24740748.wav', 'EPTSER_20180530_213516-EPTSER-LR_0_1.0.wav', 'MYOBEC_20170805_211750-MYOBEC-LR_0_1.0.wav', 'eb00746_0_1.0.wav', 'MYOALC_MYOALC-20190527_200226_0_1.0.wav', 'RHIHIP_20180708_220612-RHIHIP-LR_0_1.0.wav', 'eb00588_0_1.0.wav', 'SURVEYTG4218_20160813_035744_Pipnat_0_0.5.wav', 'eb01257_0_1.0.wav', 'Nyclei_Ireland_S3610715549_20180529_230436_nyclei_0_1.0.wav', 'eb00161_0_1.0.wav', 'EPTSER_EPTSER-20190801_212144_0_1.0.wav', 'MYODAU_20180625_220810-MYODAU-LR_0_1.0.wav', 'SURVEYTF7199_20160705_023726_eptser_0_0.5.wav', '00235_eptesicus_serotinus_0_1.0.wav', 'MYOBRA_20180606_220946-MYOBRA-LR_0_1.0.wav', 'PipPip_C-20180620_215354-Pippip_0_1.0.wav', 'MYOBRA_20180606_221502-MYOBRA-LR_0_1.0.wav', 'RHIHIP_20180708_215050-RHIHIP-LR_0_1.0.wav', 'nyctalus_leisleri_24740439.wav', 'myotis_mystacinus_24740127.wav', 'RHIHIP_20180708_215126-RHIHIP-LR_0_1.0.wav', 'SURVEYNR9938_20160523_232633_myonat_0_0.5.wav', 'RHIFER_20180627_214342-RHIFER-LR_0_1.0.wav', 'SURVEYTF6422_20160826_204625_nycnoc_0_0.5.wav', 'eb00259_0_1.0.wav', '00002_myotis_alcathoe_0_1.0.wav', 'MYODAU_20180625_215342-MYODAU-LR_0_1.0.wav', 'MYOBRA_20180607_220842-MYOBRA-LR_0_1.0.wav', '00017_barbastellus_barbastellus_0_1.0.wav', 'SURVEYTL7798_20160919_031635_myodau_0_0.5.wav', 'EPTSER_EPTSER-20190801_213204_0_1.0.wav', 'RHIHIP_20180708_214524-RHIHIP-LR_0_1.0.wav', 'plecotus_auritus_24740686.wav', 'SURVEYNT0810_20160915_045332_pleaur_0_0.5.wav', 'MYOBRA_20180607_221736-MYOBRA-LR_0_1.0.wav', 'MYOBEC_20170805_213030-MYOBEC-LR_0_1.0.wav', 'EPTSER_EPTSER-20190801_212110_0_1.0.wav', 'pipistrellus_nathusii_24740764.wav', 'MYOBRA_20180607_221342-MYOBRA-LR_0_1.0.wav', 'MYODAU_20180625_215320-MYODAU-LR_0_1.0.wav', 'RHIHIP_20180707_215640-RHIHIP-LR_0_1.0.wav', 'SURVEYTL8071_20160609_225910_nyclei_0_0.5.wav', 'RHIFER_20180627_215324-RHIFER-LR_0_1.0.wav', 'Nyclei_Ireland_S2334912213_20180531_013304_nyclei_0_1.0.wav', '00088_myotis_daubentonii_0_1.0.wav', 'MYOMYS_20180601_212942-MYOMYS-LR_0_1.0.wav', '15060032_0_1.0.wav', 'SURVEYNX0056_20160715_032020_myodau_0_0.5.wav', 'SURVEYNS8048_20160810_045530_nyclei_0_0.5.wav', 'SURVEYTF9527_20160906_204203_nycnoc_0_0.5.wav', 'EPTSER_EPTSER-20190801_213114_0_1.0.wav', 'PipPip_A-20180620_215616-Pippip_0_1.0.wav', 'nyctalus_leisleri_24740061.wav', 'PLEAUS_PLEAUS-20190819_205745_0_1.0.wav', 'EPTSER_20180530_213102-EPTSER-LR_0_1.0.wav', 'EPTSER_EPTSER-20190729_212418_0_1.0.wav', 'eb00719_0_1.0.wav', 'PipPip_D-20180620_214438-Pippip_0_1.0.wav', 'SURVEYNX2786_20160928_051751_0_0.5.wav', 'PLEAUR_20180528_213052-PLEAUR-LR_0_1.0.wav', '00095_myotis_daubentonii_0_1.0.wav', 'Nyclei_Ireland_S2325812189_20180601_003922_nyclei_0_1.0.wav', 'PipPip_D-20180620_214356-Pippip_0_1.0.wav', '00026_barbastellus_barbastellus_0_1.0.wav', '00117_plecotus_austriacus_0_1.0.wav', 'eb01552_0_1.0.wav', 'SURVEYNX8562_20160913_233038_myodau_0_0.5.wav', 'RHIFER_20180627_215005-RHIFER-LR_0_1.0.wav', 'SURVEYTF9629_20160607_223650_barbar_0_0.5.wav', 'PLEAUR_PLEAUR-20190608_223954_0_1.0.wav', 'BARBAR_20180723_213902-BARBAR-LR_0_1.0.wav', 'nyctalus_leisleri_24740736.wav', 'MYOBRA_20180607_222426-MYOBRA-LR_0_1.0.wav', 'MYOBRA_20180607_221421-MYOBRA-LR_0_1.0.wav', 'eb01625_0_1.0.wav', 'SURVEYTM0277_20160825_210859_myonat_0_0.5.wav', 'eb00602_0_1.0.wav', 'MYOMYS_20180601_215004-MYOMYS-LR_0_1.0.wav', 'eb00164_0_1.0.wav', '00110_rhinolophus_ferrumequinum_0_1.0.wav', 'nyctalus_leisleri_24740803.wav', 'eb00749_0_1.0.wav', 'EPTSER_EPTSER-20190731_211942_0_1.0.wav', 'Nyclei_Ireland_S2334912213_20180531_023713_nyclei_0_1.0.wav', 'myotis_daubentonii_24740756.wav', 'SURVEYNS4339_20160510_002033_myodau_0_0.5.wav', 'MYOBEC_20180615_215538-MYOBEC-LR_0_1.0.wav', 'EPTSER_20180530_213500-EPTSER-LR_0_1.0.wav', 'PipPip_C-20180620_214824-Pippip_0_1.0.wav', 'MYODAU_20170803_211208-MYODAU-LR_0_1.0.wav', 'RHIHIP_20180708_220600-RHIHIP-LR_0_1.0.wav', 'eb00359_0_1.0.wav', 'Nyclei_Ireland_S2325812189_20180530_220020_nyclei_0_1.0.wav', 'SURVEYTF8421_20160829_210200_0_0.5.wav', 'Nyclei_Ireland_S2334912213_20180531_021245_nyclei_0_1.0.wav', 'EPTSER_20180530_213232-EPTSER-LR_0_1.0.wav', 'MYOMYS_MYOMYS-20190625_213314_0_1.0.wav', 'RHIFER_20180627_215604-RHIFER-LR_0_1.0.wav', 'plecotus_auritus_24731506.wav', '00048_myotis_brandtii_0_1.0.wav', 'MYOALC_MYOALC-20190527_200138_0_1.0.wav', 'eb00072_0_1.0.wav', 'PLEAUR_PLEAUR-20190608_222416_0_1.0.wav', 'PipPyg_HAN-20180502_194022-PIPPYG-LR_0_1.0.wav', '00145_pipistrellus_nathusii_0_1.0.wav', 'MYODAU_20180625_214844-MYODAU-LR_0_1.0.wav', 'MYOBEC_MYOBEC-20190621_215730_0_1.0.wav', 'myotis_nattereri_24740481.wav', 'myotis_nattereri_24740802.wav', 'eb01119_0_1.0.wav', 'eb00459_0_1.0.wav', 'MYOBRA_20180607_222207-MYOBRA-LR_0_1.0.wav', 'BARBAR_20180723_215444-BARBAR-LR_0_1.0.wav', 'MYOALC_MYOALC-20190527_200710_0_1.0.wav', 'eb01226_0_1.0.wav', 'MYODAU_MYODAU-20190807_212028_0_1.0.wav', 'Nyclei_Ireland_S2334912213_20180530_214657_nyclei_0_1.0.wav', 'MYOBEC_20170805_211301-MYOBEC-LR_0_1.0.wav', 'eb00539_0_1.0.wav', 'pipistrellus_nathusii_24740337.wav', 'RHIFER_20180627_214747-RHIFER-LR_0_1.0.wav', 'EPTSER_EPTSER-20190724_213553_0_1.0.wav', 'pipistrellus_nathusii_24740701.wav', 'MYODAU_20180625_213822-MYODAU-LR_0_1.0.wav', 'pipistrellus_nathusii_24740447.wav', 'MYOBEC_MYOBEC-20190621_215708_0_1.0.wav', 'MYOBRA_20180607_221925-MYOBRA-LR_0_1.0.wav', 'eb00053_0_1.0.wav', 'EPTSER_EPTSER-20190729_211630_0_1.0.wav', 'myotis_mystacinus_24740017.wav', 'MYONAT_20170804_212539-MYONAT-LR_0_1.0.wav', 'Nyclei_Ireland_S2334912213_20180531_040923_nyclei_0_1.0.wav', 'RHIFER_20180627_215914-RHIFER-LR_0_1.0.wav', 'SURVEYTF5320_20160721_225850_myonat_0_0.5.wav', 'EPTSER_EPTSER-20190801_212045_0_1.0.wav', 'eb00103_0_1.0.wav', 'myotis_daubentonii_24740745.wav', 'MYODAU_20180625_220341-MYODAU-LR_0_1.0.wav', '00000_myotis_alcathoe_0_1.0.wav', 'MYODAU_20180625_213548-MYODAU-LR_0_1.0.wav', 'MYOBEC_20170805_213344-MYOBEC-LR_0_1.0.wav', 'MYOBRA_20180606_221434-MYOBRA-LR_0_1.0.wav', 'Nyclei_Ireland_S2334912213_20180531_021320_nyclei_0_1.0.wav', '00029_myotis_bechsteinii_0_1.0.wav', 'MYOBEC_20170805_213750-MYOBEC-LR_0_1.0.wav', 'SURVEYNS4165_20160821_004612_myodau_0_0.5.wav', '00009_barbastellus_barbastellus_0_1.0.wav', 'myotis_mystacinus_24740312.wav', 'SURVEYTG1741_20160918_213405_barbar_0_0.5.wav', 'SURVEYNS9876_20160822_024936_myodau_0_0.5.wav', 'MYODAU_20180625_215318-MYODAU-LR_0_1.0.wav', 'EPTSER_EPTSER-20190724_212708_0_1.0.wav', 'MYOMYS_20170712_214852-MYOMYS-LR_0_1.0.wav', 'RHIHIP_20180708_215356-RHIHIP-LR_0_1.0.wav', 'SURVEYTG2322_20160724_225714_myodau_0_0.5.wav', 'RHIHIP_20180708_214554-RHIHIP-LR_0_1.0.wav', 'EPTSER_EPTSER-20190801_212826_0_1.0.wav', 'pipistrellus_nathusii_24740434.wav', 'EPTSER_EPTSER-20190801_211404_0_1.0.wav', 'MYOMYS_20180620_212824-MYOMYS-LR_0_1.0.wav', 'SURVEYTM2682_20160805_012244_0_0.5.wav', '00210_myotis_nattereri_0_1.0.wav', 'SURVEYNX1160_20160817_235019_pipnat_0_0.5.wav', '00172_myotis_nattereri_0_1.0.wav', 'pipistrellus_nathusii_24740644.wav', 'MYOALC_MYOALC-20190527_200314_0_1.0.wav', 'MYOBRA_20180607_220418-MYOBRA-LR_0_1.0.wav', 'EPTSER_EPTSER-20190801_211157_0_1.0.wav', 'MYOMYS_20180620_213724-MYOMYS-LR_0_1.0.wav', 'MYOMYS_20180619_214136-MYOMYS-LR_0_1.0.wav', 'EPTSER_EPTSER-20190801_210234_0_1.0.wav', 'pipistrellus_nathusii_24740829.wav', 'RHIFER_20180627_215229-RHIFER-LR_0_1.0.wav', 'RHIFER_20180627_214754-RHIFER-LR_0_1.0.wav', 'Nyclei_Ireland_S2334912213_20180531_023500_nyclei_0_1.0.wav', 'BARBAR_20180723_215532-BARBAR-LR_0_1.0.wav', 'MYONAT_20170804_213754-MYONAT-LR_0_1.0.wav', 'myotis_daubentonii_24740739.wav', 'MYODAU_20170803_213544-MYODAU-LR_0_1.0.wav', 'MYODAU_20180625_215650-MYODAU-LR_0_1.0.wav', 'EPTSER_20180530_212922-EPTSER-LR_0_1.0.wav', '00150_pipistrellus_nathusii_0_1.0.wav', 'BARBAR_20180723_213752-BARBAR-LR_0_1.0.wav', 'EPTSER_EPTSER-20190801_213947_0_1.0.wav', 'RHIFER_20180627_214534-RHIFER-LR_0_1.0.wav', '00093_myotis_daubentonii_0_1.0.wav', 'EPTSER_EPTSER-20190724_212617_0_1.0.wav', 'eb01529_0_1.0.wav', 'MYOALC_MYOALC-20190527_200452_0_1.0.wav', 'RHIFER_20180627_215243-RHIFER-LR_0_1.0.wav', 'EPTSER_20180530_213123-EPTSER-LR_0_1.0.wav', '00123_plecotus_austriacus_0_1.0.wav', 'EPTSER_EPTSER-20190801_210418_0_1.0.wav', 'MYOMYS_MYOMYS-20190625_213500_0_1.0.wav', 'MYOMYS_MYOMYS-20190625_213257_0_1.0.wav', 'SURVEYNX4260_20160712_000229_0_0.5.wav', 'PLEAUS_PLEAUS-20190819_205822_0_1.0.wav', 'EPTSER_EPTSER-20190801_212204_0_1.0.wav', 'MYODAU_MYODAU-20190807_212453_0_1.0.wav', '15060050_0_1.0.wav', 'eb01544_0_1.0.wav', 'pipistrellus_nathusii_24740026.wav', 'MYOALC_MYOALC-20190527_200232_0_1.0.wav', 'MYONAT_20030818_212110-MYONAT-LR_0_1.0.wav', 'Nyclei_Ireland_S3610715549_20180527_225518_nyclei_0_1.0.wav', '00252_eptesicus_serotinus_0_1.0.wav', 'eb00369_0_1.0.wav', 'PLEAUR_PLEAUR-20190608_223832_0_1.0.wav', 'EPTSER_EPTSER-20190801_211456_0_1.0.wav', 'SURVEYNS6306_20160720_215319_nyclei_0_0.5.wav', '00159_myotis_nattereri_0_1.0.wav', 'eb01258_0_1.0.wav', 'Nyclei_Ireland_S2334912213_20180531_023358_nyclei_0_1.0.wav', 'plecotus_auritus_22960057.wav', '15060009_0_1.0.wav', 'MYOBRA_20180606_221048-MYOBRA-LR_0_1.0.wav', 'nyctalus_leisleri_24740022.wav', 'PLEAUR_PLEAUR-20190608_222748_0_1.0.wav', 'SURVEYTF7427_20160727_030938_eptser_0_0.5.wav', 'PipPyg_HANN-20180502_201414-PIPPYG-LR_0_1.0.wav', '15060085_0_1.0.wav', 'eb01044_0_1.0.wav', 'SURVEYTF7839_20160528_013135_pleaur_0_0.5.wav', 'pipistrellus_pipistrellus_24740042.wav', 'MYOALC_MYOALC-20190527_202216_0_1.0.wav', 'eb00436_0_1.0.wav', 'NYCNOC_20190812_210000_0_1.0.wav', 'eb00880_0_1.0.wav', 'EPTSER_EPTSER-20190801_211632_0_1.0.wav', 'myotis_mystacinus_24740025.wav', 'SURVEYTL8582_20160920_021658_nyclei_0_0.5.wav', 'SURVEYTF9604_20160824_015506_eptser_0_0.5.wav', 'MYOBEC_20170805_213808-MYOBEC-LR_0_1.0.wav', 'EPTSER_EPTSER-20190801_213330_0_1.0.wav', 'EPTSER_EPTSER-20190724_215932_0_1.0.wav', 'MYOALC_MYOALC-20190527_200310_0_1.0.wav', 'eb00969_0_1.0.wav', '00118_plecotus_austriacus_0_1.0.wav', 'SURVEYTM2185_20160626_182619_0_0.5.wav', 'MYOBRA_20180606_221742-MYOBRA-LR_0_1.0.wav', 'RHIFER_20180627_220428-RHIFER-LR_0_1.0.wav', 'MYOBRA_20180606_222224-MYOBRA-LR_0_1.0.wav', 'PLEAUR_PLEAUR-20190608_221646_0_1.0.wav', 'eb01427_0_1.0.wav', 'MYOBRA_20180607_221419-MYOBRA-LR_0_1.0.wav', 'MYOMYS_20170712_214230-MYOMYS-LR_0_1.0.wav', 'pipistrellus_nathusii_24740294.wav', 'eb00090_0_1.0.wav', 'myotis_nattereri_24740976.wav', 'MYODAU_20180625_214228-MYODAU-LR_0_1.0.wav', 'myotis_mystacinus_24740129.wav', 'myotis_mystacinus_24740128.wav', 'myotis_nattereri_24740818.wav', 'EPTSER_EPTSER-20190724_215927_0_1.0.wav', 'MYODAU_MYODAU-20190807_210836_0_1.0.wav', 'MYOBRA_20180606_222212-MYOBRA-LR_0_1.0.wav', 'eb01710_0_1.0.wav', 'MYOBRA_20180607_221120-MYOBRA-LR_0_1.0.wav', 'PipPyg_HANN-20180502_201746-PIPPYG-LR_0_1.0.wav', 'MYOBRA_20180607_220338-MYOBRA-LR_0_1.0.wav', 'EPTSER_EPTSER-20190801_214124_0_1.0.wav', 'eb00348_0_1.0.wav', 'MYOBRA_20180607_221740-MYOBRA-LR_0_1.0.wav', 'MYONAT_20170804_213326-MYONAT-LR_0_1.0.wav', 'NYCNOC_20190812_205939_0_1.0.wav', 'SURVEYNX4166_20160814_234917_nyclei_0_0.5.wav', 'SURVEYTF9726_20160622_011034_barbar_0_0.5.wav', 'eb00165_0_1.0.wav', 'EPTSER_EPTSER-20190801_211020_0_1.0.wav', 'SURVEYTF8627_20160702_034902_eptser_0_0.5.wav', 'MYOBEC_20170805_213148-MYOBEC-LR_0_1.0.wav', 'eb00692_0_1.0.wav', 'PipPyg_HAN-20180502_200424-PIPPYG-LR_0_1.0.wav', 'EPTSER_EPTSER-20190801_211002_0_1.0.wav', 'plecotus_auritus_22960092.wav', 'EPTSER_EPTSER-20190801_211919_0_1.0.wav', 'PipPyg_HAN-20180502_201148-PIPPYG-LR_0_1.0.wav', 'SURVEYNX1160_20160816_221841_pipnat_0_0.5.wav', '15060093_0_1.0.wav', 'MYODAU_20180625_215859-MYODAU-LR_0_1.0.wav', 'eb01508_0_1.0.wav', 'Nyclei_Ireland_S2334912213_20180531_021706_nyclei_0_1.0.wav', 'myotis_mystacinus_24740436.wav', 'pipistrellus_nathusii_24740607.wav', 'SURVEYTG0827_20160814_001537_myonat_0_0.5.wav', 'myotis_mystacinus_24740316.wav', 'RHIFER_20180627_214734-RHIFER-LR_0_1.0.wav', '00012_barbastellus_barbastellus_0_1.0.wav', 'myotis_nattereri_24740507.wav', 'MYOBEC_MYOBEC-20190621_215348_0_1.0.wav', 'SURVEYNX7447_20160811_221804_nyclei_0_0.5.wav', 'MYOBRA_20180607_222224-MYOBRA-LR_0_1.0.wav', 'MYOALC_MYOALC-20190527_200506_0_1.0.wav', 'RHIHIP_20180708_221258-RHIHIP-LR_0_1.0.wav', 'eb00829_0_1.0.wav', 'pipistrellus_nathusii_24740021.wav', '00294_myotis_mystacinus_0_1.0.wav', 'SURVEYNH9318_20160510_035619_0_0.5.wav', 'SURVEYNX4165_20160615_003551_myodau_0_0.5.wav', 'myotis_mystacinus_24740112.wav', 'SURVEYNT0237_20160828_210531_myonat_0_0.5.wav', 'NYCNOC_20190812_205857_0_1.0.wav', 'PLEAUR_PLEAUR-20190608_221425_0_1.0.wav', 'PipPyg_HANN-20180502_200148-PIPPYG-LR_0_1.0.wav', 'MYOBRA_20180607_220402-MYOBRA-LR_0_1.0.wav', 'eb00929_0_1.0.wav', 'SURVEYTG1604_20160603_015616_0_0.5.wav', 'nyctalus_leisleri_24740704.wav', 'NYCNOC_20190812_205925_0_1.0.wav', 'myotis_nattereri_24740641.wav', 'SURVEYTL9287_20160521_220025_nyclei_0_0.5.wav', 'MYODAU_20180625_215417-MYODAU-LR_0_1.0.wav', 'RHIHIP_20180708_215127-RHIHIP-LR_0_1.0.wav', '00120_plecotus_austriacus_0_1.0.wav', 'PLEAUS_PLEAUS-20190819_211736_0_1.0.wav', '00193_myotis_nattereri_0_1.0.wav', 'BARBAR_20180723_215800-BARBAR-LR_0_1.0.wav', '00147_pipistrellus_nathusii_0_1.0.wav', 'EPTSER_EPTSER-20190801_210502_0_1.0.wav', '00266_pipistrellus_pygmaeus_0_1.0.wav', 'eb01626_0_1.0.wav', 'NYCNOC_20190812_205828_0_1.0.wav', 'EPTSER_EPTSER-20190724_212402_0_1.0.wav', 'RHIFER_20180627_215304-RHIFER-LR_0_1.0.wav', 'eb00994_0_1.0.wav', 'PipPip_D-20180620_215240-Pippip_0_1.0.wav', 'EPTSER_EPTSER-20190801_211303_0_1.0.wav', 'Nyclei_Ireland_S2334912213_20180531_024708_nyclei_0_1.0.wav', 'PipPyg_HANN-20180502_202426-PIPPYG-LR_0_1.0.wav', 'BARBAR_20180723_213212-BARBAR-LR_0_1.0.wav', 'MYOMYS_20180619_213602-MYOMYS-LR_0_1.0.wav', 'SURVEYTL7986_20160603_235907_nyclei_0_0.5.wav', 'MYOMYS_MYOMYS-20190625_213324_0_1.0.wav', 'PLEAUR_PLEAUR-20190608_224056_0_1.0.wav', 'myotis_daubentonii_24740251.wav', 'MYOBEC_20170805_211203-MYOBEC-LR_0_1.0.wav', 'SURVEYTG2328_20160710_021733_myonat_0_0.5.wav', 'SURVEYNS8597_20160515_235331_0_0.5.wav', 'nyctalus_leisleri_24740270.wav', 'PipPyg_HAN-20180502_200036-PIPPYG-LR_0_1.0.wav', 'myotis_nattereri_24740619.wav', 'eb00520_0_1.0.wav', 'eb01195_0_1.0.wav', 'eb00667_0_1.0.wav', 'SURVEYTG0500_20160813_000852_eptser_0_0.5.wav', 'EPTSER_20180530_213000-EPTSER-LR_0_1.0.wav', 'SURVEYNS4323_20160829_002544_pleaur_0_0.5.wav', 'myotis_daubentonii_24740795.wav', 'Nyclei_Ireland_S2334912213_20180531_035825_nyclei_0_1.0.wav', 'EPTSER_EPTSER-20190801_211941_0_1.0.wav', 'eb00285_0_1.0.wav', 'EPTSER_EPTSER-20190724_215922_0_1.0.wav', 'RHIHIP_20180708_214638-RHIHIP-LR_0_1.0.wav', 'eb00405_0_1.0.wav', 'Nyclei_Ireland_S2334912213_20180531_044524_nyclei_0_1.0.wav', 'MYOALC_MYOALC-20190527_200550_0_1.0.wav', 'eb01060_0_1.0.wav', 'myotis_nattereri_24740773.wav', 'pipistrellus_nathusii_24740086.wav', 'MYODAU_20170803_212626-MYODAU-LR_0_1.0.wav', 'SURVEYTG4514_20160521_231128_Pipnat_0_0.5.wav', 'NYCNOC_20190812_210353_0_1.0.wav', 'TG1041_20160924_190857_0_0.5.wav', 'MYOALC_MYOALC-20190527_200652_0_1.0.wav', 'SURVEYNS0046_20160609_024635_myonat_0_0.5.wav', 'PLEAUR_PLEAUR-20190608_224106_0_1.0.wav', 'SURVEYTG2107_20160616_002105_pleaur_0_0.5.wav', 'RHIHIP_20180708_220312-RHIHIP-LR_0_1.0.wav', 'RHIHIP_20180708_214640-RHIHIP-LR_0_1.0.wav', '00295_myotis_mystacinus_0_1.0.wav', 'EPTSER_20180530_213646-EPTSER-LR_0_1.0.wav', 'myotis_daubentonii_24740725.wav', 'eb01020_0_1.0.wav', 'Nyclei_Ireland_S2325812189_20180601_041856_nyclei_0_1.0.wav', 'SURVEYTG5014_20160713_221154_nycnoc_0_0.5.wav', 'PLEAUS_PLEAUS-20190819_210512_0_1.0.wav', 'pipistrellus_nathusii_24740042.wav', 'PLEAUR_PLEAUR-20190608_223822_0_1.0.wav', 'MYOBRA_20180607_221144-MYOBRA-LR_0_1.0.wav', 'RHIFER_20180627_214810-RHIFER-LR_0_1.0.wav', 'myotis_mystacinus_24740253.wav', 'MYOBRA_20180607_221105-MYOBRA-LR_0_1.0.wav', 'SURVEYTF8223_20160915_202950_eptser_0_0.5.wav', 'RHIFER_20180627_215058-RHIFER-LR_0_1.0.wav', 'PipPip_A-20180620_215814-Pippip_0_1.0.wav', 'SURVEYTG4104_20160802_232113_eptser_0_0.5.wav', 'myotis_daubentonii_24740787.wav', 'eb00677_0_1.0.wav', 'eb00533_0_1.0.wav', 'SURVEYNX1061_20160910_061522_Pipnat_0_0.5.wav', 'Nyclei_Ireland_S2325812189_20180601_025611_nyclei_0_1.0.wav', 'PipPip_B-20180620_214652-Pippip_0_1.0.wav', 'MYOALC_MYOALC-20190527_200318_0_1.0.wav', 'SURVEYTL7986_20160603_232434_eptser_0_0.5.wav', 'PLEAUR_PLEAUR-20190608_222652_0_1.0.wav', 'NYCNOC_20190812_210636_0_1.0.wav', 'eb00980_0_1.0.wav', 'eb00198_0_1.0.wav', 'eb00771_0_1.0.wav', 'SURVEYTG0712_20160807_011021_0_0.5.wav', 'SURVEYNX9769_20160616_004146_myodau_0_0.5.wav', 'SURVEYNR8745_20160612_030328_myonat_0_0.5.wav', 'SURVEYTL7182_20160809_012258_nyclei_0_0.5.wav', '00245_eptesicus_serotinus_0_1.0.wav', '00249_eptesicus_serotinus_0_1.0.wav', 'MYOBRA_20180607_221858-MYOBRA-LR_0_1.0.wav', 'PipPip_A-20180620_215626-Pippip_0_1.0.wav', 'EPTSER_EPTSER-20190724_213002_0_1.0.wav', 'plecotus_auritus_22960066.wav', 'BARBAR_20180723_215612-BARBAR-LR_0_1.0.wav', 'Nyclei_Ireland_S2325812189_20180530_235553_nyclei_0_1.0.wav', 'PipPip_A-20180620_213034-Pippip_0_1.0.wav', 'EPTSER_EPTSER-20190801_211421_0_1.0.wav', 'MYOBRA_20180607_220612-MYOBRA-LR_0_1.0.wav', 'RHIFER_20180627_221336-RHIFER-LR_0_1.0.wav', 'RHIHIP_20180708_215534-RHIHIP-LR_0_1.0.wav', 'eb00463_0_1.0.wav', 'BARBAR_20180723_220018-BARBAR-LR_0_1.0.wav', 'SURYEYTL8114_20160805_042353_pleaur_0_0.5.wav', 'EPTSER_EPTSER-20190801_210946_0_1.0.wav', 'SURVEYTM4692_20160929_201608_Pipnat_0_0.5.wav', 'eb01617_0_1.0.wav', 'MYOALC_MYOALC-20190527_195802_0_1.0.wav', '00176_myotis_nattereri_0_1.0.wav', 'myotis_daubentonii_24740522.wav', 'PipPip_B-20180620_215318-Pippip_0_1.0.wav', 'NYCNOC_20190812_205525_0_1.0.wav', 'EPTSER_EPTSER-20190724_214148_0_1.0.wav', 'plecotus_auritus_24740030.wav', 'MYOBRA_20180606_221653-MYOBRA-LR_0_1.0.wav', 'PLEAUR_PLEAUR-20190608_223948_0_1.0.wav', 'myotis_daubentonii_24740393.wav', 'eb01266_0_1.0.wav', 'SURVEYTL7798_20160919_003803_myodau_0_0.5.wav', 'MYODAU_20180625_220658-MYODAU-LR_0_1.0.wav', 'RHIHIP_20180708_214829-RHIHIP-LR_0_1.0.wav', '00042_myotis_bechsteinii_0_1.0.wav', 'eb01585_0_1.0.wav', 'EPTSER_20180530_213114-EPTSER-LR_0_1.0.wav', 'EPTSER_EPTSER-20190801_214043_0_1.0.wav', 'EPTSER_EPTSER-20190801_212208_0_1.0.wav', 'MYODAU_20170803_211702-MYODAU-LR_0_1.0.wav', 'EPTSER_EPTSER-20190801_210228_0_1.0.wav', 'MYOBRA_20180607_223422-MYOBRA-LR_0_1.0.wav', 'SURVEYTF9726_20160622_024203_eptser_0_0.5.wav', 'myotis_daubentonii_24740396.wav', 'myotis_nattereri_24740435.wav', 'eb01557_0_1.0.wav', 'myotis_mystacinus_24740119.wav', 'eb00472_0_1.0.wav', 'RHIFER_20180627_220124-RHIFER-LR_0_1.0.wav', 'SURVEYNX1061_20160911_201817_Pipnat_0_0.5.wav', 'SURVEYTG4122_20160612_000817_Pipnat_0_0.5.wav', 'myotis_daubentonii_24740808.wav', 'EPTSER_EPTSER-20190801_210800_0_1.0.wav', 'SURVEYTM1582_20160820_234304_barbar_0_0.5.wav', 'MYOALC_MYOALC-20190527_200418_0_1.0.wav', 'RHIFER_20180627_214702-RHIFER-LR_0_1.0.wav', 'MYOMYS_20180601_213056-MYOMYS-LR_0_1.0.wav', 'PLEAUS_PLEAUS-20190820_205204_0_1.0.wav', 'RHIHIP_20180708_215101-RHIHIP-LR_0_1.0.wav', 'MYOMYS_MYOMYS-20190625_214234_0_1.0.wav', 'PipPip_A-20180620_215632-Pippip_0_1.0.wav', 'MYOMYS_20170712_213918-MYOMYS-LR_0_1.0.wav', 'eb01095_0_1.0.wav', '00269_pipistrellus_pygmaeus_0_1.0.wav', 'EPTSER_EPTSER-20190801_210414_0_1.0.wav', 'PLEAUS_20180813_210552-PLEAUS-LR_0_1.0.wav', 'PLEAUS_PLEAUS-20190819_210004_0_1.0.wav', 'SURVEYTG1842_20160926_014425_barbar_0_0.5.wav', 'PipPyg_HANN-20180502_202234-PIPPYG-LR_0_1.0.wav', 'eb00951_0_1.0.wav', '00100_myotis_daubentonii_0_1.0.wav', 'Nyclei_Ireland_S2334912213_20180531_024715_nyclei_0_1.0.wav', 'PipPip_A-20180620_214358-Pippip_0_1.0.wav', 'SURVEYNX9091_20160710_020840_pleaur_0_0.5.wav', 'SURVEYTF5414_20160921_233113_0_0.5.wav', 'PipPip_B-20180620_215634-Pippip_0_1.0.wav', 'MYODAU_MYODAU-20190807_212054_0_1.0.wav', 'myotis_nattereri_24740720.wav', 'Nyclei_Ireland_S2334912213_20180531_033755_nyclei_0_1.0.wav', 'eb00620_0_1.0.wav', 'SURVEYNX6058_20160528_023928_0_0.5.wav', 'SURVEYNS8217_20160627_001204_myonat_0_0.5.wav', 'MYOBRA_20180607_221824-MYOBRA-LR_0_1.0.wav', 'SURVEYNT0285_20160623_224701_pipnat_0_0.5.wav', 'eb00377_0_1.0.wav', 'eb00118_0_1.0.wav', 'Nyclei_Ireland_S3610715549_20180529_225107_nyclei_0_1.0.wav', 'pipistrellus_nathusii_24740402.wav', 'myotis_daubentonii_24740762.wav', 'eb01214_0_1.0.wav', 'SURVEYTG1630_20160927_022019_barbar_0_0.5.wav', 'eb00910_0_1.0.wav', 'SURVEYTL7788_20160709_044551_eptser_0_0.5.wav', 'eb00959_0_1.0.wav', 'EPTSER_EPTSER-20190801_211626_0_1.0.wav', 'MYOBRA_20180607_222212-MYOBRA-LR_0_1.0.wav', 'PipPyg_HANN-20180502_201514-PIPPYG-LR_0_1.0.wav', 'EPTSER_20180530_213136-EPTSER-LR_0_1.0.wav', '00218_nyctalus_noctula_0_1.0.wav', 'MYOBEC_MYOBEC-20190621_215602_0_1.0.wav', 'eb00842_0_1.0.wav', 'MYOMYS_MYOMYS-20190625_213404_0_1.0.wav', 'PipPip_A-20180620_215048-Pippip_0_1.0.wav', 'TG1041_20160913_213937_barbar_0_0.5.wav', 'EPTSER_EPTSER-20190801_213316_0_1.0.wav', 'PipPip_C-20180620_215208-Pippip_0_1.0.wav', 'MYOMYS_MYOMYS-20190625_213628_0_1.0.wav', 'SURVEYTM1397_20160719_221713_pleaur_0_0.5.wav', 'EPTSER_EPTSER-20190729_212224_0_1.0.wav', 'SURVEYTL7986_20160603_212501_nyclei_0_0.5.wav', 'SURYEYTF8320_20160515_031720_myonat_0_0.5.wav', 'eb00597_0_1.0.wav', 'RHIFER_20180627_215230-RHIFER-LR_0_1.0.wav', 'RHIFER_20180627_214916-RHIFER-LR_0_1.0.wav', 'RHIHIP_20180708_215315-RHIHIP-LR_0_1.0.wav', 'MYODAU_20180625_220543-MYODAU-LR_0_1.0.wav', 'myotis_mystacinus_24740320.wav', '00211_myotis_nattereri_0_1.0.wav', 'SURVEYNX3870_20160806_221400_nyclei_0_0.5.wav', 'RHIHIP_20180708_220204-RHIHIP-LR_0_1.0.wav', 'RHIHIP_20180708_214318-RHIHIP-LR_0_1.0.wav', 'EPTSER_EPTSER-20190801_214038_0_1.0.wav', 'eb00970_0_1.0.wav', 'MYODAU_20180625_221424-MYODAU-LR_0_1.0.wav', 'EPTSER_EPTSER-20190801_212046_0_1.0.wav', 'MYOBEC_MYOBEC-20190621_214244_0_1.0.wav', 'myotis_daubentonii_24740644.wav', 'EPTSER_EPTSER-20190801_211108_0_1.0.wav', 'eb00291_0_1.0.wav', 'EPTSER_EPTSER-20190729_212138_0_1.0.wav', 'eb00074_0_1.0.wav', 'eb00779_0_1.0.wav', 'eb00732_0_1.0.wav', 'SURVEYTF7643_20160705_032539_0_0.5.wav', 'eb01559_0_1.0.wav', 'SURVEYTF7300_20160710_230617_eptser_0_0.5.wav', 'Nyclei_Ireland_S3610715549_20180529_224801_nyclei_0_1.0.wav', 'SURVEYNT0285_20160623_225117_pipnat_0_0.5.wav', '00264_pipistrellus_pygmaeus_0_1.0.wav', 'eb01184_0_1.0.wav', '00105_myotis_daubentonii_0_1.0.wav', '00020_barbastellus_barbastellus_0_1.0.wav', 'RHIFER_20180627_215646-RHIFER-LR_0_1.0.wav', '00091_myotis_daubentonii_0_1.0.wav', 'Nyclei_Ireland_S2325812189_20180531_024222_nyclei_0_1.0.wav', 'SURVEYNX5575_20160604_013715_pipnat_0_0.5.wav', 'Nyclei_Ireland_S3610715549_20180529_000456_nyclei_0_1.0.wav', 'MYONAT_20170804_210834-MYONAT-LR_0_1.0.wav', 'EPTSER_EPTSER-20190801_211731_0_1.0.wav', 'eb00280_0_1.0.wav', 'eb00690_0_1.0.wav', 'myotis_mystacinus_24740138.wav', 'nyctalus_leisleri_24740004.wav', 'eb00195_0_1.0.wav', '00189_myotis_nattereri_0_1.0.wav', 'Nyclei_Ireland_S3610715549_20180528_030552_nyclei_0_1.0.wav', 'SURVEYTG1020_20160822_022726_barbar_0_0.5.wav', 'EPTSER_EPTSER-20190729_211902_0_1.0.wav', 'SURVEYNT2442_20160609_015853_0_0.5.wav', 'MYOBEC_MYOBEC-20190621_214058_0_1.0.wav', '15060045_0_1.0.wav', 'BARBAR_20180723_215234-BARBAR-LR_0_1.0.wav', 'SURVEYNX1060_20160814_212917_nyclei_0_0.5.wav', '00162_myotis_nattereri_0_1.0.wav', 'PipPip_A-20180620_215534-Pippip_0_1.0.wav', '00108_rhinolophus_ferrumequinum_0_1.0.wav', 'Nyclei_Ireland_S3610715549_20180530_000455_nyclei_0_1.0.wav', 'MYOBRA_20180607_222104-MYOBRA-LR_0_1.0.wav', 'EPTSER_20180530_213104-EPTSER-LR_0_1.0.wav', 'nyctalus_leisleri_24740003.wav', 'myotis_nattereri_24740318.wav', 'SURVEYTF6104_20160505_003106_eptser_0_0.5.wav', '00104_myotis_daubentonii_0_1.0.wav', 'eb00944_0_1.0.wav', 'RHIFER_20180627_221312-RHIFER-LR_0_1.0.wav', 'eb00523_0_1.0.wav', 'MYODAU_20180625_214426-MYODAU-LR_0_1.0.wav', 'RHIFER_20180627_221123-RHIFER-LR_0_1.0.wav', 'BARBAR_20180723_213248-BARBAR-LR_0_1.0.wav', 'pipistrellus_nathusii_24740645.wav', 'SURVEYNX9683_20160903_011138_nycnoc_0_0.5.wav', 'MYODAU_MYODAU-20190807_212214_0_1.0.wav', 'SURVEYNS7551_20160724_033318_pleaur_0_0.5.wav', '00113_rhinolophus_ferrumequinum_0_1.0.wav', 'myotis_daubentonii_24740763.wav', '00008_barbastellus_barbastellus_0_1.0.wav', 'Nyclei_Ireland_S3610715549_20180527_233132_nyclei_0_1.0.wav', 'eb00183_0_1.0.wav', 'MYODAU_20180625_215044-MYODAU-LR_0_1.0.wav', 'eb01064_0_1.0.wav', 'myotis_nattereri_24740904.wav', 'pipistrellus_nathusii_24740486.wav', 'MYOBRA_20180606_222748-MYOBRA-LR_0_1.0.wav', 'EPTSER_EPTSER-20190801_211420wav_0_1.0.wav', 'Nyclei_Ireland_S2325812189_20180601_042348_nyclei_0_1.0.wav', 'PLEAUR_PLEAUR-20190608_221406_0_1.0.wav', 'PLEAUS_PLEAUS-20190820_204950_0_1.0.wav', 'MYODAU_20180625_220828-MYODAU-LR_0_1.0.wav', 'SURVEYTL7798_20160918_213627_myodau_0_0.5.wav', 'PLEAUS_PLEAUS-20190820_205006_0_1.0.wav', 'EPTSER_EPTSER-20190724_213517_0_1.0.wav', 'myotis_mystacinus_24740113.wav', 'pipistrellus_nathusii_24740488.wav', 'SURVEYNX4265_20160622_224232_nyclei_0_0.5.wav', 'MYOBRA_20180606_221117-MYOBRA-LR_0_1.0.wav', 'MYOBEC_20170805_212535-MYOBEC-LR_0_1.0.wav', 'RHIHIP_20180708_214626-RHIHIP-LR_0_1.0.wav', 'MYOBRA_20180607_221040-MYOBRA-LR_0_1.0.wav', 'PLEAUR_PLEAUR-20190608_224000_0_1.0.wav', 'myotis_daubentonii_24740734.wav', 'EPTSER_20180530_213042-EPTSER-LR_0_1.0.wav', 'NYCNOC_20190812_205904_0_1.0.wav', 'MYOBRA_20180607_221728-MYOBRA-LR_0_1.0.wav', '00178_myotis_nattereri_0_1.0.wav', 'SURVEYNS3867_20160904_222357_pleaur_0_0.5.wav', 'EPTSER_EPTSER-20190801_210308_0_1.0.wav', 'EPTSER_EPTSER-20190801_213250_0_1.0.wav', '00188_myotis_nattereri_0_1.0.wav', 'MYOMYS_20180601_213812-MYOMYS-LR_0_1.0.wav', 'SURVEYNX6149_20160908_001645_nycnoc_0_0.5.wav', 'myotis_daubentonii_24740760.wav', '00151_pipistrellus_nathusii_0_1.0.wav', 'MYOBRA_20180607_220926-MYOBRA-LR_0_1.0.wav', 'MYOBEC_MYOBEC-20190621_213738_0_1.0.wav', 'SURVEYNT0901_20160913_044442_nycnoc_0_0.5.wav', 'EPTSER_20180530_213606-EPTSER-LR_0_1.0.wav', 'EPTSER_EPTSER-20190729_212958_0_1.0.wav', 'RHIFER_20180627_215118-RHIFER-LR_0_1.0.wav', 'EPTSER_EPTSER-20190801_213124_0_1.0.wav', 'EPTSER_EPTSER-20190801_213202_0_1.0.wav', '00282_myotis_mystacinus_0_1.0.wav', 'SURVEYTG0301_20160918_045943_myodau_0_0.5.wav', 'RHIFER_20180627_222014-RHIFER-LR_0_1.0.wav', 'pipistrellus_nathusii_24740029.wav', 'PLEAUR_PLEAUR-20190608_224018_0_1.0.wav', 'myotis_daubentonii_24740758.wav', 'SURVEYTF6829_20160902_035405_myonat_0_0.5.wav', 'EPTSER_EPTSER-20190724_215524_0_1.0.wav', 'SURVEYTF6322_20160915_005726_0_0.5.wav', 'eb01432_0_1.0.wav', 'eb00487_0_1.0.wav', 'MYODAU_20180625_220117-MYODAU-LR_0_1.0.wav', 'RHIHIP_20180708_214432-RHIHIP-LR_0_1.0.wav', 'RHIFER_20180627_215148-RHIFER-LR_0_1.0.wav', 'MYOMYS_20180601_213004-MYOMYS-LR_0_1.0.wav', 'myotis_daubentonii_24740381.wav', 'eb00402_0_1.0.wav', 'Nyclei_Ireland_S2325812189_20180601_031303_nyclei_0_1.0.wav', 'SURVEYTF9104_20160722_004229_eptser_0_0.5.wav', 'BARBAR_20180723_215602-BARBAR-LR_0_1.0.wav', 'Nyclei_Ireland_S3610715549_20180528_232711_nyclei_0_1.0.wav', 'PLEAUS_PLEAUS-20190820_205514_0_1.0.wav', 'PipPip_A-20180620_215300-Pippip_0_1.0.wav', 'EPTSER_EPTSER-20190801_210454_0_1.0.wav', '00057_plecotus_auritus_0_1.0.wav', 'myotis_mystacinus_24740311.wav', 'eb00021_0_1.0.wav', 'RHIFER_20180627_214531-RHIFER-LR_0_1.0.wav', 'SURVEYTF9332_20160904_003014_barbar_0_0.5.wav', 'PLEAUS_PLEAUS-20190820_211410_0_1.0.wav', 'eb01023_0_1.0.wav', 'eb00400_0_1.0.wav', '00271_pipistrellus_pygmaeus_0_1.0.wav', 'pipistrellus_nathusii_24740053.wav', 'MYOBRA_20180606_221400-MYOBRA-LR_0_1.0.wav', 'RHIFER_20180627_215004-RHIFER-LR_0_1.0.wav', '00183_myotis_nattereri_0_1.0.wav', 'BARBAR_20180723_213908-BARBAR-LR_0_1.0.wav', 'nyctalus_leisleri_24740735.wav', '15060103_0_1.0.wav', 'eb00524_0_1.0.wav', 'eb00207_0_1.0.wav', 'MYOMYS_20180619_214515-MYOMYS-LR_0_1.0.wav', 'eb00598_0_1.0.wav', 'MYOBRA_20180606_221448-MYOBRA-LR_0_1.0.wav', 'SURVEYTF8223_20160914_024925_barbar_0_0.5.wav', 'PipPip_A-20180620_215124-Pippip_0_1.0.wav', '15060097_0_1.0.wav', 'MYODAU_20180625_215135-MYODAU-LR_0_1.0.wav', 'Nyclei_Ireland_S2334912213_20180530_214139_nyclei_0_1.0.wav', 'eb01008_0_1.0.wav', 'MYOBEC_20180615_215908-MYOBEC-LR_0_1.0.wav', 'eb00818_0_1.0.wav', 'nyctalus_leisleri_24740021.wav', 'RHIHIP_20180708_215602-RHIHIP-LR_0_1.0.wav', '00049_myotis_brandtii_0_1.0.wav', 'MYOBRA_20180607_222344-MYOBRA-LR_0_1.0.wav', 'PipPyg_HAN-20180502_200332-PIPPYG-LR_0_1.0.wav', 'eb00407_0_1.0.wav', 'RHIFER_20180627_213711-RHIFER-LR_0_1.0.wav', 'eb00874_0_1.0.wav', 'MYOALC_MYOALC-20190527_200551_0_1.0.wav', 'EPTSER_20180530_213452-EPTSER-LR_0_1.0.wav', 'eb01522_0_1.0.wav', 'MYODAU_MYODAU-20190807_212307_0_1.0.wav', 'MYOMYS_MYOMYS-20190625_213256_0_1.0.wav', '15060080_0_1.0.wav', 'PipPip_A-20180620_215514-Pippip_0_1.0.wav', 'myotis_daubentonii_24740794.wav', 'eb00245_0_1.0.wav', 'EPTSER_EPTSER-20190729_212146_0_1.0.wav', 'eb01197_0_1.0.wav', 'eb00794_0_1.0.wav', 'SURVEYTG2322_20160727_002204_pleaur_0_0.5.wav', '00170_myotis_nattereri_0_1.0.wav', 'SURVEYNX7044_20160811_210000_nyclei_0_0.5.wav', 'eb00790_0_1.0.wav', '00011_barbastellus_barbastellus_0_1.0.wav', 'SURVEYNS4624_20160902_034655_myonat_0_0.5.wav', '15060110_0_1.0.wav', 'RHIHIP_20180708_214428-RHIHIP-LR_0_1.0.wav', 'SURVEYNX5565_20160610_232452_myodau_0_0.5.wav', 'MYODAU_20180625_215939-MYODAU-LR_0_1.0.wav', '00217_nyctalus_noctula_0_1.0.wav', 'SURVEYTL8782_20160621_220520_eptser_0_0.5.wav', '00030_myotis_bechsteinii_0_1.0.wav', 'PipPip_A-20180620_215458-Pippip_0_1.0.wav', 'eb00289_0_1.0.wav', 'MYODAU_20180625_214712-MYODAU-LR_0_1.0.wav', 'BARBAR_20180723_215652-BARBAR-LR_0_1.0.wav', 'PipPyg_HAN-20180502_194624-PIPPYG-LR_0_1.0.wav', 'NO1418022741_20160903_045201_0_0.5.wav', 'MYOMYS_MYOMYS-20190625_213034_0_1.0.wav', 'RHIFER_20180627_215039-RHIFER-LR_0_1.0.wav', 'MYOMYS_20160828-MYOMYS-HR_0_1.0.wav', 'PLEAUS_PLEAUS-20190819_205744_0_1.0.wav', 'RHIFER_20180627_215758-RHIFER-LR_0_1.0.wav', 'myotis_daubentonii_24740775.wav', 'RHIFER_20180627_215127-RHIFER-LR_0_1.0.wav', 'MYOBRA_20180607_222102-MYOBRA-LR_0_1.0.wav', 'eb01443_0_1.0.wav', 'Nyclei_Ireland_S2334912213_20180530_214147_nyclei_0_1.0.wav', 'MYODAU_20180625_220826-MYODAU-LR_0_1.0.wav', 'SURVEYTG3500_20160521_225524_Pipnat_0_0.5.wav', 'Nyclei_Ireland_S2325812189_20180601_043833_nyclei_0_1.0.wav', 'PipPyg_HAN-20180502_200136-PIPPYG-LR_0_1.0.wav', 'SURVEYTM0178_20160708_225543_eptser_0_0.5.wav', 'PipPip_B-20180620_215342-Pippip_0_1.0.wav', 'nyctalus_leisleri_24740060.wav', 'MYOBEC_20170805_212914-MYOBEC-LR_0_1.0.wav', 'nyctalus_leisleri_22960547.wav', '00278_pipistrellus_pygmaeus_0_1.0.wav', 'PLEAUS_PLEAUS-20190820_210904_0_1.0.wav', '00186_myotis_nattereri_0_1.0.wav', 'RHIFER_20180627_214942-RIHFER-LR_0_1.0.wav', '00024_barbastellus_barbastellus_0_1.0.wav', 'nyctalus_leisleri_24740269.wav', '00016_barbastellus_barbastellus_0_1.0.wav', 'MYODAU_20180625_215145-MYODAU-LR_0_1.0.wav', 'PipPip_D-20180620_214056-Pippip_0_1.0.wav', 'MYODAU_MYODAU-20190807_212328_0_1.0.wav', 'eb00581_0_1.0.wav', 'EPTSER_20180530_213616-EPTSER-LR_0_1.0.wav', 'MYOMYS_20180619_213720-MYOMYS-LR_0_1.0.wav', 'SURVEYTL8391_20160812_235748_barbar_0_0.5.wav', 'SURVEYTG3718_20160508_214205_Pipnat_0_0.5.wav', 'EPTSER_EPTSER-20190801_212004_0_1.0.wav', 'MYOBEC_MYOBEC-20190621_222448_0_1.0.wav', 'MYODAU_20180625_215332-MYODAU-LR_0_1.0.wav', 'EPTSER_EPTSER-20190724_215529_0_1.0.wav', 'myotis_daubentonii_24740737.wav', 'EPTSER_EPTSER-20190801_211708_0_1.0.wav', '15060016_0_1.0.wav', 'SURVEYTF7199_20160721_034301_pleaur_0_0.5.wav', 'myotis_daubentonii_24740657.wav', 'EPTSER_EPTSER-20190731_212604wav_0_1.0.wav', 'MYODAU_MYODAU-20190807_210416_0_1.0.wav', 'PLEAUS_PLEAUS-20190820_210220_0_1.0.wav', '15060014_0_1.0.wav', '00041_myotis_bechsteinii_0_1.0.wav', 'pipistrellus_nathusii_24740043.wav', 'eb00339_0_1.0.wav', 'MYOBRA_20180606_222746-MYOBRA-LR_0_1.0.wav', 'PipPip_D-20180620_214504-Pippip_0_1.0.wav', 'SURVEYNO3719_20160515_224604_0_0.5.wav', 'SURVEYNX5960_20160725_224739_pleaur_0_0.5.wav', 'PipPip_A-20180620_215558-Pippip_0_1.0.wav', 'RHIHIP_20180708_215921-RHIHIP-LR_0_1.0.wav', 'EPTSER_EPTSER-20190801_210246_0_1.0.wav', 'eb01217_0_1.0.wav', 'SURVEYTG3621_20160624_003941_Pipnat_0_0.5.wav', 'Nyclei_Ireland_S3610715549_20180528_230648_nyclei_0_1.0.wav', 'MYOBRA_20180607_221556-MYOBRA-LR_0_1.0.wav', 'SURVEYNS2061_20160628_013544_pleaur_0_0.5.wav', '00122_plecotus_austriacus_0_1.0.wav', 'PLEAUR_PLEAUR-20190608_224038_0_1.0.wav', 'eb00386_0_1.0.wav', 'MYOALC_MYOALC-20190527_200515_0_1.0.wav', 'PipPip_C-20180620_215200-Pippip_0_1.0.wav', 'eb00753_0_1.0.wav', 'eb00036_0_1.0.wav', 'MYOBRA_20180607_221346-MYOBRA-LR_0_1.0.wav', 'PLEAUR_PLEAUR-20190608_222726_0_1.0.wav', 'SURVEYTL6896_20160624_233923_myodau_0_0.5.wav', 'MYOALC_MYOALC-20190527_200522_0_1.0.wav', 'RHIHIP_20180708_220804-RHIHIP-LR_0_1.0.wav', 'MYOMYS_20170701_015444-MYOMYS-LR_0_1.0.wav', 'MYOBRA_20180607_220516-MYOBRA-LR_0_1.0.wav', 'PipPip_A-20180620_214900-Pippip_0_1.0.wav', 'EPTSER_EPTSER-20190801_213156_0_1.0.wav', 'Nyclei_Ireland_S2334912213_20180531_024728_nyclei_0_1.0.wav', 'EPTSER_EPTSER-20190731_213246_0_1.0.wav', 'BARBAR_20180723_220040-BARBAR-LR_0_1.0.wav', 'eb00448_0_1.0.wav', 'myotis_mystacinus_24740315.wav', 'SURVEYTF9230_20160827_000746_nycnoc_0_0.5.wav', 'eb00953_0_1.0.wav', 'eb00236_0_1.0.wav', 'EPTSER_EPTSER-20190731_213750_0_1.0.wav', 'SURVEYTM4692_20160929_203227_Pipnat_0_0.5.wav', 'EPTSER_EPTSER-20190724_212749_0_1.0.wav', 'MYOMYS_20180620_213130-MYOMYS-LR_0_1.0.wav', '00153_pipistrellus_nathusii_0_1.0.wav', 'myotis_daubentonii_24740774.wav', 'SURVEYNT3773_20160703_003451_0_0.5.wav', 'SURVEYNX8562_20160912_044018_0_0.5.wav', 'BARBAR_20180723_213952-BARBAR-LR_0_1.0.wav', 'PLEAUR_PLEAUR-20190608_220732_0_1.0.wav', 'myotis_daubentonii_24740373.wav', 'Nyclei_Ireland_S2334912213_20180531_024148_nyclei_0_1.0.wav', 'RHIHIP_20180708_214534-RHIHIP-LR_0_1.0.wav', '00101_myotis_daubentonii_0_1.0.wav', '00072_pipistrellus_pipistrellus_0_1.0.wav', 'SURVEYTG4715_20160824_205001_Pipnat_0_0.5.wav', 'MYODAU_20180625_215814-MYODAU-LR_0_1.0.wav', 'MYODAU_20180625_215614-MYODAU-LR_0_1.0.wav', 'eb00601_0_1.0.wav', 'eb00415_0_1.0.wav', 'SURVEYNX6055_20160516_222101_nycnoc_0_0.5.wav', 'EPTSER_EPTSER-20190724_213624_0_1.0.wav', 'MYOMYS_20180601_213602-MYOMYS-LR_0_1.0.wav', 'myotis_daubentonii_24740388.wav', 'eb00981_0_1.0.wav', 'NYCNOC_20190812_210400_0_1.0.wav', 'SURVEYTL7795_20160906_042758_pleaur_0_0.5.wav', 'EPTSER_EPTSER-20190801_211712_0_1.0.wav', 'BARBAR_20180723_215826-BARBAR-LR_0_1.0.wav', '00050_myotis_brandtii_0_1.0.wav', 'eb00013_0_1.0.wav', 'SURVEYNX1161_20160729_033147_myodau_0_0.5.wav', 'PLEAUR_PLEAUR-20190608_224122_0_1.0.wav', 'SURVEYTL7587_20160513_215403_0_0.5.wav', 'eb00131_0_1.0.wav', 'MYOBRA_20180606_221604-MYOBRA-LR_0_1.0.wav', 'eb00341_0_1.0.wav', '00014_barbastellus_barbastellus_0_1.0.wav', 'SURVEYTL7986_20160604_030613_nyclei_0_0.5.wav', 'myotis_daubentonii_24740402.wav', 'EPTSER_EPTSER-20190801_212226_0_1.0.wav', 'SURVEYNX9681_20160616_234644_nycnoc_0_0.5.wav', 'eb00284_0_1.0.wav', 'MYOMYS_20170701_214752-MYOMYS-LR_0_1.0.wav', 'myotis_daubentonii_24740398.wav', 'EPTSER_20180530_213016-EPTSER-LR_0_1.0.wav', 'PipPyg_HANN-20180502_200016-PIPPYG-LR_0_1.0.wav', 'SURVEYTG4117_20160827_234621_0_0.5.wav', 'eb00414_0_1.0.wav', 'EPTSER_EPTSER-20190801_213126_0_1.0.wav', 'PLEAUS_PLEAUS-20190819_210306_0_1.0.wav', 'MYOBRA_20180606_222516-MYOBRA-LR_0_1.0.wav', 'EPTSER_EPTSER-20190801_211853_0_1.0.wav', 'SURVEYNX4972_20160607_013939_nyclei_0_0.5.wav', 'MYODAU_20180625_215738-MYODAU-LR_0_1.0.wav', 'MYOALC_MYOALC-20190527_201852_0_1.0.wav', 'RHIFER_20180627_215852-RHIFER-LR_0_1.0.wav', 'RHIFER_20180627_215547-RHIFER-LR_0_1.0.wav', 'pipistrellus_nathusii_24740019.wav', 'EPTSER_20180530_213438-EPTSER-LR_0_1.0.wav', 'PLEAUR_PLEAUR-20190608_224048_0_1.0.wav', 'TG1041_20160913_042037_barbar_0_0.5.wav', 'MYOBRA_20180607_220420-MYOBRA-LR_0_1.0.wav', 'PLEAUS_PLEAUS-20190820_211356_0_1.0.wav', 'PLEAUR_PLEAUR-20190608_222014_0_1.0.wav', 'eb00421_0_1.0.wav', 'SURVEYTM2184_20160704_224334_Pipnat_0_0.5.wav', 'myotis_mystacinus_24740317.wav', 'MYODAU_MYODAU-20190807_212114_0_1.0.wav', 'eb00287_0_1.0.wav', 'eb01527_0_1.0.wav', 'myotis_nattereri_24740748.wav', 'Nyclei_Ireland_S2334912213_20180530_224155_nyclei_0_1.0.wav', 'EPTSER_20180530_213036-EPTSER-LR_0_1.0.wav', 'RHIFER_20180627_215153-RHIFER-LR_0_1.0.wav', 'RHIHIP_20180708_220859-RHIHIP-LR_0_1.0.wav', 'myotis_daubentonii_24740755.wav', 'nyctalus_leisleri_24740650.wav', 'MYOALC_MYOALC-20190527_200419_0_1.0.wav', 'eb01563_0_1.0.wav', 'Nyclei_Ireland_S3610715549_20180529_231632_nyclei_0_1.0.wav', 'MYOBEC_20170805_211158-MYOBEC-LR_0_1.0.wav', 'MYOBRA_20180606_221944-MYOBRA-LR_0_1.0.wav', 'eb00323_0_1.0.wav', 'SURVEYTF5320_20160720_213511_0_0.5.wav', 'BARBAR_20180723_215832-BARBAR-LR_0_1.0.wav', 'eb00274_0_1.0.wav', 'SURVEYTL8978_20160612_230816_eptser_0_0.5.wav', '00184_myotis_nattereri_0_1.0.wav', 'RHIHIP_20180708_215651-RHIHIP-LR_0_1.0.wav', 'plecotus_auritus_24740133.wav', 'SURVEYNS6209_20160805_220108_0_0.5.wav', 'Nyclei_Ireland_S2325812189_20180530_231903_nyclei_0_1.0.wav', 'SURVEYTF9607_20160823_204443_nycnoc_0_0.5.wav', 'eb00890_0_1.0.wav', 'Nyclei_Ireland_S3610715549_20180526_232900_nyclei_0_1.0.wav', 'nyctalus_leisleri_24740034.wav', 'eb00983_0_1.0.wav', 'MYOBEC_MYOBEC-20190621_214728_0_1.0.wav', 'myotis_mystacinus_24740075.wav', 'SURVEYTG3800_20160827_204302_pleaur_0_0.5.wav', 'SURVEYTM4989_20160622_213404_myonat_0_0.5.wav', 'MYOMYS_MYOMYS-20190625_212936_0_1.0.wav', 'SURVEYNT0285_20160623_224910_pipnat_0_0.5.wav', 'myotis_nattereri_24740901.wav', 'SURVEYTF6322_20160914_021950_nycnoc_0_0.5.wav', 'SURVEYTL8582_20160920_215330_0_0.5.wav', 'plecotus_auritus_24730788.wav', 'BARBAR_20180723_213306-BARBAR-LR_0_1.0.wav', 'PipPip_D-20180620_215000-Pippip_0_1.0.wav', 'PLEAUS_PLEAUS-20190820_210940_0_1.0.wav', 'MYOBRA_20180607_222512-MYOBRA-LR_0_1.0.wav', 'SURVEYTG1020_20160819_222135_eptser_0_0.5.wav', 'eb01298_0_1.0.wav', '00246_eptesicus_serotinus_0_1.0.wav', 'SURVEYNT0285_20160623_225146_pipnat_0_0.5.wav', 'MYOMYS_20180620_214854-MYOMYS-LR_0_1.0.wav', 'PipPyg_HANN-20180502_201428-PIPPYG-LR_0_1.0.wav', 'Nyclei_Ireland_S3610715549_20180528_235101_nyclei_0_1.0.wav', 'SURYEYTL9098_20160627_230044_pleaur_0_0.5.wav', 'EPTSER_20180530_212948-EPTSER-LR_0_1.0.wav', 'SURVEYNS0324_20160624_025821_pleaur_0_0.5.wav', 'MYOBRA_20180606_222020-MYOBRA-LR_0_1.0.wav', '00119_plecotus_austriacus_0_1.0.wav', 'pipistrellus_nathusii_24740403.wav', 'eb00507_0_1.0.wav', 'MYOBEC_MYOBEC-20190621_215902_0_1.0.wav', 'pipistrellus_nathusii_24740675.wav', 'SURVEYTG3036_20160806_035417_myonat_0_0.5.wav', 'SURVEYTG4614_20160526_005941_Pipnat_0_0.5.wav', 'myotis_daubentonii_24740372.wav', 'SURVEYNX1154_20160808_221759_nyclei_0_0.5.wav', 'RHIHIP_20180708_220340-RHIHIP-LR_0_1.0.wav', 'MYODAU_20180625_215842-MYODAU-LR_0_1.0.wav', 'MYODAU_20180625_215858-MYODAU-LR_0_1.0.wav', 'SURVEYTG0229_20160912_023015_pleaur_0_0.5.wav', 'pipistrellus_nathusii_24740060.wav', 'plecotus_auritus_22960061.wav', 'SURVEYNS8052_20160901_210409_0_0.5.wav', 'SURVEYNO4403_20160606_230516_0_0.5.wav', 'EPTSER_20180625_220709-EPTSER_LR_0_1.0.wav', 'eb01274_0_1.0.wav', '15060057_0_1.0.wav', '00212_myotis_nattereri_0_1.0.wav', 'myotis_mystacinus_24740192.wav', 'BARBAR_20180723_214042-BARBAR-LR_0_1.0.wav', '15060102_0_1.0.wav', 'RHIHIP_20180708_215536-RHIHIP-LR_0_1.0.wav', 'SURVEYNS4922_20160802_010441_pleaur_0_0.5.wav', 'SURVEYTG4106_20160818_042113_eptser_0_0.5.wav', 'myotis_daubentonii_24740377.wav', 'MYOBRA_20180607_222152-MYOBRA-LR_0_1.0.wav', 'SURVEYTL7798_20160918_202347_myodau_0_0.5.wav', 'Nyclei_Ireland_S2325812189_20180530_225744_nyclei_0_1.0.wav', 'PLEAUS_PLEAUS-20190819_211352_0_1.0.wav', 'MYOMYS_20170712_214722-MYOMYS-LR_0_1.0.wav', 'eb00145_0_1.0.wav', 'myotis_nattereri_24740653.wav', '00187_myotis_nattereri_0_1.0.wav', 'MYOBRA_20180607_221846-MYOBRA-LR_0_1.0.wav', '00256_eptesicus_serotinus_0_1.0.wav', 'MYODAU_20170803_213453-MYODAU-LR_0_1.0.wav', 'PLEAUR_20180528_213530-PLEAUR-LR_0_1.0.wav', 'EPTSER_EPTSER-20190801_212551_0_1.0.wav', 'RHIFER_20180627_215059-RHIFER-LR_0_1.0.wav', 'PLEAUR_PLEAUR-20190608_224014_0_1.0.wav', 'BARBAR_20180723_215944-BARBAR-LR_0_1.0.wav', 'EPTSER_20180530_212956-EPTSER-LR_0_1.0.wav', 'RHIFER_20180627_215000-RHIFER-LR_0_1.0.wav', 'pipistrellus_nathusii_24740050.wav', 'eb00907_0_1.0.wav', 'RHIFER_20180627_215918-RHIFER-LR_0_1.0.wav', 'eb00714_0_1.0.wav', '00001_myotis_alcathoe_0_1.0.wav', 'EPTSER_20180530_213024-EPTSER-LR_0_1.0.wav', 'MYOMYS_20170701_213830-MYOMYS-LR_0_1.0.wav', 'pipistrellus_nathusii_24740003.wav', 'Nyclei_Ireland_S3610715549_20180527_023328_nyclei_0_1.0.wav', 'SURVEYTG0922_20160608_225825_eptser_0_0.5.wav', 'eb00647_0_1.0.wav', 'pipistrellus_nathusii_24740588.wav', 'PipPip_A-20180620_215802-Pippip_0_1.0.wav', '00124_plecotus_austriacus_0_1.0.wav', 'SURVEYTG1602_20160615_214832_nycnoc_0_0.5.wav', 'RHIFER_20180627_220532-RHIFER-LR_0_1.0.wav', 'SURVEYTG2529_20160910_044325_barbar_0_0.5.wav', 'MYOBEC_MYOBEC-20190621_214322_0_1.0.wav', 'PLEAUR_PLEAUR-20190608_224104_0_1.0.wav', 'PLEAUR_PLEAUR-20190608_224022_0_1.0.wav', 'SURVEYNT6424_20160722_032010_pleaur_0_0.5.wav', 'MYOMYS_20180620_214444-MYOMYS-LR_0_1.0.wav', 'MYODAU_20170803_211852-MYODAU-LR_0_1.0.wav', 'PipPyg_HAN-20180502_200226-PIPPYG-LR_0_1.0.wav', 'BARBAR_20180723_215528-BARBAR-LR_0_1.0.wav', 'SURVEYNT2442_20160610_032111_0_0.5.wav', 'MYOALC_MYOALC-20190527_200544_0_1.0.wav', 'MYOALC_MYOALC-20190527_200241_0_1.0.wav', 'MYOBEC_MYOBEC-20190621_215214_0_1.0.wav', 'SURVEYNX5848_20160628_024400_0_0.5.wav', 'myotis_mystacinus_24740193.wav', 'MYOMYS_MYOMYS-20190625_213040_0_1.0.wav', 'PLEAUS_PLEAUS-20190820_212722_0_1.0.wav', 'eb00184_0_1.0.wav', 'myotis_nattereri_24740974.wav', 'eb00816_0_1.0.wav', 'MYOALC_MYOALC-20190527_200722_0_1.0.wav', 'EPTSER_20180530_212918-EPTSER-LR_0_1.0.wav', 'EPTSER_20180612_215236-EPTSER-LR_0_1.0.wav', 'Nyclei_Ireland_S2334912213_20180531_021327_nyclei_0_1.0.wav', 'MYODAU_MYODAU-20190807_210703_0_1.0.wav', 'PLEAUR_PLEAUR-20190608_222744_0_1.0.wav', 'SURVEYNT0285_20160623_224954_pipnat_0_0.5.wav', '00296_myotis_mystacinus_0_1.0.wav', 'PLEAUS_20180630_4-PLEAUS_LR_0_1.0.wav', 'SURVEYTG2322_20160725_001608_myodau_0_0.5.wav', '00051_myotis_brandtii_0_1.0.wav', 'PipPip_D-20180620_214742-Pippip_0_1.0.wav', '00099_myotis_daubentonii_0_1.0.wav', 'MYOMYS_20180601_213910-MYOMYS-LR_0_1.0.wav', 'RHIFER_20180627_215632-RHIFER-LR_0_1.0.wav', 'myotis_daubentonii_24740401.wav', 'MYODAU_20180625_215152-MYODAU-LR_0_1.0.wav', 'MYODAU_20180625_220334-MYODAU-LR_0_1.0.wav', 'RHIFER_20180627_215120-RHIFER-LR_0_1.0.wav', 'myotis_daubentonii_24740752.wav', '00097_myotis_daubentonii_0_1.0.wav', 'NY3887092430_20160719_004539_myodau_0_0.5.wav', 'SURVEYTL7798_20160919_012235_myodau_0_0.5.wav', 'pipistrellus_nathusii_24740643.wav', '00165_myotis_nattereri_0_1.0.wav', 'eb01165_0_1.0.wav', 'EPTSER_EPTSER-20190801_212021_0_1.0.wav', 'SURVEYNS0135_20160618_233228_pleaur_0_0.5.wav', 'MYODAU_20180625_215758-MYODAU-LR_0_1.0.wav', 'PipPip_C-20180620_214216-Pippip_0_1.0.wav', '00285_myotis_mystacinus_0_1.0.wav', 'myotis_mystacinus_24740063.wav', 'MYOMYS_20170701_213918-MYOMYS-LR_0_1.0.wav', 'SURYEYTF7501_20160906_234700_barbar_0_0.5.wav', '00161_myotis_nattereri_0_1.0.wav', 'RHIHIP_20180708_215132-RHIHIP-LR_0_1.0.wav', 'MYOMYS_20180619_213804-MYOMYS-LR_0_1.0.wav', 'nyctalus_leisleri_22960356.wav', 'PLEAUR_PLEAUR-20190608_223852_0_1.0.wav', 'Nyclei_Ireland_S2334912213_20180531_021139_nyclei_0_1.0.wav', 'SURVEYTG0229_20160912_001606_barbar_0_0.5.wav', 'EPTSER_EPTSER-20190801_211216_0_1.0.wav', '00136_pipistrellus_nathusii_0_1.0.wav', 'PLEAUR_PLEAUR-20190608_220642_0_1.0.wav', 'SURVEYNO3010_20160714_233134_myonat_0_0.5.wav', 'MYOMYS_MYOMYS-20190625_212844_0_1.0.wav', 'PipPyg_HAN-20180502_193602-PIPPYG-LR_0_1.0.wav', 'EPTSER_EPTSER-20190801_212042_0_1.0.wav', 'myotis_mystacinus_24740106.wav', 'SURVEYTG3007_20160607_003734_eptser_0_0.5.wav', 'Nyclei_Ireland_S2325812189_20180601_044216_nyclei_0_1.0.wav', '00075_pipistrellus_pipistrellus_0_1.0.wav', 'EPTSER_EPTSER-20190801_212428_0_1.0.wav', 'eb00798_0_1.0.wav', 'plecotus_auritus_24730826.wav', 'PLEAUS_PLEAUS-20190820_204824_0_1.0.wav', '00098_myotis_daubentonii_0_1.0.wav', 'MYOALC_MYOALC-20190527_200628_0_1.0.wav', 'EPTSER_EPTSER-20190801_210500_0_1.0.wav', 'myotis_mystacinus_24740130.wav', 'RHIFER_20180627_214426-RHIFER-LR_0_1.0.wav', 'MYOBEC_20180615_220234-MYOBEC-LR_0_1.0.wav', 'MYOMYS_20180619_214502-MYOMYS-LR_0_1.0.wav', 'myotis_daubentonii_24740765.wav', 'EPTSER_20180612_213936-EPTSER-LR_0_1.0.wav', 'MYOMYS_20170712_214846-MYOMYS-LR_0_1.0.wav', 'nyctalus_leisleri_24740272.wav', 'NYCNOC_20190812_210839_0_1.0.wav', 'SURVEYNT8556_20160901_013048_0_0.5.wav', 'myotis_mystacinus_24740364.wav', 'RHIFER_20180627_214336-RHIFER-LR_0_1.0.wav', 'EPTSER_EPTSER-20190801_211016_0_1.0.wav', 'eb00338_0_1.0.wav', 'eb00608_0_1.0.wav', 'SURVEYNX5262_20160730_004704_0_0.5.wav', 'EPTSER_EPTSER-20190801_210422_0_1.0.wav', 'SURVEYTL7587_20160514_022738_eptser_0_0.5.wav', 'myotis_daubentonii_24740791.wav', 'SURVEYTF5900_20160629_224907_nycnoc_0_0.5.wav', 'SURVEYNX1160_20160817_221234_pipnat_0_0.5.wav', 'MYODAU_MYODAU-20190807_211720_0_1.0.wav', 'MYOBEC_20170805_212844-MYOBEC-LR_0_1.0.wav', 'eb00497_0_1.0.wav', 'MYOBEC_20170805_212429-MYOBEC-LR_0_1.0.wav', 'MYOBRA_20180607_221920-MYOBRA-LR_0_1.0.wav', 'MYOALC_MYOALC-20190527_195528_0_1.0.wav', 'SURVEYNT4029_20160911_223840_pleaur_0_0.5.wav', 'eb00761_0_1.0.wav', 'SURVEYTF7426_20160821_211255_eptser_0_0.5.wav', 'myotis_daubentonii_24740801.wav', 'myotis_mystacinus_24740121.wav', 'eb00604_0_1.0.wav', 'SURVEYNT6933_20160822_020348_nycnoc_0_0.5.wav', 'pipistrellus_nathusii_24740382.wav', 'Nyclei_Ireland_S3610715549_20180528_230232_nyclei_0_1.0.wav', 'eb00878_0_1.0.wav', 'SURVEYTM1380_20160707_022456_0_0.5.wav', 'MYODAU_MYODAU-20190807_211856_0_1.0.wav', 'SURVEYTM0196_20160609_030923_barbar_0_0.5.wav', 'SURVEYTF7637_20160826_024025_barbar_0_0.5.wav', 'EPTSER_EPTSER-20190801_211018_0_1.0.wav', 'BARBAR_20180723_215744-BARBAR-LR_0_1.0.wav', 'myotis_nattereri_24740830.wav', 'MYODAU_20180625_215506-MYODAU-LR_0_1.0.wav', 'EPTSER_20180621_215052-EPTSER-LR_0_1.0.wav', 'eb00237_0_1.0.wav', 'eb01038_0_1.0.wav', 'MYODAU_20180625_214526-MYODAU-LR_0_1.0.wav', 'MYOBRA_20180607_220838-MYOBRA-LR_0_1.0.wav', 'MYOALC_MYOALC-20190527_200458_0_1.0.wav', 'pipistrellus_nathusii_24740687.wav', 'nyctalus_leisleri_24740274.wav', 'Nyclei_Ireland_S2334912213_20180531_021101_nyclei_0_1.0.wav', 'SURVEYTG2129_20160803_220843_0_0.5.wav', 'myotis_nattereri_24740820.wav', 'RHIFER_20180627_221149-RHIFER-LR_0_1.0.wav', 'SURVEYTF6999_20160709_042059_nycnoc_0_0.5.wav', '15060044_0_1.0.wav', 'eb01297_0_1.0.wav', 'pipistrellus_nathusii_24740039.wav', 'MYOALC_MYOALC-20190527_200240_0_1.0.wav', 'SURVEYTG3622_20160619_223335_barbar_0_0.5.wav', 'SURVEYNX6555_20160621_230353_pipnat_0_0.5.wav', 'PLEAUS_PLEAUS-20190819_211738_0_1.0.wav', 'EPTSER_EPTSER-20190801_212342_0_1.0.wav', 'myotis_daubentonii_24740781.wav', '00287_myotis_mystacinus_0_1.0.wav', 'myotis_daubentonii_24740175.wav', 'PipPip_D-20180620_214110-Pippip_0_1.0.wav', 'eb00418_0_1.0.wav', 'SURVEYNH9418_20160512_223425_myodau_0_0.5.wav', 'MYODAU_20180625_221428-MYODAU-LR_0_1.0.wav', 'SURVEYNT0811_20160915_032142_myonat_0_0.5.wav', 'MYOMYS_20180620_213602-MYOMYS-LR_0_1.0.wav', 'myotis_nattereri_24740973.wav', 'PipPyg_HAN-20180502_195406-PIPPYG-LR_0_1.0.wav', 'MYOMYS_20170701_214206-MYOMYS-LR_0_1.0.wav', 'MYODAU_20170803_213222-MYODAU-LR_0_1.0.wav', 'SURVEYTG0517_20160626_015418_0_0.5.wav', 'myotis_mystacinus_24740111.wav', 'MYOMYS_20180620_211656-MYOMYS-LR_0_1.0.wav', 'SURVEYNX4264_20160621_033651_nycnoc_0_0.5.wav', 'nyctalus_leisleri_22960526.wav', 'MYOMYS_20180620_214202-MYOMYS-LR_0_1.0.wav', 'MYODAU_20180625_214952-MYODAU-LR_0_1.0.wav', 'NYCNOC_20190812_210742_0_1.0.wav', 'RHIHIP_20180708_220256-RHIHIP-LR_0_1.0.wav', '00167_myotis_nattereri_0_1.0.wav', '00085_pipistrellus_pipistrellus_0_1.0.wav', 'NYCNOC_20190812_210408_0_1.0.wav', 'MYOBRA_20180606_221138-MYOBRA-LR_0_1.0.wav', '00177_myotis_nattereri_0_1.0.wav', 'Nyclei_Ireland_S2325812189_20180531_232320_nyclei_0_1.0.wav', 'MYODAU_20180625_215501-MYODAU-LR_0_1.0.wav', 'PLEAUR_20180528_213531-PLEAUR-LR_0_1.0.wav', 'eb00867_0_1.0.wav', 'SURVEYNR8745_20160611_231647_myonat_0_0.5.wav', 'MYOBRA_20180607_221450-MYOBRA-LR_0_1.0.wav', 'myotis_mystacinus_24740254.wav', '00288_myotis_mystacinus_0_1.0.wav', 'NYCNOC_20190812_211110_0_1.0.wav', 'NYCNOC_20190812_210608_0_1.0.wav', 'PLEAUR_PLEAUR-20190608_222258_0_1.0.wav', 'plecotus_auritus_24730564.wav', 'EPTSER_20180530_213140-EPTSER-LR_0_1.0.wav', 'eb00321_0_1.0.wav', 'SURVEYNR8745_20160612_025044_pleaur_0_0.5.wav', 'Nyclei_Ireland_S2325812189_20180531_033851_nyclei_0_1.0.wav', 'pipistrellus_pipistrellus_24740016.wav', '00195_myotis_nattereri_0_1.0.wav', 'SURVEYNT2540_20150923_204157_pleaur_0_0.5.wav', 'EPTSER_20180530_213652-EPTSER-LR_0_1.0.wav', 'eb00326_0_1.0.wav', 'nyctalus_leisleri_24740052.wav', 'MYOBEC_20170805_212631-MYOBEC-LR_0_1.0.wav', 'RHIHIP_20180708_215512-RHIHIP-LR_0_1.0.wav', 'Nyclei_Ireland_S2334912213_20180531_044951_nyclei_0_1.0.wav', 'eb00915_0_1.0.wav', 'PipPyg_HANN-20180502_201054-PIPPYG-LR_0_1.0.wav', '15060027_0_1.0.wav', 'EPTSER_EPTSER-20190731_213921_0_1.0.wav', 'Nyclei_Ireland_S2334912213_20180530_214704_nyclei_0_1.0.wav', 'MYOBRA_20180606_222120-MYOBRA-LR_0_1.0.wav', 'MYOBRA_20180607_221233-MYOBRA-LR_0_1.0.wav', 'SURVEYNX1061_20160910_061648_Pipnat_0_0.5.wav', 'pipistrellus_nathusii_24740388.wav', 'eb00594_0_1.0.wav', 'TG1041_20160914_033757_Pipnat_0_0.5.wav', '00076_pipistrellus_pipistrellus_0_1.0.wav', 'MYOBRA_20180607_222349-MYOBRA-LR_0_1.0.wav', 'SURVEYTF7199_20160704_215334_nycnoc_0_0.5.wav', 'SURVEYTG3006_20160518_042049_nycnoc_0_0.5.wav', 'EPTSER_EPTSER-20190801_210522_0_1.0.wav', 'PLEAUR_PLEAUR-20190608_223802_0_1.0.wav', 'NYCNOC_20190812_210757_0_1.0.wav', '00179_myotis_nattereri_0_1.0.wav', 'SURVEYTG4218_20160911_203018_nycnoc_0_0.5.wav', 'EPTSER_EPTSER-20190801_214048_0_1.0.wav', '00106_myotis_daubentonii_0_1.0.wav', 'plecotus_auritus_24740383.wav', 'MYOMYS_MYOMYS-20190625_213320_0_1.0.wav', 'SURVEYNS0238_20160511_040911_myonat_0_0.5.wav', 'RHIFER_20180627_215542-RHIFER-LR_0_1.0.wav', 'myotis_nattereri_24740992.wav', 'eb01491_0_1.0.wav', 'MYODAU_20180625_215822-MYODAU-LR_0_1.0.wav', 'PipPyg_HAN-20180502_195724-PIPPYG-LR_0_1.0.wav', 'MYOMYS_20180619_212948-MYOMYS-LR_0_1.0.wav', 'Nyclei_Ireland_S2325812189_20180531_023912_nyclei_0_1.0.wav', 'eb01224_0_1.0.wav', 'MYOBRA_20180607_222430-MYOBRA-LR_0_1.0.wav', 'BARBAR_20180723_215734-BARBAR-LR_0_1.0.wav', 'SURVEYNY0465_20160705_224821_nyclei_0_0.5.wav', 'eb00503_0_1.0.wav', 'PLEAUR_PLEAUR-20190608_222032_0_1.0.wav', 'MYODAU_MYODAU-20190807_211644_0_1.0.wav', 'EPTSER_EPTSER-20190801_214312_0_1.0.wav', 'PipPyg_HANN-20180502_200856-PIPPYG-LR_0_1.0.wav', '00247_eptesicus_serotinus_0_1.0.wav', 'eb00606_0_1.0.wav', 'myotis_mystacinus_24740117.wav', 'eb00432_0_1.0.wav', 'myotis_daubentonii_24740400.wav', 'MYODAU_20180625_215918-MYODAU-LR_0_1.0.wav', 'SURVEYTF9332_20160906_052604_myonat_0_0.5.wav', 'eb00715_0_1.0.wav', 'MYOMYS_20180620_213258-MYOMYS-LR_0_1.0.wav', 'myotis_nattereri_24740628.wav', 'MYOMYS_20180620_214238-MYOMYS-LR_0_1.0.wav', 'pipistrellus_nathusii_24740028.wav', '00236_eptesicus_serotinus_0_1.0.wav', 'plecotus_auritus_24740386.wav', 'nyctalus_leisleri_24740085.wav', '00286_myotis_mystacinus_0_1.0.wav', 'RHIFER_20180627_215020-RHIFER-LR_0_1.0.wav', 'SURVEYNS0145_20160526_233629_myodau_0_0.5.wav', 'SURVEYNX1061_20160909_233557_Pipnat_0_0.5.wav', 'PipPyg_HAN-20180502_193346-PIPPYG-LR_0_1.0.wav', 'MYOMYS_MYOMYS-20190625_213416_0_1.0.wav', 'MYOBRA_20180606_222134-MYOBRA-LR_0_1.0.wav', 'PipPip_A-20180620_215604-Pippip_0_1.0.wav', 'nyctalus_leisleri_24740239.wav', 'PLEAUS_PLEAUS-20190820_205152_0_1.0.wav', 'MYOBRA_20180607_221228-MYOBRA-LR_0_1.0.wav', 'MYOMYS_20170701_214324-MYOMYS-LR_0_1.0.wav', 'RHIFER_20180627_214400-RHIFER-LR_0_1.0.wav', 'SURVEYTM0178_20160708_234029_nyclei_0_0.5.wav', 'MYOBRA_20180607_222656-MYOBRA-LR_0_1.0.wav', 'MYOBEC_20170805_213033-MYOBEC-LR_0_1.0.wav', 'myotis_daubentonii_24740773.wav', 'RHIHIP_20180708_215722-RHIHIP-LR_0_1.0.wav', '00090_myotis_daubentonii_0_1.0.wav', '00121_plecotus_austriacus_0_1.0.wav', 'EPTSER_20180530_213029-EPTSER-LR_0_1.0.wav', 'MYOBEC_20170805_212828-MYOBEC-LR_0_1.0.wav', 'plecotus_auritus_24740132.wav', 'RHIFER_20180627_220754-RHIFER-LR_0_1.0.wav', 'myotis_nattereri_24740975.wav', 'PipPyg_HAN-20180502_200532-PIPPYG-LR_0_1.0.wav', 'MYOBRA_20180606_222722-MYOBRA-LR_0_1.0.wav', 'MYOBRA_20180606_223044-MYOBRA-LR_0_1.0.wav', '00289_myotis_mystacinus_0_1.0.wav', 'PipPyg_HANN-20180502_202832-PIPPYG-LR_0_1.0.wav', 'MYOBRA_20180607_222702-MYOBRA-LR_0_1.0.wav', 'SURVEYTG5014_20160712_235353_barbar_0_0.5.wav', 'MYOMYS_MYOMYS-20190625_214824_0_1.0.wav', 'SURVEYTL7182_20160811_030655_eptser_0_0.5.wav', 'EPTSER_20180530_213540-EPTSER-LR_0_1.0.wav', 'EPTSER_20180530_213510-EPTSER-LR_0_1.0.wav', 'SURVEYTG4117_20160825_222506_myodau_0_0.5.wav', 'myotis_nattereri_24740796.wav', 'SURVEYTF9104_20160722_231623_barbar_0_0.5.wav', 'MYOBEC_20180615_215744-MYOBEC-LR_0_1.0.wav', 'nyctalus_leisleri_24740714.wav', 'eb00186_0_1.0.wav', 'PipPip_A-20180620_214740-Pippip_0_1.0.wav', 'MYODAU_MYODAU-20190807_211750_0_1.0.wav', 'MYODAU_20170803_213102-MYODAU-LR_0_1.0.wav', 'Nyclei_Ireland_S2334912213_20180530_231843_nyclei_0_1.0.wav', 'MYOBEC_20170805_211235-MYOBEC-LR_0_1.0.wav', 'pipistrellus_nathusii_24740310.wav', 'PipPip_D-20180620_214326-Pippip_0_1.0.wav', 'nyctalus_leisleri_24740283.wav', 'PipPyg_HANN-20180502_200622-PIPPYG-LR_0_1.0.wav', 'nyctalus_leisleri_24740716.wav', '00243_eptesicus_serotinus_0_1.0.wav', 'SURVEYTG4614_20160525_231931_Pipnat_0_0.5.wav', 'myotis_nattereri_24740967.wav', 'MYOBRA_20180606_221132-MYOBRA-LR_0_1.0.wav', 'SURVEYTL8391_20160814_222727_eptser_0_0.5.wav', 'myotis_daubentonii_24740380.wav', 'SURVEYTG1911_20160605_030953_0_0.5.wav', 'eb00137_0_1.0.wav', '00058_plecotus_auritus_0_1.0.wav', 'SURVEYTM1782_20160805_041424_0_0.5.wav', '00141_pipistrellus_nathusii_0_1.0.wav', 'MYOBRA_20180606_220852-MYOBRA-LR_0_1.0.wav', 'MYONAT_20170804_214500-MYONAT-LR_0_1.0.wav', 'MYOBRA_20180607_221206-MYOBRA-LR_0_1.0.wav', 'myotis_mystacinus_24740252.wav', 'MYODAU_20180625_214430-MYODAU-LR_0_1.0.wav', '00102_myotis_daubentonii_0_1.0.wav', 'eb00150_0_1.0.wav', '15060101_0_1.0.wav', 'MYOBRA_20180607_221302-MYOBRA-LR_0_1.0.wav', '00281_myotis_mystacinus_0_1.0.wav', 'PipPyg_HANN-20180502_202516-PIPPYG-LR_0_1.0.wav', 'EPTSER_EPTSER-20190801_212056_0_1.0.wav', 'SURVEYNX4042_20160818_020415_nyclei_0_0.5.wav', 'myotis_daubentonii_24740749.wav', 'RHIHIP_20180708_215010-RHIHIP-LR_0_1.0.wav', 'eb00617_0_1.0.wav', '00021_barbastellus_barbastellus_0_1.0.wav', 'MYOBRA_20180606_221718-MYOBRA-LR_0_1.0.wav', 'eb01530_0_1.0.wav', 'eb00839_0_1.0.wav', 'SURVEYTG0117_20160614_023645_eptser_0_0.5.wav', 'plecotus_auritus_22931174.wav', 'SURVEYNX9369_20160527_033453_0_0.5.wav', 'EPTSER_EPTSER-20190801_212014_0_1.0.wav', 'Nyclei_Ireland_S3610715549_20180528_231545_nyclei_0_1.0.wav', 'MYOBRA_20180607_223430-MYOBRA-LR_0_1.0.wav', '00028_myotis_bechsteinii_0_1.0.wav', 'EPTSER_EPTSER-20190801_211340_0_1.0.wav', 'RHIFER_20180627_215642-RHIFER-LR_0_1.0.wav', 'MYODAU_20180625_220452-MYODAU-LR_0_1.0.wav', 'RHIFER_20180627_220240-RHIFER-LR_0_1.0.wav', '00084_pipistrellus_pipistrellus_0_1.0.wav', '00180_myotis_nattereri_0_1.0.wav', 'PLEAUR_PLEAUR-20190608_223910_0_1.0.wav', 'RHIHIP_20180708_214746-RHIHIP-LR_0_1.0.wav', 'EPTSER_EPTSER-20190801_211124_0_1.0.wav', 'NO1418822611_20160903_045152_0_0.5.wav', 'MYOMYS_20170731_211634-MYOMYS-LR_0_1.0.wav', 'PLEAUR_PLEAUR-20190608_220733_0_1.0.wav', 'EPTSER_EPTSER-20190801_211705_0_1.0.wav', 'EPTSER_20180530_213018-EPTSER-LR_0_1.0.wav', 'eb00886_0_1.0.wav', 'eb00849_0_1.0.wav', 'RHIHIP_20180708_215147-RHIHIP-LR_0_1.0.wav', 'RHIFER_20180627_215404-RHIFER-LR_0_1.0.wav', 'eb00174_0_1.0.wav', 'PipPip_A-20180620_214802-Pippip_0_1.0.wav', 'RHIFER_20180627_215716-RHIFER-LR_0_1.0.wav', 'eb00572_0_1.0.wav', 'EPTSER_20180530_213422-EPTSER-LR_0_1.0.wav', 'MYOMYS_20180601_213824-MYOMYS-LR_0_1.0.wav', 'RHIHIP_20180708_215638-RHIHIP-LR_0_1.0.wav', 'eb00083_0_1.0.wav', '00005_barbastellus_barbastellus_0_1.0.wav', 'MYOBRA_20180607_222411-MYOBRA-LR_0_1.0.wav', 'myotis_nattereri_24740795.wav', 'Nyclei_Ireland_S3610715549_20180529_234311_nyclei_0_1.0.wav', 'SURVEYTG2322_20160725_022210_myodau_0_0.5.wav', '15060010_0_1.0.wav', 'MYODAU_20180625_215306-MYODAU-LR_0_1.0.wav', 'EPTSER_20180530_212916-EPTSER-LR_0_1.0.wav', '00079_pipistrellus_pipistrellus_0_1.0.wav', 'eb00673_0_1.0.wav', 'myotis_daubentonii_24740751.wav', 'MYOALC_MYOALC-20190527_200450_0_1.0.wav', 'PipPyg_HANN-20180502_201826-PIPPYG-LR_0_1.0.wav', 'EPTSER_20180530_213128-EPTSER-LR_0_1.0.wav', 'EPTSER_20180530_213558-EPTSER-LR_0_1.0.wav', 'SURVEYNX4264_20160619_011109_nyclei_0_0.5.wav', 'MYOMYS_20180620_213416-MYOMYS-LR_0_1.0.wav', 'MYODAU_20180625_220151-MYODAU-LR_0_1.0.wav', 'SURVEYTG4218_20160813_035942_eptser_0_0.5.wav', 'EPTSER_EPTSER-20190729_212818_0_1.0.wav', 'MYODAU_20180625_220325-MYODAU-LR_0_1.0.wav', 'RHIFER_20180627_214908-RHIFER-LR_0_1.0.wav', 'PLEAUS_PLEAUS-20190819_205854_0_1.0.wav', 'PLEAUR_PLEAUR-20190608_220244_0_1.0.wav', 'eb00221_0_1.0.wav', 'MYOBEC_20170805_212245-MYOBEC-LR_0_1.0.wav', 'SURVEYTL7798_20160918_215035_myodau_0_0.5.wav', 'MYODAU_20180625_215502-MYODAU-LR_0_1.0.wav', 'eb00868_0_1.0.wav', 'RHIFER_20180627_215318-RHIFER-LR_0_1.0.wav', 'eb00958_0_1.0.wav', 'SURVEYNX8562_20160913_030241_myonat_0_0.5.wav', 'MYOBRA_20180606_221354-MYOBRA-LR_0_1.0.wav', 'SURVEYTG1911_20160602_234555_0_0.5.wav', 'MYODAU_20180625_220655-MYODAU-LR_0_1.0.wav', 'PLEAUR_PLEAUR-20190608_224036_0_1.0.wav', 'RHIFER_20180627_214709-RHIFER-LR_0_1.0.wav', 'MYODAU_20180625_215853-MYODAU-LR_0_1.0.wav', 'eb00810_0_1.0.wav', 'MYODAU_20180625_220004-MYODAU-LR_0_1.0.wav', 'SURVEYTL9188_20160527_220750_barbar_0_0.5.wav', 'eb00310_0_1.0.wav', 'PipPip_D-20180620_214854-Pippip_0_1.0.wav', 'myotis_mystacinus_24740116.wav', 'myotis_daubentonii_24740809.wav', 'MYODAU_20180625_215436-MYODAU-LR_0_1.0.wav', 'SURVEYNT7328_20160530_233057_nycnoc_0_0.5.wav', 'RHIFER_20180627_214844-RHIFER-LR_0_1.0.wav', 'PLEAUR_PLEAUR-20190608_221828_0_1.0.wav', '00232_eptesicus_serotinus_0_1.0.wav', 'MYODAU_20180625_220301-MYODAU-LR_0_1.0.wav', 'MYOBRA_20180607_221232-MYOBRA-LR_0_1.0.wav', 'SURVEYTG2322_20160725_005443_myodau_0_0.5.wav', 'EPTSER_EPTSER-20190801_210724_0_1.0.wav', 'PLEAUR_PLEAUR-20190608_224004_0_1.0.wav', '00082_pipistrellus_pipistrellus_0_1.0.wav', 'MYOBEC_20170805_212450-MYOBEC-LR_0_1.0.wav', 'MYOBRA_20180606_221234-MYOBRA-LR_0_1.0.wav', 'SURVEYTF7636_20160622_223438_eptser_0_0.5.wav', 'EPTSER_EPTSER-20190801_212836_0_1.0.wav', '00062_plecotus_auritus_0_1.0.wav', 'EPTSER_20180530_213544-EPTSER-LR_0_1.0.wav', 'SURVEYTF5320_20160720_225409_0_0.5.wav', '00089_myotis_daubentonii_0_1.0.wav', 'eb00484_0_1.0.wav', 'eb00505_0_1.0.wav', 'MYOBRA_20180606_221806-MYOBRA-LR_0_1.0.wav', 'eb00705_0_1.0.wav', 'PipPyg_HANN-20180502_202052-PIPPYG-LR_0_1.0.wav', 'RHIHIP_20180708_214621-RHIHIP-LR_0_1.0.wav', 'MYOMYS_20180620_213436-MYOMYS-LR_0_1.0.wav', 'BARBAR_20180723_213954-BARBAR-LR_0_1.0.wav', 'PLEAUS_PLEAUS-20190819_214204_0_1.0.wav', 'PipPip_A-20180620_215450-Pippip_0_1.0.wav', 'RHIFER_20180627_215829-RHIFER-LR_0_1.0.wav', 'eb00238_0_1.0.wav', 'PipPip_A-20180620_215730-Pippip_0_1.0.wav', '15060099_0_1.0.wav', 'MYODAU_20180625_215307-MYODAU-LR_0_1.0.wav', 'eb00372_0_1.0.wav', 'PLEAUR_PLEAUR-20190608_223814_0_1.0.wav', 'BARBAR_20180723_215148-BARBAR-LR_0_1.0.wav', '00291_myotis_mystacinus_0_1.0.wav', '00237_eptesicus_serotinus_0_1.0.wav', 'MYOBEC_20170805_211530-MYOBEC-LR_0_1.0.wav', 'MYODAU_20180625_220812-MYODAU-LR_0_1.0.wav', 'MYOALC_MYOALC-20190527_201846_0_1.0.wav', 'eb00586_0_1.0.wav', 'EPTSER_EPTSER-20190724_213253_0_1.0.wav', 'PipPip_D-20180620_214542-Pippip_0_1.0.wav', 'MYOBRA_20180606_222255-MYOBRA-LR_0_1.0.wav', '00265_pipistrellus_pygmaeus_0_1.0.wav', 'EPTSER_EPTSER-20190801_213108_0_1.0.wav', 'EPTSER_EPTSER-20190801_211116_0_1.0.wav', 'MYOBRA_20180606_221320-MYOBRA-LR_0_1.0.wav', 'myotis_nattereri_24740977.wav', 'MYOBEC_20170805_211830-MYOBEC-LR_0_1.0.wav', 'pipistrellus_nathusii_24740791.wav', 'Nyclei_Ireland_S2334912213_20180531_034500_nyclei_0_1.0.wav', 'MYOBRA_20180606_222027-MYOBRA-LR_0_1.0.wav', 'MYOALC_MYOALC-20190527_195940_0_1.0.wav', 'BARBAR_20180723_213252-BARBAR-LR_0_1.0.wav', 'nyctalus_leisleri_24740810.wav', 'PLEAUR_PLEAUR-20190608_223900_0_1.0.wav', 'PLEAUR_PLEAUR-20190608_220254_0_1.0.wav', 'eb01054_0_1.0.wav', 'RHIFER_20180627_214222-RHIFER-LR_0_1.0.wav', 'PipPip_C-20180620_215614-Pippip_0_1.0.wav', 'PipPip_A-20180620_214842-Pippip_0_1.0.wav', 'eb00367_0_1.0.wav', 'Nyclei_Ireland_S2334912213_20180531_020946_nyclei_0_1.0.wav', 'PipPyg_HAN-20180502_195342-PIPPYG-LR_0_1.0.wav', 'RHIFER_20180627_214848-RHIFER-LR_0_1.0.wav', 'eb00248_0_1.0.wav', 'SURVEYNT6933_20160522_003532_nycnoc_0_0.5.wav', 'nyctalus_leisleri_24740318.wav', 'eb00551_0_1.0.wav', 'PipPip_D-20180620_214314-Pippip_0_1.0.wav', 'MYOBRA_20180606_221616-MYOBRA-LR_0_1.0.wav', 'PipPip_C-20180620_215052-Pippip_0_1.0.wav', 'RHIFER_20180627_215046-RHIFER-LR_0_1.0.wav', 'EPTSER_20180530_213046-EPTSER-LR_0_1.0.wav', 'MYOBEC_20170805_213218-MYOBEC-LR_0_1.0.wav', 'MYOBEC_MYOBEC-20190621_220810_0_1.0.wav', 'SURVEYTM1180_20160819_000752_barbar_0_0.5.wav', 'eb01144_0_1.0.wav', 'EPTSER_EPTSER-20190801_211248_0_1.0.wav', 'MYODAU_20180625_220326-MYODAU-LR_0_1.0.wav', 'EPTSER_EPTSER-20190801_210334_0_1.0.wav', 'EPTSER_EPTSER-20190801_212112_0_1.0.wav', 'Nyclei_Ireland_S3610715549_20180528_230942_nyclei_0_1.0.wav', 'SURVEYNT5213_20160711_220048_pipnat_0_0.5.wav', '00077_pipistrellus_pipistrellus_0_1.0.wav', 'SURVEYTF7426_20160822_221623_myonat_0_0.5.wav', 'SURVEYTL7798_20160919_034426_myodau_0_0.5.wav', 'RHIHIP_20180708_215308-RHIHIP-LR_0_1.0.wav', 'MYOBRA_20180607_220826-MYOBRA-LR_0_1.0.wav', 'PipPip_D-20180620_214920-Pippip_0_1.0.wav', 'MYODAU_20180625_220659-MYODAU-LR_0_1.0.wav', 'MYODAU_20180625_215234-MYODAU-LR_0_1.0.wav', '00219_nyctalus_noctula_0_1.0.wav', 'RHIFER_20180627_214740-RHIFER-LR_0_1.0.wav', 'BARBAR_20180723_220012-BARBAR-LR_0_1.0.wav', 'SURVEYNS2207_20160812_042146_pleaur_0_0.5.wav', 'Nyclei_Ireland_S3610715549_20180527_233311_nyclei_0_1.0.wav', 'EPTSER_20180530_212957-EPTSER-LR_0_1.0.wav', 'eb00775_0_1.0.wav', 'PipPyg_HANN-20180502_195900-PIPPYG-LR_0_1.0.wav', 'SURVEYTL7798_20160918_231954_myodau_0_0.5.wav', 'RHIFER_20180627_220032-RHIFER-LR_0_1.0.wav', 'eb01194_0_1.0.wav', '00033_myotis_bechsteinii_0_1.0.wav', 'myotis_mystacinus_24740430.wav', 'BARBAR_20180723_214039-BARBAR-LR_0_1.0.wav', 'MYODAU_20170803_212520-MYODAU-LR_0_1.0.wav', '00192_myotis_nattereri_0_1.0.wav', 'MYOALC_MYOALC-20190527_200234_0_1.0.wav', 'eb01085_0_1.0.wav', 'eb00333_0_1.0.wav', 'eb00071_0_1.0.wav', 'SURVEYNX6555_20160621_224919_nycnoc_0_0.5.wav', 'PLEAUR_PLEAUR-20190608_223742_0_1.0.wav', 'nyctalus_leisleri_24740273.wav', 'eb00050_0_1.0.wav', 'PLEAUR_PLEAUR-20190608_223920_0_1.0.wav', 'SURVEYTG4614_20160525_214736_nycnoc_0_0.5.wav', 'myotis_daubentonii_24740387.wav', 'Nyclei_Ireland_S2325812189_20180601_044312_nyclei_0_1.0.wav', 'MYOALC_MYOALC-20190527_200411_0_1.0.wav', 'MYODAU_20180625_220358-MYODAU-LR_0_1.0.wav', 'MYOBRA_20180607_220854-MYOBRA-LR_0_1.0.wav', 'MYOBEC_MYOBEC-20190621_221352_0_1.0.wav', 'SURVEYTF9527_20160905_210435_myonat_0_0.5.wav', 'EPTSER_20180530_213246-EPTSER-LR_0_1.0.wav', 'EPTSER_EPTSER-20190801_212034_0_1.0.wav', 'eb00992_0_1.0.wav', 'Nyclei_Ireland_S2334912213_20180530_214644_nyclei_0_1.0.wav', 'MYOBRA_20180606_221220-MYOBRA-LR_0_1.0.wav', 'PLEAUS_PLEAUS-20190820_211352_0_1.0.wav', 'BARBAR_20180723_214000-BARBAR-LR_0_1.0.wav', 'PLEAUS_PLEAUS-20190819_205722_0_1.0.wav', 'EPTSER_EPTSER-20190801_211026_0_1.0.wav', 'SURVEYTG4514_20160520_230250_Pipnat_0_0.5.wav', 'Nyclei_Ireland_S2325812189_20180601_022314_nyclei_0_1.0.wav', 'eb01597_0_1.0.wav', 'MYODAU_MYODAU-20190807_212003_0_1.0.wav', 'EPTSER_20180530_213009-EPTSER-LR_0_1.0.wav', 'EPTSER_20180530_213056-EPTSER-LR_0_1.0.wav', 'MYOMYS_MYOMYS-20190625_213106_0_1.0.wav', '00234_eptesicus_serotinus_0_1.0.wav', 'BARBAR_20180723_215632-BARBAR-LR_0_1.0.wav', 'myotis_nattereri_24740970.wav', 'eb00997_0_1.0.wav', 'eb01063_0_1.0.wav', 'myotis_nattereri_24741017.wav', 'SURVEYNS0145_20160526_230016_0_0.5.wav', 'RHIFER_20180627_215916-RHIFER-LR_0_1.0.wav', '00191_myotis_nattereri_0_1.0.wav', 'EPTSER_EPTSER-20190801_210436_0_1.0.wav', 'plecotus_auritus_22960003.wav', 'MYOALC_MYOALC-20190527_200638_0_1.0.wav', 'pipistrellus_nathusii_24740005.wav', 'SURVEYNX1154_20160809_025155_nyclei_0_0.5.wav', 'nyctalus_leisleri_24740055.wav', 'SURYEYTL9098_20160626_001947_barbar_0_0.5.wav', 'MYOBEC_MYOBEC-20190621_220134_0_1.0.wav', 'NY3805091440_20160717_010344_myonat_0_0.5.wav', 'MYOBRA_20180607_221754-MYOBRA-LR_0_1.0.wav', 'EPTSER_EPTSER-20190801_210442_0_1.0.wav', 'SURVEYTM0580_20160626_213902_0_0.5.wav', 'PipPip_D-20180620_214832-Pippip_0_1.0.wav', 'SURVEYTF5320_20160721_015102_0_0.5.wav', '00071_pipistrellus_pipistrellus_0_1.0.wav', 'BARBAR_20180723_215638-BARBAR-LR_0_1.0.wav', 'MYODAU_20180625_220642-MYODAU-LR_0_1.0.wav', 'myotis_mystacinus_24740132.wav', 'SURVEYTL7798_20160919_013557_myodau_0_0.5.wav', '00096_myotis_daubentonii_0_1.0.wav', 'MYODAU_MYODAU-20190807_211741_0_1.0.wav', 'pipistrellus_nathusii_24740004.wav', 'myotis_daubentonii_24740789.wav', 'MYOBEC_20170805_212110-MYOBEC-LR_0_1.0.wav', 'Nyclei_Ireland_S2334912213_20180531_012853_nyclei_0_1.0.wav', 'pipistrellus_nathusii_24740338.wav', 'BARBAR_20180723_213242-BARBAR-LR_0_1.0.wav', '00201_myotis_nattereri_0_1.0.wav', 'EPTSER_EPTSER-20190801_210731_0_1.0.wav', 'EPTSER_EPTSER-20190709_213040_0_1.0.wav', 'PipPip_A-20180620_215414-Pippip_0_1.0.wav', 'eb00115_0_1.0.wav', 'MYOBRA_20180607_220352-MYOBRA-LR_0_1.0.wav', 'PipPyg_HANN-20180502_202012-PIPPYG-LR_0_1.0.wav', '00143_pipistrellus_nathusii_0_1.0.wav', 'EPTSER_EPTSER-20190710_213556_0_1.0.wav', 'SURVEYTL7798_20160919_041536_myodau_0_0.5.wav', 'myotis_nattereri_24740401.wav', 'PipPip_D-20180620_214048-Pippip_0_1.0.wav', 'MYODAU_20180625_220150-MYODAU-LR_0_1.0.wav', 'PipPip_C-20180620_214818-Pippip_0_1.0.wav', 'MYOMYS_20170701_214714-MYOMYS-LR_0_1.0.wav', 'Nyclei_Ireland_S2334912213_20180531_040933_nyclei_0_1.0.wav', 'SURVEYTG4206_20160604_224557_eptser_0_0.5.wav', 'Nyclei_Ireland_S2334912213_20180530_230013_nyclei_0_1.0.wav', 'myotis_nattereri_24740960.wav', 'MYODAU_20180625_221026-MYODAU-LR_0_1.0.wav', 'MYOBEC_MYOBEC-20190621_215456_0_1.0.wav', 'RHIFER_20180627_222820-RHIFER-LR_0_1.0.wav', 'SURVEYNT0684_20160729_222645_myodau_0_0.5.wav', 'Nyclei_Ireland_S3610715549_20180530_002700_nyclei_0_1.0.wav', 'SURVEYTG4514_20160521_020828_Pipnat_0_0.5.wav', 'SURVEYTF6322_20160915_001135_Pipnat_0_0.5.wav', 'SURVEYNX1161_20160728_043523_nyclei_0_0.5.wav', 'MYOMYS_MYOMYS-20190625_212814_0_1.0.wav', 'myotis_daubentonii_24740386.wav', 'eb00637_0_1.0.wav', 'MYOBEC_20170805_213520-MYOBEC-LR_0_1.0.wav', 'EPTSER_EPTSER-20190801_211414_0_1.0.wav', 'EPTSER_EPTSER-20190801_211720_0_1.0.wav', 'BARBAR_20180723_213946-BARBAR-LR_0_1.0.wav', 'EPTSER_EPTSER-20190801_212438_0_1.0.wav', 'BARBAR_20180723_215551-BARBAR-LR_0_1.0.wav', 'PipPyg_HANN-20180502_201212-PIPPYG-LR_0_1.0.wav', 'EPTSER_EPTSER-20190710_213506_0_1.0.wav', 'eb00125_0_1.0.wav', 'eb00725_0_1.0.wav', 'RHIHIP_20180708_220326-RHIHIP-LR_0_1.0.wav', 'EPTSER_EPTSER-20190801_210801_0_1.0.wav', 'MYODAU_20180625_215300-MYODAU-LR_0_1.0.wav', 'RHIFER_20180627_214521-RHIFER-LR_0_1.0.wav', '00209_myotis_nattereri_0_1.0.wav', 'eb01528_0_1.0.wav', 'MYOBRA_20180607_221733-MYOBRA-LR_0_1.0.wav', 'eb00466_0_1.0.wav', 'BARBAR_20180723_215540-BARBAR-LR_0_1.0.wav', 'NO1418822611_20160902_220011_0_0.5.wav', 'PLEAUS_PLEAUS-20190820_211743_0_1.0.wav', '00199_myotis_nattereri_0_1.0.wav', 'PipPyg_HANN-20180502_200844-PIPPYG-LR_0_1.0.wav', 'EPTSER_EPTSER-20190801_211014_0_1.0.wav', 'MYOMYS_20180619_215018-MYOMYS-LR_0_1.0.wav', 'SURVEYTG3308_20160508_042540_0_0.5.wav', 'MYOALC_MYOALC-20190527_195810_0_1.0.wav', 'eb00781_0_1.0.wav', 'RHIFER_20180627_221635-RHIFER-LR_0_1.0.wav', 'SURVEYTG3507_20160805_223804_0_0.5.wav', 'eb00151_0_1.0.wav', 'RHIHIP_20180708_215219-RHIHIP-LR_0_1.0.wav', 'SURVEYTF6729_20160819_211059_eptser_0_0.5.wav', 'eb00820_0_1.0.wav', 'SURVEYNX1160_20160817_214451_pipnat_0_0.5.wav', 'eb01147_0_1.0.wav', 'SURVEYTF6831_20160830_195640_nycnoc_0_0.5.wav', 'pipistrellus_nathusii_24740763.wav', 'MYOMYS_MYOMYS-20190625_215546_0_1.0.wav', 'SURVEYTG1020_20160711_030527_pleaur_0_0.5.wav', 'eb00270_0_1.0.wav', 'PipPip_B-20180620_215150-Pippip_0_1.0.wav', 'SURVEYNX5565_20160612_015458_nyclei_0_0.5.wav', 'EPTSER_EPTSER-20190724_213339_0_1.0.wav', 'eb01101_0_1.0.wav', '00197_myotis_nattereri_0_1.0.wav', 'SURVEYTF7636_20160621_225010_barbar_0_0.5.wav', 'EPTSER_EPTSER-20190710_213540_0_1.0.wav', 'MYOBRA_20180606_222210-MYOBRA-LR_0_1.0.wav', 'SURVEYNX4165_20160614_225937_myodau_0_0.5.wav', 'myotis_daubentonii_24740379.wav', 'MYODAU_20180625_220824-MYODAU-LR_0_1.0.wav', 'PLEAUR_PLEAUR-20190608_221334_0_1.0.wav', 'RHIHIP_20180708_215130-RHIHIP-LR_0_1.0.wav', 'PLEAUR_PLEAUR-20190608_220652_0_1.0.wav', 'EPTSER_20180530_213604-EPTSER-LR_0_1.0.wav', 'MYODAU_20170803_213038-MYODAU-LR_0_1.0.wav', 'MYODAU_MYODAU-20190807_210858_0_1.0.wav', 'MYOMYS_20170712_214832-MYOMYS-LR_0_1.0.wav', '00203_myotis_nattereri_0_1.0.wav', 'MYODAU_20180625_220044-MYODAU-LR_0_1.0.wav', 'MYODAU_20180625_220039-MYODAU-LR_0_1.0.wav', 'pipistrellus_nathusii_24740006.wav', 'MYOBRA_20180606_222302-MYOBRA-LR_0_1.0.wav', 'SURVEYNX1161_20160728_223023_pipnat_0_0.5.wav', 'EPTSER_EPTSER-20190801_211142_0_1.0.wav', 'SURVEYTL7587_20160514_024442_myodau_0_0.5.wav', 'eb01602_0_1.0.wav', 'SURVEYTL7587_20160513_213701_nyclei_0_0.5.wav', '00004_myotis_alcathoe_0_1.0.wav', 'myotis_daubentonii_24740767.wav', 'myotis_nattereri_24740804.wav', 'RHIHIP_20180708_220332-RHIHIP-LR_0_1.0.wav', 'SURVEYTL8978_20160613_012833_nycnoc_0_0.5.wav', 'eb00631_0_1.0.wav', 'MYOBRA_20180607_221511-MYOBRA-LR_0_1.0.wav', 'PLEAUS_PLEAUS-20190820_204632_0_1.0.wav', 'eb00722_0_1.0.wav', 'eb00063_0_1.0.wav', 'PLEAUS_PLEAUS-20190819_210322_0_1.0.wav', 'EPTSER_EPTSER-20190801_211134_0_1.0.wav', 'RHIFER_20180627_220826-RHIFER-LR_0_1.0.wav', 'eb00334_0_1.0.wav', 'EPTSER_EPTSER-20190724_212744_0_1.0.wav', 'RHIHIP_20180708_214319-RHIHIP-LR_0_1.0.wav', 'eb00482_0_1.0.wav', 'eb00046_0_1.0.wav', 'BARBAR_20180723_215538-BARBAR-LR_0_1.0.wav', '00052_plecotus_auritus_0_1.0.wav', 'eb00682_0_1.0.wav', 'pipistrellus_nathusii_24740339.wav', 'plecotus_auritus_24740390.wav', 'eb01237_0_1.0.wav', 'MYOALC_MYOALC-20190527_200328_0_1.0.wav', 'eb01108_0_1.0.wav', 'MYOALC_MYOALC-20190527_200508_0_1.0.wav', 'myotis_daubentonii_24740727.wav', 'MYOBRA_20180607_220250-MYOBRA-LR_0_1.0.wav', 'eb00126_0_1.0.wav', 'MYODAU_MYODAU-20190807_212438_0_1.0.wav', 'PipPyg_HANN-20180502_201328-PIPPYG-LR_0_1.0.wav', 'eb00516_0_1.0.wav', 'nyctalus_leisleri_24740002.wav', 'SURVEYNS0038_20160529_013211_pleaur_0_0.5.wav', 'nyctalus_leisleri_24740737.wav', 'MYOBEC_20170805_212758-MYOBEC-LR_0_1.0.wav', 'SURVEYTL9580_20160525_215531_myonat_0_0.5.wav', 'MYODAU_20180625_215903-MYODAU-LR_0_1.0.wav', 'RHIHIP_20180708_215038-RHIHIP-LR_0_1.0.wav', 'EPTSER_EPTSER-20190801_210516_0_1.0.wav', 'SURVEYTG2529_20160909_210236_barbar_0_0.5.wav', 'nyctalus_leisleri_24740282.wav', 'MYOBRA_20180606_222144-MYOBRA-LR_0_1.0.wav', 'EPTSER_EPTSER-20190801_211135_0_1.0.wav', 'MYOMYS_20180619_213616-MYOMYS-LR_0_1.0.wav', 'SURVEYNX0878_20160616_025223_nyclei_0_0.5.wav', 'RHIFER_20180627_215106-RHIFER-LR_0_1.0.wav', 'SURVEYTG1619_20160606_224135_myonat_0_0.5.wav', 'eb00127_0_1.0.wav', 'PLEAUS_PLEAUS-20190820_204532_0_1.0.wav', 'MYOBEC_20170805_214125-MYOBEC-LR_0_1.0.wav', 'SURVEYTG1934_20160516_223658_eptser_0_0.5.wav', 'MYOBRA_20180607_222628-MYOBRA-LR_0_1.0.wav', 'MYOMYS_MYOMYS-20190625_214256_0_1.0.wav', 'eb00272_0_1.0.wav', 'EPTSER_20180530_213008-EPTSER-LR_0_1.0.wav', 'EPTSER_EPTSER-20190801_210214_0_1.0.wav', 'pipistrellus_nathusii_24740052.wav', 'SURVEYTM2596_20160507_003602_0_0.5.wav', 'MYOMYS_20180601_213154-MYOMYS-LR_0_1.0.wav', 'SURVEYTM1796_20160731_222057_barbar_0_0.5.wav', 'PipPip_A-20180620_215504-Pippip_0_1.0.wav', 'PipPip_D-20180620_213736-Pippip_0_1.0.wav', 'Nyclei_Ireland_S2325812189_20180601_000559_nyclei_0_1.0.wav', '00248_eptesicus_serotinus_0_1.0.wav', 'EPTSER_EPTSER-20190801_213328_0_1.0.wav', 'RHIFER_20180627_215050-RHIFER-LR_0_1.0.wav', 'EPTSER_EPTSER-20190729_212814_0_1.0.wav', 'MYOBEC_20170805_211409-MYOBEC-LR_0_1.0.wav', 'myotis_daubentonii_24740375.wav', 'EPTSER_20180625_220518-EPTSER-LR_0_1.0.wav', 'MYOBRA_20180607_222022-MYOBRA-LR_0_1.0.wav', 'SURVEYNS0036_20160617_231535_myonat_0_0.5.wav', '00013_barbastellus_barbastellus_0_1.0.wav', 'MYOALC_MYOALC-20190527_200040_0_1.0.wav', 'EPTSER_EPTSER-20190801_211646_0_1.0.wav', 'eb00502_0_1.0.wav', 'EPTSER_EPTSER-20190801_210104_0_1.0.wav', 'myotis_nattereri_24741001.wav', '00007_barbastellus_barbastellus_0_1.0.wav', 'eb00565_0_1.0.wav', 'nyctalus_leisleri_24740632.wav', 'pipistrellus_nathusii_24740404.wav', '00207_myotis_nattereri_0_1.0.wav', 'myotis_nattereri_24740803.wav', 'PLEAUR_PLEAUR-20190608_224044_0_1.0.wav', 'RHIFER_20180627_214652-RHIFER-LR_0_1.0.wav', 'BARBAR_20180723_213300-BARBAR-LR_0_1.0.wav', 'MYODAU_2009-MYODAU-HR_0_1.0.wav', 'Nyclei_Ireland_S2334912213_20180531_012801_nyclei_0_1.0.wav', 'MYOMYS_MYOMYS-20190625_213556_0_1.0.wav', 'SURVEYTG3621_20160623_032912_Pipnat_0_0.5.wav', 'MYODAU_20180625_215347-MYODAU-LR_0_1.0.wav', 'SURVEYTG3526_20160919_203750_nycnoc_0_0.5.wav', 'Nyclei_Ireland_S2334912213_20180531_044731_nyclei_0_1.0.wav', 'EPTSER_EPTSER-20190801_210230_0_1.0.wav', 'EPTSER_EPTSER-20190801_211334_0_1.0.wav', 'MYOALC_MYOALC-20190527_200104_0_1.0.wav', 'MYODAU_20180625_214620-MYODAU-LR_0_1.0.wav', 'Nyclei_Ireland_S2325812189_20180531_224143_nyclei_0_1.0.wav', 'PipPyg_HAN-20180502_201850-PIPPYG-LR_0_1.0.wav', 'MYOALC_MYOALC-20190527_200514_0_1.0.wav', 'EPTSER_20180530_212943-EPTSER-LR_0_1.0.wav', 'MYODAU_MYODAU-20190807_212034_0_1.0.wav', 'MYODAU_20180625_220005-MYODAU-LR_0_1.0.wav', 'EPTSER_EPTSER-20190731_212632_0_1.0.wav', 'myotis_daubentonii_24740730.wav', 'Nyclei_Ireland_S3610715549_20180528_225457_nyclei_0_1.0.wav', 'SURVEYNX7377_20160816_000937_nycnoc_0_0.5.wav', 'eb01539_0_1.0.wav', 'MYOBEC_20170805_211517-MYOBEC-LR_0_1.0.wav', 'PLEAUS_PLEAUS-20190820_210244_0_1.0.wav', 'pipistrellus_nathusii_24740014.wav', '00032_myotis_bechsteinii_0_1.0.wav', 'MYODAU_MYODAU-20190807_211800_0_1.0.wav', 'PLEAUR_PLEAUR-20190608_222344_0_1.0.wav', 'BARBAR_20180723_215456-BARBAR-LR_0_1.0.wav', 'MYOMYS_20180620_213424-MYOMYS-LR_0_1.0.wav', 'MYOBEC_MYOBEC-20190621_215536_0_1.0.wav', 'MYOALC_MYOALC-20190527_200530_0_1.0.wav', 'MYOMYS_20180620_212500-MYOMYS-LR_0_1.0.wav', 'myotis_nattereri_24740794.wav', 'pipistrellus_nathusii_24740031.wav', 'myotis_daubentonii_24740253.wav', 'RHIHIP_20180708_220500-RHIHIP-LR_0_1.0.wav', 'eb01240_0_1.0.wav', 'eb01106_0_1.0.wav', 'MYOBRA_20180606_220750-MYOBRA-LR_0_1.0.wav', 'eb00920_0_1.0.wav', 'BARBAR_20180723_220808-BARBAR-LR_0_1.0.wav', '00044_myotis_brandtii_0_1.0.wav', 'MYOBEC_MYOBEC-20190621_221418_0_1.0.wav', 'MYOMYS_20180601_213630-MYOMYS-LR_0_1.0.wav', 'MYODAU_20180625_214656-MYODAU-LR_0_1.0.wav', '00174_myotis_nattereri_0_1.0.wav', 'eb00306_0_1.0.wav', 'SURVEYTM0580_20160626_001001_0_0.5.wav', 'MYOBRA_20180606_221331-MYOBRA-LR_0_1.0.wav', 'EPTSER_20180530_214024-EPTSER-LR_0_1.0.wav', 'PipPyg_HANN-20180502_202002-PIPPYG-LR_0_1.0.wav', 'MYOMYS_20180619_213824-MYOMYS-LR_0_1.0.wav', 'MYODAU_MYODAU-20190807_213038_0_1.0.wav', 'Nyclei_Ireland_S2334912213_20180531_010510_nyclei_0_1.0.wav', 'MYODAU_20170803_213258-MYODAU-LR_0_1.0.wav', 'PipPip_A-20180620_215528-Pippip_0_1.0.wav', 'SURVEYTM2682_20160720_230717_0_0.5.wav', 'EPTSER_20180530_213112-EPTSER-LR_0_1.0.wav', 'MYOMYS_20170712_213830-MYOMYS-LR_0_1.0.wav', 'EPTSER_EPTSER-20190801_212152_0_1.0.wav', 'RHIHIP_20180708_214636-RHIHIP-LR_0_1.0.wav', '00034_myotis_bechsteinii_0_1.0.wav', 'eb00056_0_1.0.wav', 'MYOBRA_20180607_220346-MYOBRA-LR_0_1.0.wav', 'myotis_nattereri_24740817.wav', 'eb00342_0_1.0.wav', 'EPTSER_EPTSER-20190801_210340_0_1.0.wav', 'MYODAU_20170803_212938-MYODAU-LR_0_1.0.wav', 'SURVEYTG2905_20160520_212619_eptser_0_0.5.wav', 'MYOBRA_20180607_221042-MYOBRA-LR_0_1.0.wav', 'EPTSER_EPTSER-20190731_210214_0_1.0.wav', '00045_myotis_brandtii_0_1.0.wav', 'EPTSER_EPTSER-20190724_212509_0_1.0.wav', 'NYCNOC_20190812_210622_0_1.0.wav', 'EPTSER_EPTSER-20190801_211128_0_1.0.wav', 'MYOBRA_20180607_220941-MYOBRA-LR_0_1.0.wav', 'MYOMYS_MYOMYS-20190625_213744_0_1.0.wav', 'myotis_mystacinus_24740318.wav', 'MYOBRA_20180607_221448-MYOBRA-LR_0_1.0.wav', 'eb00476_0_1.0.wav', '00216_nyctalus_noctula_0_1.0.wav', '00140_pipistrellus_nathusii_0_1.0.wav', 'EPTSER_EPTSER-20190801_210954_0_1.0.wav', 'MYOMYS_20170701_214620-MYOMYS-LR_0_1.0.wav', 'BARBAR_20180723_215614-BARBAR-LR_0_1.0.wav', '00213_myotis_nattereri_0_1.0.wav', 'MYONAT_20170804_212140-MYONAT-LR_0_1.0.wav', 'MYOMYS_20180619_213632-MYOMYS-LR_0_1.0.wav', 'MYOMYS_20180601_213532-MYOMYS-LR_0_1.0.wav', 'SURVEYTM0287_20160928_023633_barbar_0_0.5.wav', 'SURVEYNX4165_20160616_035415_nyclei_0_0.5.wav', 'RHIHIP_20180708_220301-RHIHIP-LR_0_1.0.wav', 'eb01546_0_1.0.wav', 'PLEAUR_PLEAUR-20190608_220926_0_1.0.wav', 'PLEAUR_PLEAUR-20190608_223142_0_1.0.wav', 'RHIHIP_20180708_220904-RHIHIP-LR_0_1.0.wav', 'RHIHIP_20180708_220314-RHIHIP-LR_0_1.0.wav', 'EPTSER_EPTSER-20190729_212034_0_1.0.wav', '00047_myotis_brandtii_0_1.0.wav', 'eb01218_0_1.0.wav', 'SURVEYNS4624_20160901_225548_myonat_0_0.5.wav', 'eb00235_0_1.0.wav', 'Nyclei_Ireland_S3610715549_20180528_230657_nyclei_0_1.0.wav', 'MYOMYS_MYOMYS-20190625_213522_0_1.0.wav', 'SURVEYNR9837_20160601_230559_nyclei_0_0.5.wav', 'nyctalus_leisleri_24740804.wav', 'SURVEYTG3526_20160918_041529_0_0.5.wav', 'SURVEYTF7427_20160726_223348_nycnoc_0_0.5.wav', 'MYODAU_20180625_220338-MYODAU-LR_0_1.0.wav', 'eb01616_0_1.0.wav', 'Nyclei_Ireland_S3610715549_20180529_224745_nyclei_0_1.0.wav', 'MYOMYS_MYOMYS-20190625_213356_0_1.0.wav', 'PLEAUS_PLEAUS-20190820_211726_0_1.0.wav', 'SURVEYTL7685_20160526_234146_nyclei_0_0.5.wav', 'BARBAR_20180723_220032-BARBAR-LR_0_1.0.wav', 'PipPip_D-20180620_214756-Pippip_0_1.0.wav', 'Nyclei_Ireland_S2325812189_20180531_023802_nyclei_0_1.0.wav', 'MYOMYS_20170701_020950-MYOMYS-LR_0_1.0.wav', 'RHIFER_20180627_215231-RHIFER-LR_0_1.0.wav', 'myotis_daubentonii_24740526.wav', 'myotis_nattereri_24740526.wav', 'SURVEYNO4720_20160830_212502_myonat_0_0.5.wav', 'eb01451_0_1.0.wav', 'MYOBEC_20180615_220242-MYOBEC-LR_0_1.0.wav', 'plecotus_auritus_22960072.wav', 'MYOMYS_MYOMYS-20190625_213709_0_1.0.wav', 'myotis_daubentonii_24740742.wav', 'SURVEYNX9776_20160725_014734_nycnoc_0_0.5.wav', 'pipistrellus_nathusii_24740613.wav', '00128_rhinolophus_hipposideros_0_1.0.wav', 'PLEAUR_PLEAUR-20190608_222604_0_1.0.wav', 'MYOMYS_20180619_214044-MYOMYS-LR_0_1.0.wav', 'NYCNOC_20190812_210007_0_1.0.wav', 'myotis_daubentonii_24740729.wav', 'MYOBRA_20180606_222030-MYOBRA-LR_0_1.0.wav', 'PipPyg_HANN-20180502_201942-PIPPYG-LR_0_1.0.wav', 'MYOBRA_20180607_221458-MYOBRA-LR_0_1.0.wav', 'SURVEYNT0285_20160623_224918_pipnat_0_0.5.wav', 'SURVEYNY1099_20160913_010415_nycnoc_0_0.5.wav', 'BARBAR_20180723_215550-BARBAR-LR_0_1.0.wav', 'SURVEYTL7587_20160513_231545_0_0.5.wav', 'MYOMYS_MYOMYS-20190625_213814_0_1.0.wav', 'eb00104_0_1.0.wav', 'SURVEYTG1602_20160615_233015_0_0.5.wav', 'plecotus_auritus_24740026.wav', 'RHIHIP_20180708_215730-RHIHIP-LR_0_1.0.wav', 'RHIFER_20180627_215804-RHIFER-LR_0_1.0.wav', 'MYODAU_20180625_221027-MYODAU-LR_0_1.0.wav', '00206_myotis_nattereri_0_1.0.wav', 'MYODAU_20180625_215217-MYODAU-LR_0_1.0.wav', 'Nyclei_Ireland_S2334912213_20180530_214542_nyclei_0_1.0.wav', 'MYOBRA_20180606_221514-MYOBRA-LR_0_1.0.wav', 'PipPip_D-20180620_214102-Pippip_0_1.0.wav', 'SURVEYNS7551_20160722_223024_myodau_0_0.5.wav', 'EPTSER_EPTSER-20190801_211156_0_1.0.wav', 'PipPip_A-20180620_214928-Pippip_0_1.0.wav', 'MYOMYS_20170712_214714-MYOMYS-LR_0_1.0.wav', 'SURVEYTF5320_20160721_032332_0_0.5.wav', 'RHIFER_20180627_220836-RHIFER-LR_0_1.0.wav', 'SURVEYNS0242_20160528_041339_0_0.5.wav', 'SURVEYTG3006_20160517_231509_eptser_0_0.5.wav', 'eb01024_0_1.0.wav', 'NYCNOC_20190812_205911_0_1.0.wav', 'SURVEYNS0239_20160608_033542_pleaur_0_0.5.wav', 'Nyclei_Ireland_S2325812189_20180531_034638_nyclei_0_1.0.wav', 'eb00893_0_1.0.wav', 'nyctalus_leisleri_22960355.wav', 'Nyclei_Ireland_S3610715549_20180528_235036_nyclei_0_1.0.wav', '00087_pipistrellus_pipistrellus_0_1.0.wav', 'PLEAUR_PLEAUR-20190608_224026_0_1.0.wav', 'SURVEYTG2328_20160710_032858_barbar_0_0.5.wav', 'SURVEYTF6105_20160618_015542_0_0.5.wav', 'eb00843_0_1.0.wav', 'MYODAU_20180625_220512-MYODAU-LR_0_1.0.wav', 'MYODAU_20180625_221828-MYODAU-LR_0_1.0.wav', 'MYOBEC_20170805_213127-MYOBEC-LR_0_1.0.wav', 'myotis_mystacinus_24740118.wav', 'MYODAU_20180625_215333-MYODAU-LR_0_1.0.wav', 'RHIHIP_20180708_215208-RHIHIP-LR_0_1.0.wav', '00185_myotis_nattereri_0_1.0.wav', 'SURVEYTG1702_20160609_221123_pleaur_0_0.5.wav', 'BARBAR_20180723_215556-BARBAR-LR_0_1.0.wav', 'EPTSER_EPTSER-20190801_213130_0_1.0.wav', 'eb01111_0_1.0.wav', 'plecotus_auritus_22960095.wav', '00205_myotis_nattereri_0_1.0.wav', 'PLEAUS_PLEAUS-20190820_210756_0_1.0.wav', 'MYOBEC_MYOBEC-20190621_215412_0_1.0.wav', 'MYOMYS_MYOMYS-20190625_212854_0_1.0.wav', 'EPTSER_EPTSER-20190731_213814_0_1.0.wav', 'eb00316_0_1.0.wav', 'pipistrellus_nathusii_24740063.wav', 'PipPip_D-20180620_214408-Pippip_0_1.0.wav', '00056_plecotus_auritus_0_1.0.wav', 'MYOBRA_20180607_221921-MYOBRA-LR_0_1.0.wav', 'myotis_daubentonii_24740252.wav', 'PipPip_C-20180620_215326-Pippip_0_1.0.wav', 'MYOBEC_MYOBEC-20190621_215314_0_1.0.wav', '00181_myotis_nattereri_0_1.0.wav', 'PLEAUS_PLEAUS-20190820_211056_0_1.0.wav', 'EPTSER_EPTSER-20190724_212957_0_1.0.wav', 'MYOMYS_20180619_214452-MYOMYS-LR_0_1.0.wav', 'RHIFER_20180627_220052-RHIFER-LR_0_1.0.wav', 'myotis_daubentonii_24740390.wav', 'PipPip_B-20180620_215040-Pippip_0_1.0.wav', 'SURVEYNS0432_20160519_225921_0_0.5.wav', 'NYCNOC_20190812_210601_0_1.0.wav', 'MYOBRA_20180607_221545-MYOBRA-LR_0_1.0.wav', 'SURVEYNX2157_20160723_231159_nyclei_0_0.5.wav', 'SURVEYNS0243_20160603_031740_myonat_0_0.5.wav', 'PipPyg_HANN-20180502_202458-PIPPYG-LR_0_1.0.wav', 'RHIFER_20180627_221416-RHIFER-LR_0_1.0.wav', 'EPTSER_EPTSER-20190710_213552_0_1.0.wav', 'eb00068_0_1.0.wav', 'eb00803_0_1.0.wav', 'MYODAU_20180625_220324-MYODAU-LR_0_1.0.wav', 'SURVEYTL7792_20160926_033824_myonat_0_0.5.wav', '00111_rhinolophus_ferrumequinum_0_1.0.wav', 'eb00986_0_1.0.wav', 'pipistrellus_nathusii_24740610.wav', 'MYODAU_20180625_215602-MYODAU-LR_0_1.0.wav', 'pipistrellus_nathusii_24740001.wav', 'PLEAUS_PLEAUS-20190820_212242_0_1.0.wav', 'MYOMYS_20180601_213132-MYOMYS-LR_0_1.0.wav', 'PipPip_B-20180620_215550-Pippip_0_1.0.wav', 'MYOMYS_20090523-MYOMYS-HR_0_1.0.wav', 'RHIFER_20180627_214428-RHIFER-LR_0_1.0.wav', 'MYOBRA_20180607_222323-MYOBRA-LR_0_1.0.wav', '00238_eptesicus_serotinus_0_1.0.wav', 'eb00410_0_1.0.wav', 'pipistrellus_nathusii_24740002.wav', 'SURVEYTL7787_20150901_204824_nycnoc_0_0.5.wav', 'EPTSER_EPTSER-20190729_212756_0_1.0.wav', 'MYOMYS_20180620_214450-MYOMYS-LR_0_1.0.wav', 'eb01034_0_1.0.wav', 'MYODAU_20180625_215200-MYODAU-LR_0_1.0.wav', '00006_barbastellus_barbastellus_0_1.0.wav', 'SURVEYNT5303_20160711_014427_0_0.5.wav', 'Nyclei_Ireland_S3610715549_20180527_231844_nyclei_0_1.0.wav', '00204_myotis_nattereri_0_1.0.wav', 'MYOBEC_20170805_212217-MYOBEC-LR_0_1.0.wav', 'eb01300_0_1.0.wav', 'myotis_nattereri_24740633.wav', 'PipPyg_HAN-20180502_200106-PIPPYG-LR_0_1.0.wav', 'PLEAUR_PLEAUR-20190608_224154_0_1.0.wav', 'eb00423_0_1.0.wav', 'EPTSER_EPTSER-20190801_214144_0_1.0.wav', 'BARBAR_20180723_215508-BARBAR-LR_0_1.0.wav', 'SURVEYTL7685_20160524_230454_nyclei_0_0.5.wav', 'MYODAU_20170803_213034-MYODAU-LR_0_1.0.wav', 'Nyclei_Ireland_S2334912213_20180531_021224_nyclei_0_1.0.wav', 'MYOMYS_20090627-MYOMYS-HR_0_1.0.wav', 'SURVEYNO3623_20160506_220830_myodau_0_0.5.wav', 'myotis_mystacinus_24740123.wav', '00003_myotis_alcathoe_0_1.0.wav', 'MYOBRA_20180607_222334-MYOBRA-LR_0_1.0.wav', 'MYOBRA_20180607_221524-MYOBRA-LR_0_1.0.wav', 'eb00733_0_1.0.wav', 'MYOMYS_20170701_214428-MYOMYS-LR_0_1.0.wav', 'PipPip_D-20180620_214012-Pippip_0_1.0.wav', 'eb00135_0_1.0.wav', '00297_myotis_mystacinus_0_1.0.wav', 'RHIFER_20180627_214956-RHIFER-LR_0_1.0.wav', 'myotis_daubentonii_24740374.wav', 'RHIHIP_20180708_215000-RHIHIP-LR_0_1.0.wav', 'SURVEYTM1482_20160529_221722_barbar_0_0.5.wav', 'myotis_mystacinus_24740277.wav', 'SURVEYTF6422_20160721_231336_pleaur_0_0.5.wav', 'myotis_mystacinus_24740216.wav', 'BARBAR_20180723_215518-BARBAR-LR_0_1.0.wav', 'RHIFER_20180627_215842-RHIFER-LR_0_1.0.wav', '00031_myotis_bechsteinii_0_1.0.wav', '00086_pipistrellus_pipistrellus_0_1.0.wav', 'eb01281_0_1.0.wav', 'Nyclei_Ireland_S3610715549_20180529_224738_nyclei_0_1.0.wav', '00035_myotis_bechsteinii_0_1.0.wav', 'PLEAUR_PLEAUR-20190608_221516_0_1.0.wav', 'SURVEYTG4117_20160828_044315_pleaur_0_0.5.wav', 'MYODAU_20170803_213316-MYODAU-LR_0_1.0.wav', 'MYODAU_20170803_213335-MYODAU-LR_0_1.0.wav', 'MYOALC_MYOALC-20190527_200000_0_1.0.wav', 'MYOMYS_20170701_213954-MYOMYS-LR_0_1.0.wav', 'myotis_mystacinus_24740114.wav', 'eb00314_0_1.0.wav', 'PipPip_D-20180620_214450-Pippip_0_1.0.wav', 'PipPip_C-20180620_215600-Pippip_0_1.0.wav', 'EPTSER_EPTSER-20190801_210318_0_1.0.wav', 'SURVEYNY1866_20160513_221403_nycnoc_0_0.5.wav', '00127_nyctalus_leisleri_0_1.0.wav', 'EPTSER_EPTSER-20190801_211147_0_1.0.wav', 'SURVEYTG1741_20160918_215905_myonat_0_0.5.wav', 'MYOBEC_20170805_212546-MYOBEC-LR_0_1.0.wav', 'SURVEYNT0285_20160623_225152_pipnat_0_0.5.wav', 'SURVEYTG3716_20160801_041441_myonat_0_0.5.wav', 'MYOBEC_MYOBEC-20190621_221602_0_1.0.wav', 'NYCNOC_20190812_210713_0_1.0.wav', 'EPTSER_20180530_213130-EPTSER-LR_0_1.0.wav', 'eb00401_0_1.0.wav', 'RHIFER_20180627_215340-RHIFER-LR_0_1.0.wav', 'SURVEYNS0332_20160514_224007_pipnat_0_0.5.wav', 'PipPip_B-20180620_215348-Pippip_0_1.0.wav', 'myotis_mystacinus_24740073.wav', 'Nyclei_Ireland_S3610715549_20180528_224603_nyclei_0_1.0.wav', 'MYODAU_20180625_214247-MYODAU-LR_0_1.0.wav', '00268_pipistrellus_pygmaeus_0_1.0.wav', 'eb00451_0_1.0.wav', 'pipistrellus_nathusii_24740487.wav', 'EPTSER_EPTSER-20190801_211644_0_1.0.wav', 'SURVEYTL7789_20160528_230558_eptser_0_0.5.wav', '00019_barbastellus_barbastellus_0_1.0.wav', 'RHIFER_20180627_221058-RHIFER-LR_0_1.0.wav', 'SURVEYNT0040_20150926_195913_myonat_0_0.5.wav', 'MYOMYS_20180619_213556-MYOMYS-LR_0_1.0.wav', 'BARBAR_20180723_220014-BARBAR-LR_0_1.0.wav', 'Nyclei_Ireland_S2325812189_20180601_022436_nyclei_0_1.0.wav', 'SURVEYTM0279_20160717_030009_0_0.5.wav', '00083_pipistrellus_pipistrellus_0_1.0.wav', 'SURVEYNX5959_20160807_043100_nyclei_0_0.5.wav', 'BARBAR_20180723_215622-BARBAR-LR_0_1.0.wav', 'RHIHIP_20180708_215800-RHIHIP-LR_0_1.0.wav', 'SURVEYTG0529_20160627_232034_myonat_0_0.5.wav', 'RHIFER_20180627_215141-RHIFER-LR_0_1.0.wav', 'SURVEYTG4715_20160804_014351_0_0.5.wav', 'MYOMYS_20170712_214740-MYOMYS-LR_0_1.0.wav', '00250_eptesicus_serotinus_0_1.0.wav', 'Nyclei_Ireland_S3610715549_20180529_231559_nyclei_0_1.0.wav', 'MYOMYS_20180601_213654-MYOMYS-LR_0_1.0.wav', 'EPTSER_EPTSER-20190801_211715_0_1.0.wav', 'MYODAU_20180625_214436-MYODAU-LR_0_1.0.wav', 'PLEAUR_PLEAUR-20190608_223820_0_1.0.wav', 'MYOMYS_20180619_213754-MYOMYS-LR_0_1.0.wav', 'MYOMYS_20170712_214508-MYOMYS-LR_0_1.0.wav', 'MYODAU_20180625_215404-MYODAU-LR_0_1.0.wav', 'MYOBRA_20180606_221309-MYOBRA-LR_0_1.0.wav', '00182_myotis_nattereri_0_1.0.wav', 'EPTSER_EPTSER-20190801_213438_0_1.0.wav', 'myotis_nattereri_24740707.wav', 'BARBAR_20180723_215754-BARBAR-LR_0_1.0.wav', 'MYOMYS_20170712_213547-MYOMYS-LR_0_1.0.wav', 'eb00896_0_1.0.wav', 'eb01295_0_1.0.wav', 'BARBAR_20180723_215740-BARBAR-LR_0_1.0.wav', 'SURVEYTF9332_20160904_195930_barbar_0_0.5.wav', 'SURVEYTF9230_20160828_220612_pleaur_0_0.5.wav', '00273_pipistrellus_pygmaeus_0_1.0.wav', 'NYCNOC_20190812_205310_0_1.0.wav', 'MYOALC_MYOALC-20190527_200256_0_1.0.wav', 'RHIHIP_20180708_215924-RHIHIP-LR_0_1.0.wav', 'MYOBEC_20170805_212526-MYOBEC-LR_0_1.0.wav', 'EPTSER_EPTSER-20190801_214221_0_1.0.wav', 'MYODAU_MYODAU-20190807_211628_0_1.0.wav', 'eb00037_0_1.0.wav', 'eb01708_0_1.0.wav', 'RHIFER_20180627_215858-RHIFER-LR_0_1.0.wav', 'myotis_nattereri_24740819.wav', 'PipPip_A-20180620_215242-Pippip_0_1.0.wav', 'Nyclei_Ireland_S2334912213_20180531_021659_nyclei_0_1.0.wav', 'eb01586_0_1.0.wav', 'RHIHIP_20180708_214314-RHIHIP-LR_0_1.0.wav', 'eb00918_0_1.0.wav', 'MYOBEC_20170805_212302-MYOBEC-LR_0_1.0.wav', '00254_eptesicus_serotinus_0_1.0.wav', 'SURVEYTG4514_20160522_001634_Pipnat_0_0.5.wav', 'RHIHIP_20180708_215746-RHIHIP-LR_0_1.0.wav', 'eb01583_0_1.0.wav', 'myotis_nattereri_24740801.wav', 'myotis_nattereri_24740662.wav', 'EPTSER_20180530_213548-EPTSER-LR_0_1.0.wav', '00190_myotis_nattereri_0_1.0.wav', '00171_myotis_nattereri_0_1.0.wav', 'RHIHIP_20180708_220906-RHIHIP-LR_0_1.0.wav', 'BARBAR_20180723_215928-BARBAR-LR_0_1.0.wav', 'MYODAU_20180625_221425-MYODAU-LR_0_1.0.wav', 'SURVEYTG4120_20160528_215647_nycnoc_0_0.5.wav', 'eb00460_0_1.0.wav', 'PLEAUR_PLEAUR-20190608_220806_0_1.0.wav', 'eb00696_0_1.0.wav', 'MYODAU_20180625_214502-MYODAU-LR_0_1.0.wav', 'RHIHIP_20180708_215439-RHIHIP-LR_0_1.0.wav', 'plecotus_auritus_22960065.wav', 'Nyclei_Ireland_S3610715549_20180529_040831_nyclei_0_1.0.wav', 'EPTSER_EPTSER-20190801_211903_0_1.0.wav', 'myotis_mystacinus_24740120.wav', 'EPTSER_EPTSER-20190801_212026_0_1.0.wav', 'PLEAUR_PLEAUR-20190608_220156_0_1.0.wav', 'SURVEYNX9769_20160615_005614_nycnoc_0_0.5.wav', 'SURVEYTF7326_20160719_004406_eptser_0_0.5.wav', '00134_pipistrellus_nathusii_0_1.0.wav', 'SURYEYTL7497_20160731_214315_eptser_0_0.5.wav', 'eb01309_0_1.0.wav', 'myotis_nattereri_24740670.wav', 'eb00609_0_1.0.wav', 'MYOMYS_20170712_214756-MYOMYS-LR_0_1.0.wav', 'PipPip_D-20180620_215006-Pippip_0_1.0.wav', 'eb00308_0_1.0.wav', 'myotis_daubentonii_24740498.wav', 'PLEAUS_PLEAUS-20190820_205230_0_1.0.wav', 'MYOMYS_20180620_213708-MYOMYS-LR_0_1.0.wav', 'plecotus_auritus_22960084.wav', 'RHIFER_20180627_215203-RHIFER-LR_0_1.0.wav', 'nyctalus_leisleri_24740651.wav', 'MYODAU_20180625_215730-MYODAU-LR_0_1.0.wav', 'RHIHIP_20180708_220858-RHIHIP-LR_0_1.0.wav', '00164_myotis_nattereri_0_1.0.wav', 'MYODAU_20180625_215125-MYODAU-LR_0_1.0.wav', 'eb00965_0_1.0.wav', 'MYODAU_20170803_211812-MYODAU-LR_0_1.0.wav', 'eb00957_0_1.0.wav', '00175_myotis_nattereri_0_1.0.wav', 'PipPyg_HAN-20180502_195756-PIPPYG-LR_0_1.0.wav', 'Nyclei_Ireland_S3610715549_20180528_013044_nyclei_0_1.0.wav', 'EPTSER_EPTSER-20190801_213442_0_1.0.wav', 'EPTSER_EPTSER-20190801_214135_0_1.0.wav', 'myotis_daubentonii_24740741.wav', 'RHIFER_20180627_214700-RHIFER-LR_0_1.0.wav', 'eb00012_0_1.0.wav', 'plecotus_auritus_24730565.wav', 'Nyclei_Ireland_S3610715549_20180528_224847_nyclei_0_1.0.wav', 'MYOBRA_20180607_221211-MYOBRA-LR_0_1.0.wav', 'MYOMYS_20170731_211046-MYOMYS-LR_0_1.0.wav', 'SURVEYTL7798_20160919_002905_myodau_0_0.5.wav', '00137_pipistrellus_nathusii_0_1.0.wav', 'eb00977_0_1.0.wav', 'EPTSER_20180530_213240-EPTSER-LR_0_1.0.wav', 'eb00513_0_1.0.wav', 'PLEAUS_20180630_1-PLEAUS-LR_0_1.0.wav', 'EPTSER_EPTSER-20190801_210710_0_1.0.wav', 'RHIFER_20180627_215554-RHIFER-LR_0_1.0.wav', 'SURVEYTM2292_20160727_011448_myonat_0_0.5.wav', 'MYOMYS_20170712_213234-MYOMYS-LR_0_1.0.wav', 'SURVEYNO3621_20160531_011208_0_0.5.wav', 'EPTSER_20180530_213148-EPTSER-LR_0_1.0.wav', 'pipistrellus_nathusii_24740045.wav', '00200_myotis_nattereri_0_1.0.wav', 'NYCNOC_20190812_205946_0_1.0.wav', 'EPTSER_EPTSER-20190801_211313_0_1.0.wav', 'RHIFER_20180627_215140-RHIFER-LR_0_1.0.wav', 'plecotus_auritus_24730056.wav', 'eb01036_0_1.0.wav', 'SURVEYNR9521_20160513_014721_0_0.5.wav', 'eb00993_0_1.0.wav', 'SURVEYTL7685_20160526_235050_nyclei_0_0.5.wav', 'MYOMYS_MYOMYS-20190625_213130_0_1.0.wav', 'SURVEYTF7427_20160727_032644_barbar_0_0.5.wav', 'MYOBEC_20170805_212604-MYOBEC-LR_0_1.0.wav', 'SURVEYTG3501_20160919_220549_myonat_0_0.5.wav', 'MYOBRA_20180607_221712-MYOBRA-LR_0_1.0.wav', 'MYODAU_20180625_214929-MYODAU-LR_0_1.0.wav', 'SURVEYNT3864_20160823_205732_nycnoc_0_0.5.wav', 'PLEAUS_PLEAUS-20190819_210314_0_1.0.wav', 'SURVEYNX1062_20160818_222629_0_0.5.wav', 'EPTSER_EPTSER-20190801_211832_0_1.0.wav', 'plecotus_auritus_24730827.wav', 'pipistrellus_nathusii_24740083.wav', 'PLEAUR_PLEAUR-20190608_222308_0_1.0.wav', 'MYOBEC_20180615_221750-MYOBEC-LR_0_1.0.wav', 'SURVEYNT0237_20160828_044138_myonat_0_0.5.wav', 'EPTSER_20180530_212944-EPTSER-LR_0_1.0.wav', 'eb00234_0_1.0.wav', 'SURVEYNS8597_20160516_032809_myonat_0_0.5.wav', 'EPTSER_EPTSER-20190724_213242_0_1.0.wav', 'pipistrellus_nathusii_24740034.wav', 'eb01415_0_1.0.wav', 'EPTSER_EPTSER-20190801_210506_0_1.0.wav', 'PipPyg_HAN-20180502_200406-PIPPYG-LR_0_1.0.wav', 'RHIFER_20180627_215242-RHIFER-LR_0_1.0.wav', 'MYODAU_20180625_220049-MYODAU-LR_0_1.0.wav', 'RHIFER_20180627_221112-RHIFER-LR_0_1.0.wav', 'EPTSER_20180530_212950-EPTSER-LR_0_1.0.wav', 'EPTSER_EPTSER-20190801_210249_0_1.0.wav', 'PLEAUS_20180814_213253-PLEAUS-LR_0_1.0.wav', 'eb00387_0_1.0.wav', 'EPTSER_EPTSER-20190724_215503_0_1.0.wav', 'MYOALC_MYOALC-20190527_200216_0_1.0.wav', 'SURVEYNX9681_20160616_035804_nycnoc_0_0.5.wav', 'PLEAUS_PLEAUS-20190819_205912_0_1.0.wav', 'MYOBRA_20180606_221304-MYOBRA-LR_0_1.0.wav', 'eb00144_0_1.0.wav', 'eb00973_0_1.0.wav', 'MYOMYS_20180601_213414-MYOMYS-LR_0_1.0.wav', 'PipPyg_HANN-20180502_202304-PIPPYG-LR_0_1.0.wav', 'PipPip_D-20180620_214908-Pippip_0_1.0.wav', 'MYOMYS_20180619_213726-MYOMYS-LR_0_1.0.wav', 'SURVEYNX5565_20160611_230606_nyclei_0_0.5.wav', 'SURVEYTL8582_20160922_015145_nyclei_0_0.5.wav', 'TG1041_20160912_225635_eptser_0_0.5.wav', 'PLEAUS_PLEAUS-20190820_204846_0_1.0.wav', 'MYODAU_20180625_215635-MYODAU-LR_0_1.0.wav', 'SURVEYTM0580_20160626_213959_0_0.5.wav', 'Nyclei_Ireland_S3610715549_20180527_233304_nyclei_0_1.0.wav', 'PipPyg_HANN-20180502_201420-PIPPYG-LR_0_1.0.wav', 'eb00901_0_1.0.wav', 'eb00458_0_1.0.wav', 'eb01260_0_1.0.wav', 'eb00865_0_1.0.wav', 'PLEAUS_20180630_3-PLEAUS-LR_0_1.0.wav', 'MYOMYS_MYOMYS-20190625_213338_0_1.0.wav', 'SURVEYTF6831_20160828_231715_pleaur_0_0.5.wav', 'eb01279_0_1.0.wav', 'SURVEYTL7788_20160709_020332_nyclei_0_0.5.wav', 'MYODAU_20180625_215226-MYODAU-LR_0_1.0.wav', 'EPTSER_EPTSER-20190724_212804_0_1.0.wav', 'Nyclei_Ireland_S3610715549_20180530_001057_nyclei_0_1.0.wav', 'myotis_daubentonii_24740761.wav', 'Nyclei_Ireland_S2334912213_20180531_021047_nyclei_0_1.0.wav', 'SURVEYNT7025_20160806_224621_myodau_0_0.5.wav', 'eb01232_0_1.0.wav', 'EPTSER_EPTSER-20190801_210956_0_1.0.wav', 'myotis_mystacinus_24740137.wav', 'PipPip_D-20180620_214006-Pippip_0_1.0.wav', 'myotis_nattereri_24740620.wav', 'MYONAT_20170804_214216-MYONAT-LR_0_1.0.wav', 'PipPip_A-20180620_215706-Pippip_0_1.0.wav', 'Nyclei_Ireland_S2325812189_20180601_044517_nyclei_0_1.0.wav', 'eb00641_0_1.0.wav', 'RHIHIP_20180707_220830-RHIHIP-LR_0_1.0.wav', 'RHIFER_20180627_214334-RHIFER-LR_0_1.0.wav', 'eb00492_0_1.0.wav', 'eb00149_0_1.0.wav', 'plecotus_auritus_22960068.wav', 'PLEAUR_PLEAUR-20190608_222230_0_1.0.wav', 'PLEAUS_PLEAUS-20190819_205442_0_1.0.wav', 'EPTSER_EPTSER-20190724_212622_0_1.0.wav', 'PLEAUS_PLEAUS-20190819_211506_0_1.0.wav', 'SURVEYTF9332_20160907_213159_barbar_0_0.5.wav', 'EPTSER_EPTSER-20190801_213254_0_1.0.wav', 'Nyclei_Ireland_S2325812189_20180531_024901_nyclei_0_1.0.wav', 'eb01535_0_1.0.wav', 'EPTSER_EPTSER-20190801_212134_0_1.0.wav', 'PipPyg_HAN-20180502_200122-PIPPYG-LR_0_1.0.wav', 'EPTSER_EPTSER-20190801_213216_0_1.0.wav', 'PipPyg_HAN-20180502_195536-PIPPYG-LR_0_1.0.wav', 'SURVEYTL7787_20150901_234344_nyclei_0_0.5.wav', 'RHIHIP_20180708_214302-RHIHIP-LR_0_1.0.wav', 'MYOBRA_20180607_221611-MYOBRA-LR_0_1.0.wav', 'RHIFER_20180627_214828-RHIFER-LR_0_1.0.wav', 'SURVEYTF7401_20160506_014804_eptser_0_0.5.wav', 'PLEAUR_PLEAUR-20190608_223815_0_1.0.wav', 'MYODAU_20180625_215812-MYODAU-LR_0_1.0.wav', 'SURVEYTF6322_20160913_224101_nycnoc_0_0.5.wav', 'RHIFER_20180627_215706-RHIFER-LR_0_1.0.wav', 'SURVEYTG4022_20160607_222550_myonat_0_0.5.wav', 'EPTSER_20180612_214400-EPTSER-LR_0_1.0.wav', 'PipPyg_HAN-20180502_200326-PIPPYG-LR_0_1.0.wav', 'SURVEYNX1061_20160912_040912_Pipnat_0_0.5.wav', 'myotis_nattereri_24741000.wav', 'SURVEYTG1539_20160714_023339_barbar_0_0.5.wav', 'BARBAR_20180723_215818-BARBAR-LR_0_1.0.wav', 'RHIFER_20180627_215722-RHIFER-LR_0_1.0.wav', 'SURVEYNH9418_20160512_214054_0_0.5.wav', 'MYOMYS_20180619_214520-MYOMYS-LR_0_1.0.wav', 'MYODAU_20180625_215236-MYODAU-LR_0_1.0.wav', 'EPTSER_20180530_213656-EPTSER-LR_0_1.0.wav', 'SURVEYNS2060_20160730_222533_0_0.5.wav', 'MYODAU_20170803_212716-MYODAU-LR_0_1.0.wav', 'RHIHIP_20180708_214604-RHIHIP-LR_0_1.0.wav', 'SURVEYNT0040_20150926_010107_0_0.5.wav', 'Nyclei_Ireland_S2334912213_20180531_021231_nyclei_0_1.0.wav', 'myotis_daubentonii_24740509.wav', 'PipPip_A-20180620_215444-Pippip_0_1.0.wav', 'MYOMYS_20170712_214822-MYOMYS-LR_0_1.0.wav', 'SURVEYTL6896_20160624_223936_barbar_0_0.5.wav', 'PipPip_A-20180620_215410-Pippip_0_1.0.wav', 'RHIHIP_20180708_214620-RHIHIP-LR_0_1.0.wav', 'eb00730_0_1.0.wav', 'myotis_nattereri_24740430.wav', 'MYODAU_20180625_220354-MYODAU-LR_0_1.0.wav', 'MYODAU_20170803_213152-MYODAU-LR_0_1.0.wav', 'eb01590_0_1.0.wav', 'RHIFER_20180627_220024-RHIFER-LR_0_1.0.wav', 'MYOBEC_20170805_213128-MYOBEC-LR_0_1.0.wav', 'RHIHIP_20180708_220232-RHIHIP-LR_0_1.0.wav', 'RHIFER_20180627_215406-RHIFER-LR_0_1.0.wav', 'PipPyg_HANN-20180502_202658-PIPPYG-LR_0_1.0.wav', 'Nyclei_Ireland_S2334912213_20180531_044724_nyclei_0_1.0.wav', 'SURVEYTG1619_20160521_000132_0_0.5.wav', '00166_myotis_nattereri_0_1.0.wav', 'MYOMYS_MYOMYS-20190625_213520_0_1.0.wav', 'PipPip_D-20180620_214536-Pippip_0_1.0.wav', 'PLEAUS_PLEAUS-20190820_211414_0_1.0.wav', 'eb00654_0_1.0.wav', 'SURVEYNS2848_20160604_024749_myonat_0_0.5.wav', 'MYODAU_20180625_215810-MYODAU-LR_0_1.0.wav', 'NY3906092000_20160717_232820_0_0.5.wav', 'myotis_nattereri_24740821.wav', 'MYOALC_MYOALC-20190527_200410_0_1.0.wav', 'MYOBRA_20180606_221056-MYOBRA-LR_0_1.0.wav', 'myotis_nattereri_24740769.wav', 'myotis_nattereri_24740890.wav', 'MYOBRA_20180607_220626-MYOBRA-LR_0_1.0.wav', 'SURVEYTF9813_20160522_041955_0_0.5.wav', 'eb00633_0_1.0.wav', 'SURVEYNS4339_20160511_024223_0_0.5.wav', 'MYODAU_20180625_215354-MYODAU-LR_0_1.0.wav', 'SURVEYNT0948_20160512_030644_myonat_0_0.5.wav', 'myotis_mystacinus_24740109.wav', 'SURVEYNY5287_20160709_233932_0_0.5.wav', 'MYODAU_20180625_220133-MYODAU-LR_0_1.0.wav', 'Nyclei_Ireland_S2325812189_20180530_230134_nyclei_0_1.0.wav', 'BARBAR_20180723_215600-BARBAR-LR_0_1.0.wav', 'EPTSER_20180530_213214-EPTSER-LR_0_1.0.wav', 'EPTSER_EPTSER-20190801_214211_0_1.0.wav', 'eb01560_0_1.0.wav', 'PLEAUS_PLEAUS-20190820_210424_0_1.0.wav', 'eb01425_0_1.0.wav', 'MYOBRA_20180607_221547-MYOBRA-LR_0_1.0.wav', 'eb00311_0_1.0.wav', 'PLEAUS_PLEAUS-20190819_205800_0_1.0.wav', 'eb00675_0_1.0.wav', '00092_myotis_daubentonii_0_1.0.wav', 'SURVEYTM0385_20160922_200837_myonat_0_0.5.wav', 'PipPyg_HANN-20180502_202552-PIPPYG-LR_0_1.0.wav', 'RHIFER_20180627_220254-RHIFER-LR_0_1.0.wav', 'MYODAU_20170803_213422-MYODAU-LR_0_1.0.wav', 'RHIFER_20180627_220552-RHIFER-LR_0_1.0.wav', 'MYOBRA_20180607_221822-MYOBRA-LR_0_1.0.wav', 'PLEAUS_PLEAUS-20190819_205934_0_1.0.wav', 'eb00134_0_1.0.wav', 'EPTSER_EPTSER-20190729_211212_0_1.0.wav', 'SURVEYNS4320_20160610_010111_myodau_0_0.5.wav', 'MYODAU_20180625_220420-MYODAU-LR_0_1.0.wav', 'Nyclei_Ireland_S2325812189_20180601_035016_nyclei_0_1.0.wav', 'Nyclei_Ireland_S2334912213_20180531_023414_nyclei_0_1.0.wav', 'MYODAU_20180625_220440-MYODAU-LR_0_1.0.wav', 'EPTSER_20180612_213946-EPTSER-LR_0_1.0.wav', 'MYOBRA_20180607_221544-MYOBRA-LR_0_1.0.wav', 'PLEAUS_PLEAUS-20190820_211426_0_1.0.wav', 'myotis_daubentonii_24740769.wav', 'Nyclei_Ireland_S2334912213_20180531_022809_nyclei_0_1.0.wav', 'RHIFER_20180627_220349-RHIFER-LR_0_1.0.wav', 'PipPip_B-20180620_214310-Pippip_0_1.0.wav', 'eb01018_0_1.0.wav', 'SURVEYNO4403_20160607_233643_myonat_0_0.5.wav', 'MYOBRA_20180606_221508-MYOBRA-LR_0_1.0.wav', 'PipPip_A-20180620_214540-Pippip_0_1.0.wav', 'PipPip_D-20180620_214234-Pippip_0_1.0.wav', 'eb01136_0_1.0.wav', 'PLEAUR_PLEAUR-20190608_224034_0_1.0.wav', '00023_barbastellus_barbastellus_0_1.0.wav', 'MYOMYS_20180620_213334-MYOMYS-LR_0_1.0.wav', 'SURVEYTM4692_20160929_210234_Pipnat_0_0.5.wav', 'SURVEYNO1905_20160828_230207_Pipnat_0_0.5.wav', '00202_myotis_nattereri_0_1.0.wav', 'MYOBRA_20180606_220846-MYOBRA-LR_0_1.0.wav', 'SURVEYTL7798_20160919_035423_myodau_0_0.5.wav', 'PLEAUR_PLEAUR-20190608_223300_0_1.0.wav', 'myotis_daubentonii_24740770.wav', 'BARBAR_20180723_215342-BARBAR-LR_0_1.0.wav', 'SURVEYTL7685_20160524_230316_nyclei_0_0.5.wav', 'MYOBRA_20180607_221222-MYOBRA-LR_0_1.0.wav', 'MYOBEC_20170805_213116-MYOBEC-LR_0_1.0.wav', 'BARBAR_20180723_215312-BARBAR-LR_0_1.0.wav', 'Nyclei_Ireland_S3610715549_20180529_042744_nyclei_0_1.0.wav', 'PLEAUR_PLEAUR-20190608_221900_0_1.0.wav', 'MYOBRA_20180607_222424-MYOBRA-LR_0_1.0.wav', 'eb00088_0_1.0.wav', 'nyctalus_leisleri_24740717.wav', 'Nyclei_Ireland_S3610715549_20180527_231837_nyclei_0_1.0.wav', 'MYOMYS_MYOMYS-20190625_213140_0_1.0.wav', 'NYCNOC_20190812_205918_0_1.0.wav', 'eb00082_0_1.0.wav', 'MYODAU_MYODAU-20190807_211254_0_1.0.wav', 'MYONAT_20170804_212214-MYONAT-LR_0_1.0.wav', 'SURVEYNS0037_20160516_235035_myonat_0_0.5.wav', 'EPTSER_20180621_214948-EPTSER-LR_0_1.0.wav', 'SURVEYNX5856_20160520_025803_pleaur_0_0.5.wav', 'EPTSER_EPTSER-20190801_212928_0_1.0.wav', 'myotis_nattereri_24740968.wav', 'MYOBEC_20170805_211821-MYOBEC-LR_0_1.0.wav', 'MYOBRA_20180607_221802-MYOBRA-LR_0_1.0.wav', '00275_pipistrellus_pygmaeus_0_1.0.wav', 'eb01223_0_1.0.wav', 'MYOMYS_MYOMYS-20190625_213750_0_1.0.wav', 'PipPip_D-20180620_214528-Pippip_0_1.0.wav', '00109_rhinolophus_ferrumequinum_0_1.0.wav', 'RHIHIP_20180708_215504-RHIHIP-LR_0_1.0.wav', 'pipistrellus_nathusii_24740646.wav', 'eb00217_0_1.0.wav', 'pipistrellus_nathusii_24740007.wav', 'myotis_daubentonii_24740378.wav', 'SURVEYNO3320_20160519_002249_0_0.5.wav', 'RHIHIP_20180708_214800-RHIHIP-LR_0_1.0.wav', 'PipPyg_HAN-20180502_201542-PIPPYG-LR_0_1.0.wav', 'eb00227_0_1.0.wav', 'SURVEYTG1642_20160623_031956_barbar_0_0.5.wav', 'RHIFER_20180627_214802-RHIFER-LR_0_1.0.wav', 'eb00591_0_1.0.wav', 'SURVEYTG0301_20160918_033531_myodau_0_0.5.wav', 'eb00529_0_1.0.wav', 'MYOBRA_20180606_222056-MYOBRA-LR_0_1.0.wav', 'myotis_mystacinus_24740324.wav', 'myotis_daubentonii_24740370.wav', 'eb00720_0_1.0.wav', 'PLEAUR_PLEAUR-20190608_224201_0_1.0.wav', 'eb01146_0_1.0.wav', 'Nyclei_Ireland_S2334912213_20180531_025049_nyclei_0_1.0.wav', 'PLEAUS_PLEAUS-20190819_205458_0_1.0.wav', '00015_barbastellus_barbastellus_0_1.0.wav', 'RHIHIP_20180708_220248-RHIHIP-LR_0_1.0.wav', 'EPTSER_EPTSER-20190801_210636_0_1.0.wav', 'eb00354_0_1.0.wav', 'EPTSER_20180530_212928-EPTSER-LR_0_1.0.wav', 'pipistrellus_nathusii_24740013.wav', 'MYOALC_MYOALC-20190527_200538_0_1.0.wav', 'EPTSER_EPTSER-20190801_211326_0_1.0.wav', 'RHIHIP_20180708_214627-RHIHIP-LR_0_1.0.wav', 'eb01259_0_1.0.wav', 'PLEAUS_PLEAUS-20190819_205830_0_1.0.wav', 'PipPip_D-20180620_215058-Pippip_0_1.0.wav', 'eb00531_0_1.0.wav', 'MYOMYS_20180619_213338-MYOMYS-LR_0_1.0.wav', 'EPTSER_20180530_213605-EPTSER-LR_0_1.0.wav', 'SURVEYNO4012_20160612_030702_0_0.5.wav', '00078_pipistrellus_pipistrellus_0_1.0.wav', 'myotis_daubentonii_24740395.wav', 'eb00437_0_1.0.wav', 'MYODAU_20180625_220336-MYODAU-LR_0_1.0.wav', '00208_myotis_nattereri_0_1.0.wav', 'eb01293_0_1.0.wav', 'PLEAUR_PLEAUR-20190608_221344_0_1.0.wav', 'pipistrellus_nathusii_24740016.wav', 'SURVEYTF9726_20160621_224356_barbar_0_0.5.wav', 'PipPip_C-20180620_215336-Pippip_0_1.0.wav', 'Nyclei_Ireland_S3610715549_20180528_232753_nyclei_0_1.0.wav', 'MYOBEC_20170805_214131-MYOBEC-LR_0_1.0.wav', 'MYOMYS_20170712_214902-MYOMYS-LR_0_1.0.wav', '00284_myotis_mystacinus_0_1.0.wav', 'MYODAU_20170803_213334-MYODAU-LR_0_1.0.wav', 'EPTSER_EPTSER-20190801_210406_0_1.0.wav', 'SURVEYNX8598_20160604_034256_nyclei_0_0.5.wav', 'SURVEYNY0265_20160819_213458_nycnoc_0_0.5.wav', 'MYOBRA_20180607_222548-MYOBRA-LR_0_1.0.wav', 'MYOBEC_20180615_221412-MYOBEC-LR_0_1.0.wav', 'RHIFER_20180627_220201-RHIFER-LR_0_1.0.wav', 'RHIFER_20180627_214940-RHIFER-LR_0_1.0.wav', 'PLEAUS_PLEAUS-20190819_205400_0_1.0.wav', 'eb00449_0_1.0.wav', 'PLEAUR_PLEAUR-20190608_223950_0_1.0.wav', 'myotis_daubentonii_24740738.wav']\n"
     ]
    },
    {
     "data": {
      "text/plain": [
       "(<torch.utils.data.dataloader.DataLoader at 0x7f9752e37760>,\n",
       " <torch.utils.data.dataloader.DataLoader at 0x7f9752e373d0>)"
      ]
     },
     "execution_count": 49,
     "metadata": {},
     "output_type": "execute_result"
    }
   ],
   "source": [
    "genTrainTestLoader(batchSize = 32, dataAug = False, dataCount = 302, testAmount = 0.25)"
   ]
  },
  {
   "cell_type": "markdown",
   "metadata": {},
   "source": [
    "# Total Data Check"
   ]
  },
  {
   "cell_type": "code",
   "execution_count": 5,
   "metadata": {},
   "outputs": [],
   "source": [
    "classes = ['Myotis daubentonii', 'Plecotus auritus', 'Pipistrellus pipistrellus' , #'Bat',\n",
    " 'Nyctalus leisleri' ,'Pipistrellus pygmaeus', 'Myotis mystacinus',\n",
    " 'Myotis nattereri', 'Pipistrellus nathusii', 'Nyctalus noctula',\n",
    " 'Eptesicus serotinus', 'Barbastellus barbastellus', 'Myotis brandtii',\n",
    " 'Myotis alcathoe' ,'Myotis bechsteinii', 'Plecotus austriacus',\n",
    " 'Rhinolophus ferrumequinum', 'Rhinolophus hipposideros','noise']\n"
   ]
  },
  {
   "cell_type": "code",
   "execution_count": 60,
   "metadata": {},
   "outputs": [],
   "source": [
    "def getDataLoader(batchSize,ifAug,ifTrain):\n",
    "\n",
    "    noiseList = []\n",
    "    dfList = []\n",
    "\n",
    "    if ifTrain:\n",
    "        audioDic = trainAudioDic\n",
    "    else:\n",
    "        audioDic = testAudioDic\n",
    "\n",
    "    for annName in audioDic:\n",
    "        annPath = '../annotations/' + annName\n",
    "        audioPath = '../audio/' + audioDic[annName]\n",
    "        df = dfLoader(annPath, audioPath, allData = False)\n",
    "        noises = getNoiseList(df, audioPath, 300)\n",
    "        noiseList.extend(noises)\n",
    "        dfList.append(df)\n",
    "        break\n",
    "\n",
    "#     finalDF = pd.concat(dfList)\n",
    "#     # print(finalDF['class'].unique())\n",
    "#     dataLoader = genDataLoader(batchSize,finalDF,ifAug, noiseList)\n",
    "    return df\n"
   ]
  },
  {
   "cell_type": "code",
   "execution_count": 61,
   "metadata": {
    "scrolled": true
   },
   "outputs": [
    {
     "ename": "NameError",
     "evalue": "name 'df' is not defined",
     "output_type": "error",
     "traceback": [
      "\u001b[0;31m---------------------------------------------------------------------------\u001b[0m",
      "\u001b[0;31mNameError\u001b[0m                                 Traceback (most recent call last)",
      "\u001b[0;32m<ipython-input-61-00cf07b74dcd>\u001b[0m in \u001b[0;36m<module>\u001b[0;34m\u001b[0m\n\u001b[0;32m----> 1\u001b[0;31m \u001b[0mdf\u001b[0m\u001b[0;34m\u001b[0m\u001b[0;34m\u001b[0m\u001b[0m\n\u001b[0m",
      "\u001b[0;31mNameError\u001b[0m: name 'df' is not defined"
     ]
    }
   ],
   "source": [
    "df"
   ]
  },
  {
   "cell_type": "code",
   "execution_count": 62,
   "metadata": {},
   "outputs": [],
   "source": [
    "df = getDataLoader(32,False, True)"
   ]
  },
  {
   "cell_type": "code",
   "execution_count": 31,
   "metadata": {},
   "outputs": [
    {
     "data": {
      "text/plain": [
       "0       0\n",
       "1       0\n",
       "2       0\n",
       "3       0\n",
       "4       0\n",
       "       ..\n",
       "7873    1\n",
       "7874    1\n",
       "7875    1\n",
       "7876    1\n",
       "7877    1\n",
       "Name: label, Length: 7750, dtype: int64"
      ]
     },
     "execution_count": 31,
     "metadata": {},
     "output_type": "execute_result"
    }
   ],
   "source": [
    "df['label']"
   ]
  },
  {
   "cell_type": "code",
   "execution_count": 6,
   "metadata": {},
   "outputs": [],
   "source": [
    "classNumDic = {}\n",
    "dataCount = 200\n",
    "\n",
    "\n",
    "for i in classes:\n",
    "    classNumDic[i] = dataCount\n",
    "\n"
   ]
  },
  {
   "cell_type": "code",
   "execution_count": 35,
   "metadata": {},
   "outputs": [],
   "source": [
    "X = []\n",
    "y = []\n",
    "\n",
    "for index, row in df.iterrows():\n",
    "    if(classNumDic[row['class']] > 0):\n",
    "        X.append(row['data'])\n",
    "        y.append(row['label'])\n",
    "        classNumDic[row['class']] = classNumDic[row['class']]-1"
   ]
  },
  {
   "cell_type": "code",
   "execution_count": 37,
   "metadata": {},
   "outputs": [
    {
     "data": {
      "text/plain": [
       "1458"
      ]
     },
     "execution_count": 37,
     "metadata": {},
     "output_type": "execute_result"
    }
   ],
   "source": [
    "len(X)"
   ]
  },
  {
   "cell_type": "code",
   "execution_count": 36,
   "metadata": {},
   "outputs": [
    {
     "data": {
      "text/plain": [
       "{'Myotis daubentonii': 0,\n",
       " 'Plecotus auritus': 0,\n",
       " 'Pipistrellus pipistrellus': 142,\n",
       " 'Nyctalus leisleri': 0,\n",
       " 'Pipistrellus pygmaeus': 0,\n",
       " 'Myotis mystacinus': 0,\n",
       " 'Myotis nattereri': 0,\n",
       " 'Pipistrellus nathusii': 0,\n",
       " 'Nyctalus noctula': 200,\n",
       " 'Eptesicus serotinus': 200,\n",
       " 'Barbastellus barbastellus': 200,\n",
       " 'Myotis brandtii': 200,\n",
       " 'Myotis alcathoe': 200,\n",
       " 'Myotis bechsteinii': 200,\n",
       " 'Plecotus austriacus': 200,\n",
       " 'Rhinolophus ferrumequinum': 200,\n",
       " 'Rhinolophus hipposideros': 200,\n",
       " 'noise': 200}"
      ]
     },
     "execution_count": 36,
     "metadata": {},
     "output_type": "execute_result"
    }
   ],
   "source": [
    "classNumDic"
   ]
  },
  {
   "cell_type": "code",
   "execution_count": 10,
   "metadata": {},
   "outputs": [
    {
     "data": {
      "text/plain": [
       "18"
      ]
     },
     "execution_count": 10,
     "metadata": {},
     "output_type": "execute_result"
    }
   ],
   "source": [
    "len(classNumDic)"
   ]
  },
  {
   "cell_type": "code",
   "execution_count": 45,
   "metadata": {},
   "outputs": [],
   "source": [
    "def getDataLoaderFilebase(batchSize,dataAug,ifTrain):\n",
    "\n",
    "    noiseList = []\n",
    "    dfList = []\n",
    "    \n",
    "    classNumDic = {}\n",
    "    dataCount = 200\n",
    "    \n",
    "    \n",
    "\n",
    "    for i in classes:\n",
    "        classNumDic[i] = dataCount\n",
    "        \n",
    "    X = []\n",
    "    y = []\n",
    "\n",
    "    for annName in annAudioDic:\n",
    "        annPath = '../annotations/' + annName\n",
    "        audioPath = '../audio/' + annAudioDic[annName]\n",
    "        df = dfLoader(annPath, audioPath, allData = False)\n",
    "        noises = getNoiseList(df, audioPath, 50)\n",
    "        noiseList.extend(noises)\n",
    "        \n",
    "\n",
    "\n",
    "        for index, row in df.iterrows():\n",
    "            if(classNumDic[row['class']] > 0):\n",
    "                X.append(row['data'])\n",
    "                y.append(row['label'])\n",
    "                classNumDic[row['class']] = classNumDic[row['class']]-1\n",
    "                \n",
    "    X.extend(noiseList)\n",
    "    y.extend([17]*len(noiseList))\n",
    "    \n",
    "    print(len(X))\n",
    "    print(len(y))\n",
    "    print(classNumDic)\n",
    "            \n",
    "    X = torch.Tensor(np.array(X))\n",
    "    y = torch.Tensor(np.array(y))\n",
    "    \n",
    "    if dataAug:\n",
    "        augData = genAugData(X,3)\n",
    "        print(f'Data Aug size is {augData.size()}')\n",
    "\n",
    "        X = torch.concat((X,augData))\n",
    "        y = torch.concat((y,y,y,y))\n",
    "    \n",
    "    datasetTensor = TensorDataset(X,y)\n",
    "\n",
    "    dataLoader = DataLoader(datasetTensor, batch_size = batchSize, shuffle=True)\n",
    "\n",
    "#     finalDF = pd.concat(dfList)\n",
    "#     # print(finalDF['class'].unique())\n",
    "#     dataLoader = genDataLoader(batchSize,finalDF,ifAug, noiseList)\n",
    "    return dataLoader\n"
   ]
  },
  {
   "cell_type": "code",
   "execution_count": 46,
   "metadata": {},
   "outputs": [
    {
     "name": "stdout",
     "output_type": "stream",
     "text": [
      "3800\n",
      "3800\n",
      "{'Myotis daubentonii': 0, 'Plecotus auritus': 0, 'Pipistrellus pipistrellus': 0, 'Nyctalus leisleri': 0, 'Pipistrellus pygmaeus': 0, 'Myotis mystacinus': 0, 'Myotis nattereri': 0, 'Pipistrellus nathusii': 0, 'Nyctalus noctula': 0, 'Eptesicus serotinus': 0, 'Barbastellus barbastellus': 0, 'Myotis brandtii': 0, 'Myotis alcathoe': 0, 'Myotis bechsteinii': 0, 'Plecotus austriacus': 0, 'Rhinolophus ferrumequinum': 0, 'Rhinolophus hipposideros': 0, 'noise': 200}\n"
     ]
    },
    {
     "data": {
      "text/plain": [
       "<torch.utils.data.dataloader.DataLoader at 0x7ff3121e0970>"
      ]
     },
     "execution_count": 46,
     "metadata": {},
     "output_type": "execute_result"
    }
   ],
   "source": [
    "getDataLoaderFilebase(32,False,False)"
   ]
  },
  {
   "cell_type": "code",
   "execution_count": 44,
   "metadata": {},
   "outputs": [
    {
     "data": {
      "text/plain": [
       "{'Myotis daubentonii': 0,\n",
       " 'Plecotus auritus': 0,\n",
       " 'Pipistrellus pipistrellus': 0,\n",
       " 'Nyctalus leisleri': 0,\n",
       " 'Pipistrellus pygmaeus': 0,\n",
       " 'Myotis mystacinus': 0,\n",
       " 'Myotis nattereri': 0,\n",
       " 'Pipistrellus nathusii': 0,\n",
       " 'Nyctalus noctula': 0,\n",
       " 'Eptesicus serotinus': 0,\n",
       " 'Barbastellus barbastellus': 0,\n",
       " 'Myotis brandtii': 0,\n",
       " 'Myotis alcathoe': 0,\n",
       " 'Myotis bechsteinii': 0,\n",
       " 'Plecotus austriacus': 0,\n",
       " 'Rhinolophus ferrumequinum': 0,\n",
       " 'Rhinolophus hipposideros': 0,\n",
       " 'noise': 200}"
      ]
     },
     "execution_count": 44,
     "metadata": {},
     "output_type": "execute_result"
    }
   ],
   "source": [
    "classNumDic"
   ]
  },
  {
   "cell_type": "markdown",
   "metadata": {},
   "source": [
    "## Split checking"
   ]
  },
  {
   "cell_type": "code",
   "execution_count": 32,
   "metadata": {},
   "outputs": [],
   "source": [
    "\n",
    "def genDataLoader(batchSize, df, dataAug, noiseList):\n",
    "\n",
    "    X = []\n",
    "    y = []\n",
    "\n",
    "    for index, row in df.iterrows():\n",
    "        reshapeData = row['data']\n",
    "        X.append(reshapeData)\n",
    "        y.append(row['label'])\n",
    "\n",
    "    X.extend(noiseList)\n",
    "    y.extend([18]*len(noiseList))\n",
    "\n",
    "    print(len(noiseList))\n",
    "\n",
    "    X = torch.Tensor(np.array(X))\n",
    "    y = torch.Tensor(np.array(y))\n",
    "\n",
    "\n",
    "    return X,y"
   ]
  },
  {
   "cell_type": "code",
   "execution_count": 33,
   "metadata": {},
   "outputs": [
    {
     "name": "stdout",
     "output_type": "stream",
     "text": [
      "0\n"
     ]
    }
   ],
   "source": [
    "X, y = genDataLoader(20,train_DF,False, [])"
   ]
  },
  {
   "cell_type": "code",
   "execution_count": 36,
   "metadata": {},
   "outputs": [],
   "source": [
    "X_train, X_test, y_train, y_test = ms.train_test_split(X, y, test_size=0.50)\n"
   ]
  },
  {
   "cell_type": "code",
   "execution_count": 38,
   "metadata": {},
   "outputs": [
    {
     "data": {
      "text/plain": [
       "torch.Size([8088, 128, 32])"
      ]
     },
     "execution_count": 38,
     "metadata": {},
     "output_type": "execute_result"
    }
   ],
   "source": [
    "X_test.shape"
   ]
  },
  {
   "cell_type": "code",
   "execution_count": 20,
   "metadata": {},
   "outputs": [
    {
     "data": {
      "text/plain": [
       "[0, 1, 2, 3, 4, 5, 6, 7, 8, 9, 10, 11, 12, 13, 14, 15, 16, 17]"
      ]
     },
     "execution_count": 20,
     "metadata": {},
     "output_type": "execute_result"
    }
   ],
   "source": [
    "mylist = list(set(y_train))\n",
    "mylist"
   ]
  },
  {
   "cell_type": "code",
   "execution_count": 28,
   "metadata": {},
   "outputs": [
    {
     "name": "stdout",
     "output_type": "stream",
     "text": [
      "3212\n",
      "442\n",
      "678\n",
      "468\n",
      "571\n",
      "1013\n",
      "1057\n",
      "2008\n",
      "1157\n",
      "167\n",
      "344\n",
      "353\n",
      "264\n",
      "288\n",
      "200\n",
      "256\n",
      "245\n",
      "217\n"
     ]
    }
   ],
   "source": [
    "for i in range((18)):\n",
    "    print(y_train.count(i))"
   ]
  },
  {
   "cell_type": "code",
   "execution_count": 30,
   "metadata": {},
   "outputs": [
    {
     "name": "stdout",
     "output_type": "stream",
     "text": [
      "3088\n",
      "408\n",
      "744\n",
      "492\n",
      "564\n",
      "924\n",
      "1132\n",
      "2080\n",
      "1140\n",
      "132\n",
      "348\n",
      "296\n",
      "332\n",
      "308\n",
      "220\n",
      "260\n",
      "256\n",
      "220\n"
     ]
    }
   ],
   "source": [
    "for i in range((18)):\n",
    "    print(y_test.count(i)*4)"
   ]
  },
  {
   "cell_type": "code",
   "execution_count": 21,
   "metadata": {},
   "outputs": [
    {
     "data": {
      "text/plain": [
       "[0, 1, 2, 3, 4, 5, 6, 7, 8, 9, 10, 11, 12, 13, 14, 15, 16, 17]"
      ]
     },
     "execution_count": 21,
     "metadata": {},
     "output_type": "execute_result"
    }
   ],
   "source": [
    "mylist = list(set(y_test))\n",
    "mylist"
   ]
  },
  {
   "cell_type": "code",
   "execution_count": 68,
   "metadata": {},
   "outputs": [
    {
     "name": "stdout",
     "output_type": "stream",
     "text": [
      "Index : Myotis daubentonii, Value : 6337\n",
      "Index : Myotis mystacinus, Value : 2757\n",
      "Index : Myotis nattereri, Value : 2627\n",
      "Index : Eptesicus serotinus, Value : 2585\n",
      "Index : Pipistrellus pygmaeus, Value : 2346\n",
      "Index : Myotis brandtii, Value : 1936\n",
      "Index : Pipistrellus pipistrellus, Value : 1891\n",
      "Index : Rhinolophus ferrumequinum, Value : 1637\n",
      "Index : Rhinolophus hipposideros, Value : 1460\n",
      "Index : Pipistrellus nathusii, Value : 1442\n",
      "Index : Bat, Value : 1389\n",
      "Index : Nyctalus leisleri, Value : 1150\n",
      "Index : Plecotus auritus, Value : 1120\n",
      "Index : Barbastellus barbastellus, Value : 984\n",
      "Index : Myotis bechsteinii, Value : 880\n",
      "Index : Myotis alcathoe, Value : 866\n",
      "Index : Plecotus austriacus, Value : 842\n",
      "Index : Nyctalus noctula, Value : 402\n"
     ]
    }
   ],
   "source": [
    "classNames = []\n",
    "for index, value in all_DF['class'].value_counts().items():\n",
    "    classNames.append(index)\n",
    "    print(f\"Index : {index}, Value : {value}\")"
   ]
  },
  {
   "cell_type": "code",
   "execution_count": 69,
   "metadata": {},
   "outputs": [
    {
     "data": {
      "text/plain": [
       "['Myotis daubentonii',\n",
       " 'Myotis mystacinus',\n",
       " 'Myotis nattereri',\n",
       " 'Eptesicus serotinus',\n",
       " 'Pipistrellus pygmaeus',\n",
       " 'Myotis brandtii',\n",
       " 'Pipistrellus pipistrellus',\n",
       " 'Rhinolophus ferrumequinum',\n",
       " 'Rhinolophus hipposideros',\n",
       " 'Pipistrellus nathusii',\n",
       " 'Bat',\n",
       " 'Nyctalus leisleri',\n",
       " 'Plecotus auritus',\n",
       " 'Barbastellus barbastellus',\n",
       " 'Myotis bechsteinii',\n",
       " 'Myotis alcathoe',\n",
       " 'Plecotus austriacus',\n",
       " 'Nyctalus noctula']"
      ]
     },
     "execution_count": 69,
     "metadata": {},
     "output_type": "execute_result"
    }
   ],
   "source": [
    "classNames"
   ]
  },
  {
   "cell_type": "code",
   "execution_count": 73,
   "metadata": {},
   "outputs": [],
   "source": [
    "def seriesToList(series):\n",
    "    classDic = {}\n",
    "    for index, value in series.items():\n",
    "        classDic[index] = value\n",
    "    \n",
    "    finalList = []\n",
    "    \n",
    "    for name in classNames:\n",
    "        if name in classDic:\n",
    "            finalList.append(classDic[name])\n",
    "        else:\n",
    "            finalList.append(0)\n",
    "    \n",
    "    return finalList"
   ]
  },
  {
   "cell_type": "code",
   "execution_count": 87,
   "metadata": {},
   "outputs": [],
   "source": [
    "train_list = seriesToList(train_DF['class'].value_counts())"
   ]
  },
  {
   "cell_type": "code",
   "execution_count": 88,
   "metadata": {},
   "outputs": [],
   "source": [
    "all_list = seriesToList(all_DF['class'].value_counts())"
   ]
  },
  {
   "cell_type": "code",
   "execution_count": 89,
   "metadata": {},
   "outputs": [],
   "source": [
    "test_list = seriesToList(test_DF['class'].value_counts())"
   ]
  },
  {
   "cell_type": "code",
   "execution_count": 103,
   "metadata": {},
   "outputs": [
    {
     "data": {
      "text/plain": [
       "<matplotlib.legend.Legend at 0x7f4e195547f0>"
      ]
     },
     "execution_count": 103,
     "metadata": {},
     "output_type": "execute_result"
    },
    {
     "data": {
      "image/png": "[encoded data removed]",
      "text/plain": [
       "<Figure size 1152x576 with 1 Axes>"
      ]
     },
     "metadata": {
      "needs_background": "light"
     },
     "output_type": "display_data"
    }
   ],
   "source": [
    "import matplotlib\n",
    "import matplotlib.pyplot as plt\n",
    "import numpy as np\n",
    "\n",
    "\n",
    "labels = classNames\n",
    "men_means = [20, 34, 30, 35, 27]\n",
    "women_means = [25, 32, 34, 20, 25]\n",
    "\n",
    "x = np.arange(len(labels))  # the label locations\n",
    "width = 0.35  # the width of the bars\n",
    "\n",
    "fig, ax = plt.subplots(figsize=(16, 8))\n",
    "rects1 = ax.bar(x - width/2, test_list, width, label='test')\n",
    "rects2 = ax.bar(x + width/2, train_list, width, label='train')\n",
    "\n",
    "# Add some text for labels, title and custom x-axis tick labels, etc.\n",
    "ax.set_ylabel('Scores')\n",
    "ax.set_title('Scores by group and gender')\n",
    "ax.set_xticks(x)\n",
    "ax.set_xticklabels(labels,rotation=50)\n",
    "ax.legend()"
   ]
  },
  {
   "cell_type": "markdown",
   "metadata": {},
   "source": [
    "## All data"
   ]
  },
  {
   "cell_type": "code",
   "execution_count": 33,
   "metadata": {},
   "outputs": [
    {
     "data": {
      "text/plain": [
       "Myotis daubentonii           6337\n",
       "Myotis mystacinus            2757\n",
       "Myotis nattereri             2627\n",
       "Eptesicus serotinus          2585\n",
       "Pipistrellus pygmaeus        2346\n",
       "Myotis brandtii              1936\n",
       "Pipistrellus pipistrellus    1891\n",
       "Rhinolophus ferrumequinum    1637\n",
       "Rhinolophus hipposideros     1460\n",
       "Pipistrellus nathusii        1442\n",
       "Bat                          1389\n",
       "Nyctalus leisleri            1150\n",
       "Plecotus auritus             1120\n",
       "Barbastellus barbastellus     984\n",
       "Myotis bechsteinii            880\n",
       "Myotis alcathoe               866\n",
       "Plecotus austriacus           842\n",
       "Nyctalus noctula              402\n",
       "Name: class, dtype: int64"
      ]
     },
     "execution_count": 33,
     "metadata": {},
     "output_type": "execute_result"
    }
   ],
   "source": [
    "all_DF['class'].value_counts()"
   ]
  },
  {
   "cell_type": "markdown",
   "metadata": {},
   "source": [
    "## Test Data"
   ]
  },
  {
   "cell_type": "code",
   "execution_count": 34,
   "metadata": {},
   "outputs": [
    {
     "data": {
      "text/plain": [
       "Myotis daubentonii           2353\n",
       "Eptesicus serotinus          2154\n",
       "Myotis brandtii              1589\n",
       "Myotis mystacinus            1417\n",
       "Rhinolophus ferrumequinum    1328\n",
       "Rhinolophus hipposideros     1188\n",
       "Pipistrellus pygmaeus        1102\n",
       "Pipistrellus pipistrellus    1027\n",
       "Bat                           798\n",
       "Myotis bechsteinii            625\n",
       "Plecotus auritus              576\n",
       "Barbastellus barbastellus     557\n",
       "Plecotus austriacus           521\n",
       "Myotis alcathoe               501\n",
       "Nyctalus leisleri             438\n",
       "Nyctalus noctula              202\n",
       "Myotis nattereri               99\n",
       "Name: class, dtype: int64"
      ]
     },
     "execution_count": 34,
     "metadata": {},
     "output_type": "execute_result"
    }
   ],
   "source": [
    "test_DF['class'].value_counts()"
   ]
  },
  {
   "cell_type": "markdown",
   "metadata": {},
   "source": [
    "## With all four files"
   ]
  },
  {
   "cell_type": "code",
   "execution_count": 40,
   "metadata": {},
   "outputs": [
    {
     "data": {
      "text/plain": [
       "Myotis daubentonii           3984\n",
       "Myotis nattereri             2528\n",
       "Pipistrellus nathusii        1442\n",
       "Myotis mystacinus            1340\n",
       "Pipistrellus pygmaeus        1244\n",
       "Pipistrellus pipistrellus     864\n",
       "Nyctalus leisleri             712\n",
       "Bat                           591\n",
       "Plecotus auritus              544\n",
       "Eptesicus serotinus           431\n",
       "Barbastellus barbastellus     427\n",
       "Myotis alcathoe               365\n",
       "Myotis brandtii               347\n",
       "Plecotus austriacus           321\n",
       "Rhinolophus ferrumequinum     309\n",
       "Rhinolophus hipposideros      272\n",
       "Myotis bechsteinii            255\n",
       "Nyctalus noctula              200\n",
       "Name: class, dtype: int64"
      ]
     },
     "execution_count": 40,
     "metadata": {},
     "output_type": "execute_result"
    }
   ],
   "source": [
    "train_DF['class'].value_counts()"
   ]
  },
  {
   "cell_type": "code",
   "execution_count": 42,
   "metadata": {},
   "outputs": [
    {
     "name": "stdout",
     "output_type": "stream",
     "text": [
      "Index : Myotis daubentonii, Value : 3984\n",
      "Index : Myotis nattereri, Value : 2528\n",
      "Index : Pipistrellus nathusii, Value : 1442\n",
      "Index : Myotis mystacinus, Value : 1340\n",
      "Index : Pipistrellus pygmaeus, Value : 1244\n",
      "Index : Pipistrellus pipistrellus, Value : 864\n",
      "Index : Nyctalus leisleri, Value : 712\n",
      "Index : Bat, Value : 591\n",
      "Index : Plecotus auritus, Value : 544\n",
      "Index : Eptesicus serotinus, Value : 431\n",
      "Index : Barbastellus barbastellus, Value : 427\n",
      "Index : Myotis alcathoe, Value : 365\n",
      "Index : Myotis brandtii, Value : 347\n",
      "Index : Plecotus austriacus, Value : 321\n",
      "Index : Rhinolophus ferrumequinum, Value : 309\n",
      "Index : Rhinolophus hipposideros, Value : 272\n",
      "Index : Myotis bechsteinii, Value : 255\n",
      "Index : Nyctalus noctula, Value : 200\n"
     ]
    }
   ],
   "source": [
    "for index, value in train_DF['class'].value_counts().items():\n",
    "    print(f\"Index : {index}, Value : {value}\")"
   ]
  },
  {
   "cell_type": "markdown",
   "metadata": {},
   "source": [
    "## with only Echobank and BCT 1 "
   ]
  },
  {
   "cell_type": "code",
   "execution_count": 13,
   "metadata": {},
   "outputs": [
    {
     "data": {
      "text/plain": [
       "Myotis nattereri             991\n",
       "Pipistrellus pipistrellus    518\n",
       "Myotis mystacinus            507\n",
       "Myotis daubentonii           412\n",
       "Pipistrellus pygmaeus        388\n",
       "Myotis alcathoe              365\n",
       "Myotis brandtii              347\n",
       "Bat                          336\n",
       "Plecotus austriacus          321\n",
       "Eptesicus serotinus          314\n",
       "Rhinolophus ferrumequinum    309\n",
       "Pipistrellus nathusii        299\n",
       "Rhinolophus hipposideros     272\n",
       "Myotis bechsteinii           255\n",
       "Barbastellus barbastellus    244\n",
       "Plecotus auritus             220\n",
       "Nyctalus leisleri            216\n",
       "Nyctalus noctula             133\n",
       "Name: class, dtype: int64"
      ]
     },
     "execution_count": 13,
     "metadata": {},
     "output_type": "execute_result"
    }
   ],
   "source": [
    "train_DF['class'].value_counts()"
   ]
  },
  {
   "cell_type": "markdown",
   "metadata": {},
   "source": [
    "## with bcireland_expert and scot"
   ]
  },
  {
   "cell_type": "code",
   "execution_count": 17,
   "metadata": {},
   "outputs": [
    {
     "data": {
      "text/plain": [
       "Myotis daubentonii           3572\n",
       "Myotis nattereri             1537\n",
       "Pipistrellus nathusii        1143\n",
       "Pipistrellus pygmaeus         856\n",
       "Myotis mystacinus             833\n",
       "Nyctalus leisleri             496\n",
       "Pipistrellus pipistrellus     346\n",
       "Plecotus auritus              324\n",
       "Bat                           255\n",
       "Barbastellus barbastellus     183\n",
       "Eptesicus serotinus           117\n",
       "Nyctalus noctula               67\n",
       "Name: class, dtype: int64"
      ]
     },
     "execution_count": 17,
     "metadata": {},
     "output_type": "execute_result"
    }
   ],
   "source": [
    "train_DF['class'].value_counts()"
   ]
  },
  {
   "cell_type": "markdown",
   "metadata": {},
   "source": [
    "## with only BCT_1"
   ]
  },
  {
   "cell_type": "code",
   "execution_count": 22,
   "metadata": {},
   "outputs": [
    {
     "data": {
      "text/plain": [
       "Myotis nattereri             690\n",
       "Myotis daubentonii           214\n",
       "Myotis mystacinus            185\n",
       "Barbastellus barbastellus    183\n",
       "Pipistrellus pipistrellus    158\n",
       "Pipistrellus nathusii        147\n",
       "Eptesicus serotinus          115\n",
       "Pipistrellus pygmaeus        110\n",
       "Myotis bechsteinii           100\n",
       "Rhinolophus ferrumequinum     90\n",
       "Myotis brandtii               79\n",
       "Myotis alcathoe               74\n",
       "Plecotus austriacus           64\n",
       "Plecotus auritus              52\n",
       "Bat                           25\n",
       "Nyctalus noctula              17\n",
       "Rhinolophus hipposideros      13\n",
       "Nyctalus leisleri              4\n",
       "Name: class, dtype: int64"
      ]
     },
     "execution_count": 22,
     "metadata": {},
     "output_type": "execute_result"
    }
   ],
   "source": [
    "train_DF['class'].value_counts()"
   ]
  },
  {
   "cell_type": "code",
   "execution_count": null,
   "metadata": {},
   "outputs": [],
   "source": []
  }
 ],
 "metadata": {
  "kernelspec": {
   "display_name": "Python 3",
   "language": "python",
   "name": "python3"
  },
  "language_info": {
   "codemirror_mode": {
    "name": "ipython",
    "version": 3
   },
   "file_extension": ".py",
   "mimetype": "text/x-python",
   "name": "python",
   "nbconvert_exporter": "python",
   "pygments_lexer": "ipython3",
   "version": "3.8.10"
  }
 },
 "nbformat": 4,
 "nbformat_minor": 4
}
