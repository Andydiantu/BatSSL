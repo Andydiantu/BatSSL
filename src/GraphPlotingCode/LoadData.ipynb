{
 "cells": [
  {
   "cell_type": "code",
   "execution_count": 1,
   "metadata": {},
   "outputs": [],
   "source": [
    "import json\n",
    "import numpy as np\n",
    "import matplotlib.pyplot as plt\n",
    "from scipy.io import wavfile\n",
    "from matplotlib import patches\n",
    "from matplotlib.collections import PatchCollection\n",
    "\n",
    "import os\n",
    "# from pandas.io.json import json_normalize\n",
    "import pandas as pd"
   ]
  },
  {
   "cell_type": "code",
   "execution_count": 1,
   "metadata": {},
   "outputs": [
    {
     "ename": "SyntaxError",
     "evalue": "invalid syntax (<ipython-input-1-e8f30ae4feed>, line 1)",
     "output_type": "error",
     "traceback": [
      "\u001b[0;36m  File \u001b[0;32m\"<ipython-input-1-e8f30ae4feed>\"\u001b[0;36m, line \u001b[0;32m1\u001b[0m\n\u001b[0;31m    from src/dfLoader import *\u001b[0m\n\u001b[0m            ^\u001b[0m\n\u001b[0;31mSyntaxError\u001b[0m\u001b[0;31m:\u001b[0m invalid syntax\n"
     ]
    }
   ],
   "source": [
    "from src/dfLoader import *\n"
   ]
  },
  {
   "cell_type": "code",
   "execution_count": 2,
   "metadata": {},
   "outputs": [],
   "source": [
    "audio_dir = 'example_audio/bat_data_martyn_2018/'\n",
    "ann_path = 'annotations/BritishBatCalls_MartynCooke_2018_1_sec_train_expert.json'\n",
    "path = 'annotations/'"
   ]
  },
  {
   "cell_type": "markdown",
   "metadata": {},
   "source": [
    "## Helper functions"
   ]
  },
  {
   "cell_type": "code",
   "execution_count": 4,
   "metadata": {},
   "outputs": [
    {
     "ename": "SyntaxError",
     "evalue": "invalid syntax (<ipython-input-4-88b0692753a9>, line 23)",
     "output_type": "error",
     "traceback": [
      "\u001b[0;36m  File \u001b[0;32m\"<ipython-input-4-88b0692753a9>\"\u001b[0;36m, line \u001b[0;32m23\u001b[0m\n\u001b[0;31m    spec = np.flipud(spec[W 19:57:07.859 NotebookApp] Notebook LoadData.ipynb is not trusted\u001b[0m\n\u001b[0m                            ^\u001b[0m\n\u001b[0;31mSyntaxError\u001b[0m\u001b[0;31m:\u001b[0m invalid syntax\n"
     ]
    }
   ],
   "source": [
    "def gen_mag_spectrogram(x, nfft, noverlap):\n",
    "    # Computes magnitude spectrogram by specifying time.\n",
    "\n",
    "    # window data\n",
    "    step = nfft - noverlap\n",
    "    shape = (nfft, (x.shape[-1]-noverlap)//step)\n",
    "    strides = (x.strides[0], step*x.strides[0])\n",
    "    x_wins = np.lib.stride_tricks.as_strided(x, shape=shape, strides=strides)\n",
    "\n",
    "    # apply window\n",
    "    x_wins = np.hanning(x_wins.shape[0]).astype(np.float32)[..., np.newaxis] * x_wins\n",
    "\n",
    "    # do fft\n",
    "    # note this will be much slower if x_wins.shape[0] is not a power of 2\n",
    "    complex_spec = np.fft.rfft(x_wins, axis=0)\n",
    "\n",
    "    # calculate magnitude\n",
    "    #spec = (np.conjugate(complex_spec) * complex_spec).real\n",
    "    # same as:\n",
    "    spec = np.absolute(complex_spec)**2\n",
    "\n",
    "    # orientate the ocrrect way \n",
    "    spec = np.flipud(spec[W 19:57:07.859 NotebookApp] Notebook LoadData.ipynb is not trusted\n",
    ")\n",
    "  \n",
    "    # convert to \"amplitude\"\n",
    "    spec = np.log(1.0 + spec)\n",
    "\n",
    "    return spec\n",
    "\n",
    "def plot_bounding_box_patch(ann, freq_scale, colors):\n",
    "    patch_collect = []\n",
    "    for aa in ann['annotation']:\n",
    "        xx = aa['start_time']\n",
    "        ww = aa['end_time'] - aa['start_time']\n",
    "        yy = aa['low_freq'] / freq_scale\n",
    "        hh = (aa['high_freq'] - aa['low_freq']) / freq_scale\n",
    "        col = colors[int(aa['individual'])]\n",
    "        patch_collect.append(patches.Rectangle((xx, yy), ww, hh, linewidth=1,\n",
    "                             edgecolor=col, facecolor='none', alpha=1.0))\n",
    "    return patch_collect"
   ]
  },
  {
   "cell_type": "markdown",
   "metadata": {},
   "source": [
    " # Load All Audio FIle"
   ]
  },
  {
   "cell_type": "code",
   "execution_count": 3,
   "metadata": {},
   "outputs": [
    {
     "name": "stdout",
     "output_type": "stream",
     "text": [
      "BritishBatCalls_MartynCooke_2019_1_sec_train_expert.json\n",
      "Echobank_train_expert.json\n",
      "bcireland_expert.json\n",
      "sn_scot_nor_0.5_expert.json\n",
      "BritishBatCalls_MartynCooke_2019_1_sec_test_expert.json\n",
      "BritishBatCalls_MartynCooke_2018_1_sec_train_expert.json\n",
      "BritishBatCalls_MartynCooke_2018_1_sec_test_expert.json\n",
      "BCT_1_sec_train_expert.json\n"
     ]
    }
   ],
   "source": [
    "for file in os.listdir(path):\n",
    "    print(file)"
   ]
  },
  {
   "cell_type": "code",
   "execution_count": 4,
   "metadata": {},
   "outputs": [
    {
     "name": "stdout",
     "output_type": "stream",
     "text": [
      "bat_data_martyn_2019\n",
      "sn_scot_nor\n",
      "echobank\n",
      "bat_data_martyn_2018_test\n",
      "BCT_1_sec\n",
      "bat_audio_april_2021.zip\n",
      "bat_data_martyn_2019_test\n",
      "bcireland\n",
      "bat_data_martyn_2018\n"
     ]
    }
   ],
   "source": [
    "for file in os.listdir('audio'):\n",
    "    print(file)"
   ]
  },
  {
   "cell_type": "code",
   "execution_count": 5,
   "metadata": {},
   "outputs": [],
   "source": [
    "data = json.load(open(ann_path))\n",
    "\n",
    "df = pd.json_normalize(data, record_path=['annotation'], meta=['id'])"
   ]
  },
  {
   "cell_type": "code",
   "execution_count": 6,
   "metadata": {},
   "outputs": [
    {
     "data": {
      "text/html": [
       "<div>\n",
       "<style scoped>\n",
       "    .dataframe tbody tr th:only-of-type {\n",
       "        vertical-align: middle;\n",
       "    }\n",
       "\n",
       "    .dataframe tbody tr th {\n",
       "        vertical-align: top;\n",
       "    }\n",
       "\n",
       "    .dataframe thead th {\n",
       "        text-align: right;\n",
       "    }\n",
       "</style>\n",
       "<table border=\"1\" class=\"dataframe\">\n",
       "  <thead>\n",
       "    <tr style=\"text-align: right;\">\n",
       "      <th></th>\n",
       "      <th>end_time</th>\n",
       "      <th>high_freq</th>\n",
       "      <th>low_freq</th>\n",
       "      <th>start_time</th>\n",
       "      <th>duration</th>\n",
       "      <th>trimInTime</th>\n",
       "      <th>trimOutTime</th>\n",
       "    </tr>\n",
       "  </thead>\n",
       "  <tbody>\n",
       "    <tr>\n",
       "      <th>count</th>\n",
       "      <td>6242.000000</td>\n",
       "      <td>6242.000000</td>\n",
       "      <td>6242.000000</td>\n",
       "      <td>6242.000000</td>\n",
       "      <td>6242.000000</td>\n",
       "      <td>6242.000000</td>\n",
       "      <td>6242.000000</td>\n",
       "    </tr>\n",
       "    <tr>\n",
       "      <th>mean</th>\n",
       "      <td>0.496609</td>\n",
       "      <td>82591.596853</td>\n",
       "      <td>44101.257813</td>\n",
       "      <td>0.484339</td>\n",
       "      <td>0.012270</td>\n",
       "      <td>0.480497</td>\n",
       "      <td>0.500497</td>\n",
       "    </tr>\n",
       "    <tr>\n",
       "      <th>std</th>\n",
       "      <td>0.285968</td>\n",
       "      <td>25129.398756</td>\n",
       "      <td>20204.163371</td>\n",
       "      <td>0.285923</td>\n",
       "      <td>0.015195</td>\n",
       "      <td>0.285806</td>\n",
       "      <td>0.285806</td>\n",
       "    </tr>\n",
       "    <tr>\n",
       "      <th>min</th>\n",
       "      <td>0.006974</td>\n",
       "      <td>21748.535156</td>\n",
       "      <td>15625.000000</td>\n",
       "      <td>0.001799</td>\n",
       "      <td>0.001805</td>\n",
       "      <td>0.000000</td>\n",
       "      <td>0.020000</td>\n",
       "    </tr>\n",
       "    <tr>\n",
       "      <th>25%</th>\n",
       "      <td>0.251055</td>\n",
       "      <td>61523.437500</td>\n",
       "      <td>28320.312500</td>\n",
       "      <td>0.238316</td>\n",
       "      <td>0.004937</td>\n",
       "      <td>0.235054</td>\n",
       "      <td>0.255054</td>\n",
       "    </tr>\n",
       "    <tr>\n",
       "      <th>50%</th>\n",
       "      <td>0.493318</td>\n",
       "      <td>84000.000000</td>\n",
       "      <td>35644.531250</td>\n",
       "      <td>0.480982</td>\n",
       "      <td>0.006172</td>\n",
       "      <td>0.477763</td>\n",
       "      <td>0.497763</td>\n",
       "    </tr>\n",
       "    <tr>\n",
       "      <th>75%</th>\n",
       "      <td>0.742767</td>\n",
       "      <td>104478.149414</td>\n",
       "      <td>53710.937500</td>\n",
       "      <td>0.729807</td>\n",
       "      <td>0.008641</td>\n",
       "      <td>0.726078</td>\n",
       "      <td>0.746078</td>\n",
       "    </tr>\n",
       "    <tr>\n",
       "      <th>max</th>\n",
       "      <td>0.999875</td>\n",
       "      <td>150666.666667</td>\n",
       "      <td>147333.333333</td>\n",
       "      <td>0.996531</td>\n",
       "      <td>0.102865</td>\n",
       "      <td>0.988177</td>\n",
       "      <td>1.008177</td>\n",
       "    </tr>\n",
       "  </tbody>\n",
       "</table>\n",
       "</div>"
      ],
      "text/plain": [
       "          end_time      high_freq       low_freq   start_time     duration  \\\n",
       "count  6242.000000    6242.000000    6242.000000  6242.000000  6242.000000   \n",
       "mean      0.496609   82591.596853   44101.257813     0.484339     0.012270   \n",
       "std       0.285968   25129.398756   20204.163371     0.285923     0.015195   \n",
       "min       0.006974   21748.535156   15625.000000     0.001799     0.001805   \n",
       "25%       0.251055   61523.437500   28320.312500     0.238316     0.004937   \n",
       "50%       0.493318   84000.000000   35644.531250     0.480982     0.006172   \n",
       "75%       0.742767  104478.149414   53710.937500     0.729807     0.008641   \n",
       "max       0.999875  150666.666667  147333.333333     0.996531     0.102865   \n",
       "\n",
       "        trimInTime  trimOutTime  \n",
       "count  6242.000000  6242.000000  \n",
       "mean      0.480497     0.500497  \n",
       "std       0.285806     0.285806  \n",
       "min       0.000000     0.020000  \n",
       "25%       0.235054     0.255054  \n",
       "50%       0.477763     0.497763  \n",
       "75%       0.726078     0.746078  \n",
       "max       0.988177     1.008177  "
      ]
     },
     "execution_count": 6,
     "metadata": {},
     "output_type": "execute_result"
    }
   ],
   "source": [
    "duration = df['end_time'] - df['start_time']\n",
    "\n",
    "df['duration'] = duration\n",
    "\n",
    "trimInTime = []\n",
    "trimOutTime = []\n",
    "\n",
    "for index, row in df.iterrows():\n",
    "    startTime = row['start_time']\n",
    "    endTime   = row['end_time']\n",
    "    middleTime = (endTime + startTime) / 2\n",
    "    if(middleTime - 0.01 > 0):\n",
    "        trimInTime.append(middleTime - 0.01)\n",
    "        trimOutTime.append(middleTime + 0.01)\n",
    "    else:\n",
    "        trimInTime.append(0)\n",
    "        trimOutTime.append(0.02)\n",
    "        \n",
    "df['trimInTime'] = trimInTime\n",
    "df['trimOutTime'] = trimOutTime\n",
    "\n",
    "df.describe()"
   ]
  },
  {
   "cell_type": "code",
   "execution_count": 7,
   "metadata": {},
   "outputs": [
    {
     "ename": "FileNotFoundError",
     "evalue": "[Errno 2] No such file or directory: 'example_audio/bat_data_martyn_2018/BARBAR_20180723_213212-BARBAR-LR_0_1.0.wav'",
     "output_type": "error",
     "traceback": [
      "\u001b[0;31m---------------------------------------------------------------------------\u001b[0m",
      "\u001b[0;31mFileNotFoundError\u001b[0m                         Traceback (most recent call last)",
      "\u001b[0;32m<ipython-input-7-8f8d0a5789a1>\u001b[0m in \u001b[0;36m<module>\u001b[0;34m\u001b[0m\n\u001b[1;32m      2\u001b[0m \u001b[0;34m\u001b[0m\u001b[0m\n\u001b[1;32m      3\u001b[0m \u001b[0;32mfor\u001b[0m \u001b[0mfilename\u001b[0m \u001b[0;32min\u001b[0m \u001b[0mdf\u001b[0m\u001b[0;34m[\u001b[0m\u001b[0;34m'id'\u001b[0m\u001b[0;34m]\u001b[0m\u001b[0;34m.\u001b[0m\u001b[0munique\u001b[0m\u001b[0;34m(\u001b[0m\u001b[0;34m)\u001b[0m\u001b[0;34m:\u001b[0m\u001b[0;34m\u001b[0m\u001b[0;34m\u001b[0m\u001b[0m\n\u001b[0;32m----> 4\u001b[0;31m     \u001b[0mfs\u001b[0m\u001b[0;34m,\u001b[0m \u001b[0mx\u001b[0m \u001b[0;34m=\u001b[0m \u001b[0mwavfile\u001b[0m\u001b[0;34m.\u001b[0m\u001b[0mread\u001b[0m\u001b[0;34m(\u001b[0m\u001b[0maudio_dir\u001b[0m \u001b[0;34m+\u001b[0m \u001b[0mfilename\u001b[0m\u001b[0;34m)\u001b[0m\u001b[0;34m\u001b[0m\u001b[0;34m\u001b[0m\u001b[0m\n\u001b[0m\u001b[1;32m      5\u001b[0m     \u001b[0mfileDuration\u001b[0m \u001b[0;34m=\u001b[0m \u001b[0mx\u001b[0m\u001b[0;34m.\u001b[0m\u001b[0mshape\u001b[0m\u001b[0;34m[\u001b[0m\u001b[0;36m0\u001b[0m\u001b[0;34m]\u001b[0m\u001b[0;34m/\u001b[0m\u001b[0mfs\u001b[0m\u001b[0;34m\u001b[0m\u001b[0;34m\u001b[0m\u001b[0m\n\u001b[1;32m      6\u001b[0m     \u001b[0mspec\u001b[0m \u001b[0;34m=\u001b[0m \u001b[0mgen_mag_spectrogram\u001b[0m\u001b[0;34m(\u001b[0m\u001b[0mx\u001b[0m\u001b[0;34m,\u001b[0m \u001b[0;36m1024\u001b[0m\u001b[0;34m,\u001b[0m \u001b[0;36m768\u001b[0m\u001b[0;34m)\u001b[0m\u001b[0;34m\u001b[0m\u001b[0;34m\u001b[0m\u001b[0m\n",
      "\u001b[0;32m/usr/lib/python3/dist-packages/scipy/io/wavfile.py\u001b[0m in \u001b[0;36mread\u001b[0;34m(filename, mmap)\u001b[0m\n\u001b[1;32m    231\u001b[0m         \u001b[0mmmap\u001b[0m \u001b[0;34m=\u001b[0m \u001b[0;32mFalse\u001b[0m\u001b[0;34m\u001b[0m\u001b[0;34m\u001b[0m\u001b[0m\n\u001b[1;32m    232\u001b[0m     \u001b[0;32melse\u001b[0m\u001b[0;34m:\u001b[0m\u001b[0;34m\u001b[0m\u001b[0;34m\u001b[0m\u001b[0m\n\u001b[0;32m--> 233\u001b[0;31m         \u001b[0mfid\u001b[0m \u001b[0;34m=\u001b[0m \u001b[0mopen\u001b[0m\u001b[0;34m(\u001b[0m\u001b[0mfilename\u001b[0m\u001b[0;34m,\u001b[0m \u001b[0;34m'rb'\u001b[0m\u001b[0;34m)\u001b[0m\u001b[0;34m\u001b[0m\u001b[0;34m\u001b[0m\u001b[0m\n\u001b[0m\u001b[1;32m    234\u001b[0m \u001b[0;34m\u001b[0m\u001b[0m\n\u001b[1;32m    235\u001b[0m     \u001b[0;32mtry\u001b[0m\u001b[0;34m:\u001b[0m\u001b[0;34m\u001b[0m\u001b[0;34m\u001b[0m\u001b[0m\n",
      "\u001b[0;31mFileNotFoundError\u001b[0m: [Errno 2] No such file or directory: 'example_audio/bat_data_martyn_2018/BARBAR_20180723_213212-BARBAR-LR_0_1.0.wav'"
     ]
    }
   ],
   "source": [
    "trimmed_data = []\n",
    "\n",
    "for filename in df['id'].unique():\n",
    "    fs, x = wavfile.read(audio_dir + filename)\n",
    "    fileDuration = x.shape[0]/fs\n",
    "    spec = gen_mag_spectrogram(x, 1024, 768)\n",
    "    \n",
    "    for index, row in df[df['id'] == filename].iterrows():\n",
    "        startNum = int(row['trimInTime']/fileDuration * spec.shape[0])\n",
    "        endNum   = int(row['trimOutTime']/fileDuration * spec.shape[0])\n",
    "        \n",
    "        trimmed_data.append(spec[0:spec.shape[0],startNum:endNum])\n",
    "    \n",
    "    \n"
   ]
  },
  {
   "cell_type": "code",
   "execution_count": 8,
   "metadata": {},
   "outputs": [],
   "source": [
    "df['data'] = trimmed_data"
   ]
  },
  {
   "cell_type": "code",
   "execution_count": null,
   "metadata": {},
   "outputs": [],
   "source": []
  },
  {
   "cell_type": "code",
   "execution_count": 9,
   "metadata": {},
   "outputs": [
    {
     "ename": "SyntaxError",
     "evalue": "unmatched '}' (70646322.py, line 1)",
     "output_type": "error",
     "traceback": [
      "\u001b[0;36m  Input \u001b[0;32mIn [9]\u001b[0;36m\u001b[0m\n\u001b[0;31m    }\u001b[0m\n\u001b[0m    ^\u001b[0m\n\u001b[0;31mSyntaxError\u001b[0m\u001b[0;31m:\u001b[0m unmatched '}'\n"
     ]
    }
   ],
   "source": []
  }
 ],
 "metadata": {
  "kernelspec": {
   "display_name": "Python 3",
   "language": "python",
   "name": "python3"
  },
  "language_info": {
   "codemirror_mode": {
    "name": "ipython",
    "version": 3
   },
   "file_extension": ".py",
   "mimetype": "text/x-python",
   "name": "python",
   "nbconvert_exporter": "python",
   "pygments_lexer": "ipython3",
   "version": "3.8.10"
  }
 },
 "nbformat": 4,
 "nbformat_minor": 5
}
